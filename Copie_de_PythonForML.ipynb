{
  "nbformat": 4,
  "nbformat_minor": 0,
  "metadata": {
    "colab": {
      "name": "Copie de PythonForML.ipynb",
      "provenance": [],
      "collapsed_sections": []
    },
    "kernelspec": {
      "name": "python3",
      "display_name": "Python 3"
    },
    "language_info": {
      "name": "python"
    }
  },
  "cells": [
    {
      "cell_type": "markdown",
      "source": [
        "**Connect to google drive**\n"
      ],
      "metadata": {
        "id": "Sb9y4GNVQDsi"
      }
    },
    {
      "cell_type": "code",
      "source": [
        "from google.colab import drive\n",
        "drive.mount('/content/gdrive')\n",
        "titanic='/content/gdrive/MyDrive/Colab Notebooks/Titanic.csv'"
      ],
      "metadata": {
        "colab": {
          "base_uri": "https://localhost:8080/"
        },
        "id": "u1p6DO8UQVXN",
        "outputId": "0ee73ed0-7c44-4aa9-8138-acac9bdb7fe6"
      },
      "execution_count": null,
      "outputs": [
        {
          "output_type": "stream",
          "name": "stdout",
          "text": [
            "Drive already mounted at /content/gdrive; to attempt to forcibly remount, call drive.mount(\"/content/gdrive\", force_remount=True).\n"
          ]
        }
      ]
    },
    {
      "cell_type": "markdown",
      "source": [
        "# **Vectors, Matrices and Arrays**"
      ],
      "metadata": {
        "id": "gYFAtEr7LC6X"
      }
    },
    {
      "cell_type": "markdown",
      "source": [
        "\n",
        "\n",
        "**Problem 1** \n",
        "You need to create a vector\n",
        "\n",
        "**Solution**\n",
        "Use NumPy to create a one-dimensional array:\n"
      ],
      "metadata": {
        "id": "pOdvET1gf-cE"
      }
    },
    {
      "cell_type": "code",
      "source": [
        "# Load library\n",
        "import numpy as np\n",
        "# Create a vector as a row\n",
        "vector_row = np.array([1, 2, 3])\n",
        "# Create a vector as a column\n",
        "vector_column = np.array([[1],\n",
        " [2],\n",
        "[3]])"
      ],
      "metadata": {
        "id": "p9kCuVjlf8Iu"
      },
      "execution_count": null,
      "outputs": []
    },
    {
      "cell_type": "markdown",
      "source": [
        "**Problem 2:**\n",
        "You need to create a matrix.\n",
        "\n",
        "**Solution**\n",
        "Use NumPy to create a two-dimensional array:"
      ],
      "metadata": {
        "id": "IoN0UkBGgTp8"
      }
    },
    {
      "cell_type": "code",
      "execution_count": null,
      "metadata": {
        "id": "uKG4mnd-fqK-"
      },
      "outputs": [],
      "source": [
        "# Load library\n",
        "import numpy as np\n",
        "# Create a matrix\n",
        "matrix = np.array([[1, 2],\n",
        " [1, 2],\n",
        " [1, 2]])\n"
      ]
    },
    {
      "cell_type": "code",
      "source": [
        "#the matrix data structure is not recommended for two reasons. First, arrays\n",
        "#are the de facto standard data structure of NumPy. Second, the vast majority of\n",
        "#NumPy operations return arrays, not matrix objects.\n",
        "\n",
        "matrix_object = np.mat([[1, 2],\n",
        " [1, 2],\n",
        " [1, 2]])"
      ],
      "metadata": {
        "id": "cKsBfCMCglu2"
      },
      "execution_count": null,
      "outputs": []
    },
    {
      "cell_type": "markdown",
      "source": [
        "**Problem 3:**\n",
        "Given data with very few nonzero values, you want to efficiently represent it.\n",
        "\n",
        "**Solution:**\n",
        "Create a sparse matrix:"
      ],
      "metadata": {
        "id": "3X30F-hBgvJt"
      }
    },
    {
      "cell_type": "code",
      "source": [
        "# Load libraries\n",
        "import numpy as np\n",
        "from scipy import sparse\n",
        "# Create a matrix\n",
        "matrix = np.array([[0, 0],\n",
        " [0, 1],\n",
        " [3, 0]])\n",
        "# Create compressed sparse row (CSR) matrix\n",
        "matrix_sparse = sparse.csr_matrix(matrix)\n",
        "\n",
        "# View sparse matrix\n",
        "print(matrix_sparse)"
      ],
      "metadata": {
        "colab": {
          "base_uri": "https://localhost:8080/"
        },
        "id": "9uUV-_W5g4-n",
        "outputId": "d5ef6524-e716-4295-ce48-6938b91cae4a"
      },
      "execution_count": null,
      "outputs": [
        {
          "output_type": "stream",
          "name": "stdout",
          "text": [
            "  (1, 1)\t1\n",
            "  (2, 0)\t3\n"
          ]
        }
      ]
    },
    {
      "cell_type": "markdown",
      "source": [
        "**Discussion**\n",
        "A frequent situation in machine learning is having a huge amount of data; however,\n",
        "most of the elements in the data are zeros. For example, imagine a matrix where the\n",
        "columns are every movie on Netflix, the rows are every Netflix user, and the values\n",
        "are how many times a user has watched that particular movie. This matrix would\n",
        "have tens of thousands of columns and millions of rows! However, since most users\n",
        "do not watch most movies, the vast majority of elements would be zero.\n",
        "Sparse matrices only store nonzero elements and assume all other values will be zero,\n",
        "leading to significant computational savings. In our solution, we created a NumPy\n",
        "array with two nonzero values, then converted it into a sparse matrix. \n",
        "\n",
        "There are a number of types of sparse matrices. However, in compressed sparse row\n",
        "(CSR) matrices, (1, 1) and (2, 0) represent the (zero-indexed) indices of the nonzero values 1 and 3, respectively. For example, the element 1 is in the second row and\n",
        "second column. We can see the advantage of sparse matrices if we create a much\n",
        "larger matrix with many more zero elements and then compare this larger matrix\n",
        "with our original sparse matrix:\n",
        "\n",
        "As we can see, despite the fact that we added many more zero elements in the larger\n",
        "matrix, its sparse representation is exactly the same as our original sparse matrix.\n",
        "That is, the addition of zero elements did not change the size of the sparse matrix.\n",
        "As mentioned, there are many different types of sparse matrices, such as compressed\n",
        "sparse column, list of lists, and dictionary of keys. While an explanation of the differ‐\n",
        "ent types and their implications is outside the scope of this book, it is worth noting\n",
        "that while there is no “best” sparse matrix type, there are meaningful differences\n",
        "between them and we should be conscious about why we are choosing one type over\n",
        "another"
      ],
      "metadata": {
        "id": "Uf6bSGcLhGdC"
      }
    },
    {
      "cell_type": "code",
      "source": [
        "# Create larger matrix\n",
        "matrix_large = np.array([[0, 0, 0, 0, 0, 0, 0, 0, 0, 0],\n",
        " [0, 1, 0, 0, 0, 0, 0, 0, 0, 0],\n",
        " [3, 0, 0, 0, 0, 0, 0, 0, 0, 0]])\n",
        "# Create compressed sparse row (CSR) matrix\n",
        "matrix_large_sparse = sparse.csr_matrix(matrix_large)\n",
        "# View original sparse matrix\n",
        "print(matrix_sparse)\n",
        "\n",
        "\n",
        "# View larger sparse matrix\n",
        "print(matrix_large_sparse)\n"
      ],
      "metadata": {
        "colab": {
          "base_uri": "https://localhost:8080/"
        },
        "id": "UkwIJnpNhquM",
        "outputId": "fc0289a5-6c97-41e4-9932-f43369e12640"
      },
      "execution_count": null,
      "outputs": [
        {
          "output_type": "stream",
          "name": "stdout",
          "text": [
            "  (1, 1)\t1\n",
            "  (2, 0)\t3\n",
            "  (1, 1)\t1\n",
            "  (2, 0)\t3\n"
          ]
        }
      ]
    },
    {
      "cell_type": "markdown",
      "source": [
        "**Problem**\n",
        "You need to select one or more elements in a vector or matrix.\n",
        "\n",
        "**Solution**\n",
        "NumPy’s arrays make that easy:"
      ],
      "metadata": {
        "id": "8yE4dzpvh0bC"
      }
    },
    {
      "cell_type": "code",
      "source": [
        "# Load library\n",
        "import numpy as np\n",
        "# Create row vector\n",
        "vector = np.array([1, 2, 3, 4, 5, 6])\n",
        "\n",
        "# Create matrix\n",
        "matrix = np.array([[1, 2, 3],\n",
        " [4, 5, 6],\n",
        " [7, 8, 9]])\n",
        "\n",
        "\n",
        "# Select third element of vector\n",
        "vector[2]\n",
        "\n",
        "# Select second row, second column\n",
        "matrix[1,1]\n"
      ],
      "metadata": {
        "colab": {
          "base_uri": "https://localhost:8080/"
        },
        "id": "VOpSpR00hFPj",
        "outputId": "2cf34f12-e33f-4c1d-ba7f-0aa964e21134"
      },
      "execution_count": null,
      "outputs": [
        {
          "output_type": "execute_result",
          "data": {
            "text/plain": [
              "5"
            ]
          },
          "metadata": {},
          "execution_count": 6
        }
      ]
    },
    {
      "cell_type": "markdown",
      "source": [
        "**Indexing and slicing**"
      ],
      "metadata": {
        "id": "SWr98XqhiJic"
      }
    },
    {
      "cell_type": "code",
      "source": [
        "# Select all elements of a vector\n",
        "vector[:]\n",
        "\n",
        "\n",
        "# Select everything up to and including the third element\n",
        "vector[:3]\n",
        "\n",
        "# Select everything after the third element\n",
        "vector[3:]\n",
        "\n",
        "# Select the last element\n",
        "vector[-1]\n",
        "\n",
        "# Select the first two rows and all columns of a matrix\n",
        "matrix[:2,:]\n",
        "\n",
        "# Select all rows and the second column\n",
        "matrix[:,1:2]"
      ],
      "metadata": {
        "colab": {
          "base_uri": "https://localhost:8080/"
        },
        "id": "UdmTQSzNiIPK",
        "outputId": "0c3c86bc-fcd6-499a-94f7-1bc9c030edf5"
      },
      "execution_count": null,
      "outputs": [
        {
          "output_type": "execute_result",
          "data": {
            "text/plain": [
              "array([[2],\n",
              "       [5],\n",
              "       [8]])"
            ]
          },
          "metadata": {},
          "execution_count": 7
        }
      ]
    },
    {
      "cell_type": "markdown",
      "source": [
        "**Problem**\n",
        "You want to describe the shape, size, and dimensions of the matrix.\n",
        "\n",
        "**Solution**\n",
        "Use shape, size, and ndim:"
      ],
      "metadata": {
        "id": "bBd4-sQ4irK0"
      }
    },
    {
      "cell_type": "code",
      "source": [
        "# Load library\n",
        "import numpy as np\n",
        "# Create matrix\n",
        "matrix = np.array([[1, 2, 3, 4],\n",
        " [5, 6, 7, 8],\n",
        " [9, 10, 11, 12]])\n",
        "\n",
        "# View number of rows and columns\n",
        "matrix.shape\n",
        "\n",
        "# View number of elements (rows * columns)\n",
        "matrix.size\n",
        "\n",
        "# View number of dimensions\n",
        "matrix.ndim"
      ],
      "metadata": {
        "colab": {
          "base_uri": "https://localhost:8080/"
        },
        "id": "w9kAKv4jiweU",
        "outputId": "b1f473c7-751c-4876-d535-1a2c1a88d025"
      },
      "execution_count": null,
      "outputs": [
        {
          "output_type": "execute_result",
          "data": {
            "text/plain": [
              "2"
            ]
          },
          "metadata": {},
          "execution_count": 8
        }
      ]
    },
    {
      "cell_type": "markdown",
      "source": [
        "**Problem**\n",
        "You want to apply some function to multiple elements in an array.\n",
        "\n",
        "**Solution**\n",
        "Use NumPy’s vectorize:"
      ],
      "metadata": {
        "id": "gdROxjlni20y"
      }
    },
    {
      "cell_type": "code",
      "source": [
        "# Load library\n",
        "import numpy as np\n",
        "# Create matrix\n",
        "matrix = np.array([[1, 2, 3],\n",
        " [4, 5, 6],\n",
        " [7, 8, 9]])\n",
        "\n",
        "# Create function that adds 100 to something\n",
        "add_100 = lambda i: i + 100\n",
        "\n",
        "# Create vectorized function\n",
        "vectorized_add_100 = np.vectorize(add_100)\n",
        "\n",
        "# Apply function to all elements in matrix\n",
        "vectorized_add_100(matrix)"
      ],
      "metadata": {
        "colab": {
          "base_uri": "https://localhost:8080/"
        },
        "id": "BDqJxI4ji-gR",
        "outputId": "3c229c7b-1d73-4f4b-a496-05ff45ffd638"
      },
      "execution_count": null,
      "outputs": [
        {
          "output_type": "execute_result",
          "data": {
            "text/plain": [
              "array([[101, 102, 103],\n",
              "       [104, 105, 106],\n",
              "       [107, 108, 109]])"
            ]
          },
          "metadata": {},
          "execution_count": 9
        }
      ]
    },
    {
      "cell_type": "markdown",
      "source": [
        "**Broadcasting**"
      ],
      "metadata": {
        "id": "C_T4ZgmqjI8Y"
      }
    },
    {
      "cell_type": "code",
      "source": [
        "# Add 100 to all elements\n",
        "matrix + 100"
      ],
      "metadata": {
        "colab": {
          "base_uri": "https://localhost:8080/"
        },
        "id": "nKuYpmNejEr_",
        "outputId": "34865c57-587d-4c16-c9a0-e2de5ef55ccd"
      },
      "execution_count": null,
      "outputs": [
        {
          "output_type": "execute_result",
          "data": {
            "text/plain": [
              "array([[101, 102, 103],\n",
              "       [104, 105, 106],\n",
              "       [107, 108, 109]])"
            ]
          },
          "metadata": {},
          "execution_count": 10
        }
      ]
    },
    {
      "cell_type": "markdown",
      "source": [
        "**Problem**\n",
        "You need to find the maximum or minimum value in an array.\n",
        "\n",
        "**Solution**\n",
        "Use NumPy’s max and min:"
      ],
      "metadata": {
        "id": "DdgYpsmEjNbG"
      }
    },
    {
      "cell_type": "code",
      "source": [
        "# Load library\n",
        "import numpy as np\n",
        "# Create matrix\n",
        "matrix = np.array([[1, 2, 3],\n",
        " [4, 5, 6],\n",
        " [7, 8, 9]])\n",
        "\n",
        "# Return maximum element\n",
        "np.max(matrix)\n",
        "\n",
        "# Return minimum element\n",
        "np.min(matrix)"
      ],
      "metadata": {
        "colab": {
          "base_uri": "https://localhost:8080/"
        },
        "id": "7n3-cpXajRqE",
        "outputId": "436b9a57-5707-4465-b6f9-ee9d3e1a589f"
      },
      "execution_count": null,
      "outputs": [
        {
          "output_type": "execute_result",
          "data": {
            "text/plain": [
              "1"
            ]
          },
          "metadata": {},
          "execution_count": 11
        }
      ]
    },
    {
      "cell_type": "code",
      "source": [
        "# Find maximum element in each column\n",
        "np.max(matrix, axis=0)\n",
        "\n",
        "# Find maximum element in each row\n",
        "np.max(matrix, axis=1)"
      ],
      "metadata": {
        "colab": {
          "base_uri": "https://localhost:8080/"
        },
        "id": "9fW8X76_jWoH",
        "outputId": "1a5226d4-773f-443d-d00d-e3761f8690d9"
      },
      "execution_count": null,
      "outputs": [
        {
          "output_type": "execute_result",
          "data": {
            "text/plain": [
              "array([3, 6, 9])"
            ]
          },
          "metadata": {},
          "execution_count": 13
        }
      ]
    },
    {
      "cell_type": "markdown",
      "source": [
        "**Problem**\n",
        "You want to calculate some descriptive statistics about an array.\n",
        "\n",
        "**Solution**\n",
        "Use NumPy’s mean, var, and std:"
      ],
      "metadata": {
        "id": "EFT0iJfcjZxb"
      }
    },
    {
      "cell_type": "code",
      "source": [
        "# Load library\n",
        "import numpy as np\n",
        "# Create matrix\n",
        "matrix = np.array([[1, 2, 3],\n",
        " [4, 5, 6],\n",
        " [7, 8, 9]])\n",
        "\n",
        "# Return mean\n",
        "np.mean(matrix)\n",
        "\n",
        "# Return variance\n",
        "np.var(matrix)\n",
        "\n",
        "# Return standard deviation\n",
        "np.std(matrix)\n",
        "\n",
        "# Find the mean value in each column\n",
        "np.mean(matrix, axis=0)"
      ],
      "metadata": {
        "colab": {
          "base_uri": "https://localhost:8080/"
        },
        "id": "SKwBLTPAjcvl",
        "outputId": "ee58aaa8-a6f9-4c56-a7ca-54e944b58bcf"
      },
      "execution_count": null,
      "outputs": [
        {
          "output_type": "execute_result",
          "data": {
            "text/plain": [
              "array([4., 5., 6.])"
            ]
          },
          "metadata": {},
          "execution_count": 14
        }
      ]
    },
    {
      "cell_type": "markdown",
      "source": [
        "**Problem**\n",
        "You want to change the shape (number of rows and columns) of an array without changing the element values.\n",
        "\n",
        "**Solution** Use NumPy’s reshape:\n"
      ],
      "metadata": {
        "id": "RXYtSdC_joIx"
      }
    },
    {
      "cell_type": "code",
      "source": [
        "# Load library\n",
        "import numpy as np\n",
        "# Create 4x3 matrix\n",
        "matrix = np.array([[1, 2, 3],\n",
        " [4, 5, 6],\n",
        " [7, 8, 9],\n",
        " [10, 11, 12]])\n",
        "\n",
        "# Reshape matrix into 2x6 matrix\n",
        "matrix.reshape(2, 6)\n",
        "\n",
        "# the shape of the original and new matrix contain the same number of elements (i.e., the same size).\n",
        "matrix.size\n",
        "\n",
        "# One useful argument in reshape is -1, which effectively means “as many as needed,”\n",
        "matrix.reshape(1, -1)\n",
        "\n",
        "# Finally, if we provide one integer, reshape will return a 1D array of that length:\n",
        "s=matrix.size\n",
        "matrix.reshape(s)"
      ],
      "metadata": {
        "colab": {
          "base_uri": "https://localhost:8080/"
        },
        "id": "_UUXrJNNjv_v",
        "outputId": "caa6b480-2c33-4fc4-f181-d8aa77d83c69"
      },
      "execution_count": null,
      "outputs": [
        {
          "output_type": "execute_result",
          "data": {
            "text/plain": [
              "array([ 1,  2,  3,  4,  5,  6,  7,  8,  9, 10, 11, 12])"
            ]
          },
          "metadata": {},
          "execution_count": 15
        }
      ]
    },
    {
      "cell_type": "markdown",
      "source": [
        "**Problem**\n",
        "You need to transpose a vector or matrix.\n",
        "\n",
        "**Solution**\n",
        "Use the T method\n",
        "\n",
        "*Transposing is a common operation in linear algebra where the column and rowindices of each element are swapped*"
      ],
      "metadata": {
        "id": "kBcpKqdvkP3u"
      }
    },
    {
      "cell_type": "code",
      "source": [
        "# Load library\n",
        "import numpy as np\n",
        "# Create matrix\n",
        "matrix = np.array([[1, 2, 3],\n",
        " [4, 5, 6],\n",
        " [7, 8, 9]])\n",
        "# Transpose matrix\n",
        "matrix.T\n",
        "\n",
        "# Transpose vector (doesn't make sense)\n",
        "np.array([1, 2, 3, 4, 5, 6]).T\n",
        "\n",
        "# Tranpose row vector\n",
        "np.array([[1, 2, 3, 4, 5, 6]]).T"
      ],
      "metadata": {
        "colab": {
          "base_uri": "https://localhost:8080/"
        },
        "id": "r7iAawnEkUDt",
        "outputId": "c4048139-3994-495d-ba14-d5c07f75fe49"
      },
      "execution_count": null,
      "outputs": [
        {
          "output_type": "execute_result",
          "data": {
            "text/plain": [
              "array([[1],\n",
              "       [2],\n",
              "       [3],\n",
              "       [4],\n",
              "       [5],\n",
              "       [6]])"
            ]
          },
          "metadata": {},
          "execution_count": 16
        }
      ]
    },
    {
      "cell_type": "markdown",
      "source": [
        "**Problem**\n",
        "You need to transform a matrix into a one-dimensional array.\n",
        "\n",
        "**Solution**\n",
        "Use flatten\n",
        "\n",
        "*flatten is a simple method to transform a matrix into a one-dimensional array.*"
      ],
      "metadata": {
        "id": "7rUVqyZOqWiv"
      }
    },
    {
      "cell_type": "code",
      "source": [
        "# Load library\n",
        "import numpy as np\n",
        "# Create matrix\n",
        "matrix = np.array([[1, 2, 3],\n",
        " [4, 5, 6],\n",
        " [7, 8, 9]])\n",
        "# Flatten matrix\n",
        "matrix.flatten()\n",
        "\n",
        "#Alternatively, we can use reshape to create a row vector:\n",
        "matrix.reshape(1, -1)"
      ],
      "metadata": {
        "colab": {
          "base_uri": "https://localhost:8080/"
        },
        "id": "BdemqRIpqcRB",
        "outputId": "883ee0bf-c3c1-4a7d-e0dd-f67994831c37"
      },
      "execution_count": null,
      "outputs": [
        {
          "output_type": "execute_result",
          "data": {
            "text/plain": [
              "array([[1, 2, 3, 4, 5, 6, 7, 8, 9]])"
            ]
          },
          "metadata": {},
          "execution_count": 17
        }
      ]
    },
    {
      "cell_type": "markdown",
      "source": [
        "**Problem**\n",
        "You need to know the rank of a matrix.\n",
        "\n",
        "**Solution**\n",
        "Use NumPy’s linear algebra method matrix_rank:\n",
        "\n",
        "*The rank of a matrix is the dimensions of the vector space spanned by its columns or\n",
        "rows. Finding the rank of a matrix is easy in NumPy thanks to matrix_rank.*"
      ],
      "metadata": {
        "id": "fj5iBEFbq_um"
      }
    },
    {
      "cell_type": "code",
      "source": [
        "# Load library\n",
        "import numpy as np\n",
        "# Create matrix\n",
        "matrix = np.array([[1, 1, 1],\n",
        " [1, 1, 10],\n",
        " [1, 1, 15]])\n",
        "# Return matrix rank\n",
        "np.linalg.matrix_rank(matrix)"
      ],
      "metadata": {
        "colab": {
          "base_uri": "https://localhost:8080/"
        },
        "id": "IngEohHRrEHr",
        "outputId": "496a403a-1c48-44f6-dcdc-2d7472c9bad1"
      },
      "execution_count": null,
      "outputs": [
        {
          "output_type": "execute_result",
          "data": {
            "text/plain": [
              "2"
            ]
          },
          "metadata": {},
          "execution_count": 18
        }
      ]
    },
    {
      "cell_type": "markdown",
      "source": [
        "**Problem**\n",
        "You need to know the determinant of a matrix\n",
        "\n",
        "**Solution**\n",
        "Use NumPy’s linear algebra method det:"
      ],
      "metadata": {
        "id": "fpxUEqkZrODN"
      }
    },
    {
      "cell_type": "code",
      "source": [
        "# Load library\n",
        "import numpy as np\n",
        "# Create matrix\n",
        "matrix = np.array([[1, 2, 3],\n",
        " [2, 4, 6],\n",
        " [3, 8, 9]])\n",
        "# Return determinant of matrix\n",
        "np.linalg.det(matrix)"
      ],
      "metadata": {
        "colab": {
          "base_uri": "https://localhost:8080/"
        },
        "id": "p3YpaBdvrVEI",
        "outputId": "f6015c0b-0951-4c5a-d221-a926657fc32c"
      },
      "execution_count": null,
      "outputs": [
        {
          "output_type": "execute_result",
          "data": {
            "text/plain": [
              "0.0"
            ]
          },
          "metadata": {},
          "execution_count": 19
        }
      ]
    },
    {
      "cell_type": "markdown",
      "source": [
        "**Problem**\n",
        "You need to get the diagonal elements of a matrix.\n",
        "\n",
        "**Solution**\n",
        "Use diagonal:"
      ],
      "metadata": {
        "id": "l3EGx-iUrZLv"
      }
    },
    {
      "cell_type": "code",
      "source": [
        "# Load library\n",
        "import numpy as np\n",
        "# Create matrix\n",
        "matrix = np.array([[1, 2, 3],\n",
        " [2, 4, 6],\n",
        " [3, 8, 9]])\n",
        "# Return diagonal elements\n",
        "matrix.diagonal()\n",
        "\n",
        "#It is also possible to get a diagonal off from the main diagonal by using the offset parameter:\n",
        "\n",
        "# Return diagonal one above the main diagonal\n",
        "matrix.diagonal(offset=1)\n",
        "\n",
        "# Return diagonal one below the main diagonal\n",
        "matrix.diagonal(offset=-1)"
      ],
      "metadata": {
        "colab": {
          "base_uri": "https://localhost:8080/"
        },
        "id": "848y1j_0rc3z",
        "outputId": "279c2b84-7b77-4479-863d-98e761a7591e"
      },
      "execution_count": null,
      "outputs": [
        {
          "output_type": "execute_result",
          "data": {
            "text/plain": [
              "array([2, 8])"
            ]
          },
          "metadata": {},
          "execution_count": 20
        }
      ]
    },
    {
      "cell_type": "markdown",
      "source": [
        "**Problem**\n",
        "You need to calculate the trace of a matrix.\n",
        "\n",
        "**Solution**\n",
        "Use trace:"
      ],
      "metadata": {
        "id": "6KDPG_hsrrk8"
      }
    },
    {
      "cell_type": "code",
      "source": [
        "# Load library\n",
        "import numpy as np\n",
        "# Create matrix\n",
        "matrix = np.array([[1, 2, 3],\n",
        " [2, 4, 6],\n",
        " [3, 8, 9]])\n",
        "# Return trace\n",
        "matrix.trace()\n",
        "\n",
        "# Return diagonal and sum elements\n",
        "sum(matrix.diagonal())"
      ],
      "metadata": {
        "colab": {
          "base_uri": "https://localhost:8080/"
        },
        "id": "xhBAmy1krvwZ",
        "outputId": "8de415aa-0d3b-4012-d3d8-af58d6a3af21"
      },
      "execution_count": null,
      "outputs": [
        {
          "output_type": "execute_result",
          "data": {
            "text/plain": [
              "14"
            ]
          },
          "metadata": {},
          "execution_count": 21
        }
      ]
    },
    {
      "cell_type": "markdown",
      "source": [
        "**Problem**\n",
        "You need to find the eigenvalues and eigenvectors of a square matrix.\n",
        "\n",
        "**Solution**\n",
        "Use NumPy’s linalg.eig\n",
        "\n",
        "*Eigenvectors are widely used in machine learning libraries. Intuitively, given a linear transformation represented by a matrix, A, eigenvectors are vectors that, when that transformation is applied, change only in scale (not direction). More formally:\n",
        "\n",
        "Av = λv\n",
        "\n",
        "where A is a square matrix, λ contains the eigenvalues and v contains the eigenvectors. In NumPy’s linear algebra toolset, eig lets us calculate the eigenvalues, and\n",
        "eigenvectors of any square matrix.*"
      ],
      "metadata": {
        "id": "UHYnKs5Dr9eF"
      }
    },
    {
      "cell_type": "code",
      "source": [
        "# Load library\n",
        "import numpy as np\n",
        "# Create matrix\n",
        "matrix = np.array([[1, -1, 3],\n",
        " [1, 1, 6],\n",
        " [3, 8, 9]])\n",
        "# Calculate eigenvalues and eigenvectors\n",
        "eigenvalues, eigenvectors = np.linalg.eig(matrix)\n",
        "\n",
        "# View eigenvalues\n",
        "eigenvalues\n",
        "\n",
        "# View eigenvectors\n",
        "eigenvectors"
      ],
      "metadata": {
        "colab": {
          "base_uri": "https://localhost:8080/"
        },
        "id": "mwasnjxXsCiu",
        "outputId": "e84fb76d-6cad-46e9-d580-8a11a075b976"
      },
      "execution_count": null,
      "outputs": [
        {
          "output_type": "execute_result",
          "data": {
            "text/plain": [
              "array([[-0.17622017, -0.96677403, -0.53373322],\n",
              "       [-0.435951  ,  0.2053623 , -0.64324848],\n",
              "       [-0.88254925,  0.15223105,  0.54896288]])"
            ]
          },
          "metadata": {},
          "execution_count": 22
        }
      ]
    },
    {
      "cell_type": "markdown",
      "source": [
        "**Problem**\n",
        "You need to calculate the dot product of two vectors.\n",
        "\n",
        "**Solution**\n",
        "Use NumPy’s dot:\n",
        "\n"
      ],
      "metadata": {
        "id": "UeHnbUsbsWAo"
      }
    },
    {
      "cell_type": "code",
      "source": [
        "# Load library\n",
        "import numpy as np\n",
        "# Create two vectors\n",
        "vector_a = np.array([1,2,3])\n",
        "vector_b = np.array([4,5,6])\n",
        "\n",
        "# Calculate dot product\n",
        "np.dot(vector_a, vector_b)\n",
        "\n",
        "# Calculate dot product ( in Python 3.5+ we can use the new @ operator )\n",
        "vector_a @ vector_b"
      ],
      "metadata": {
        "colab": {
          "base_uri": "https://localhost:8080/"
        },
        "id": "Q8K-nbAosZQc",
        "outputId": "e6c222f9-cf7c-4914-c55d-504c80401dac"
      },
      "execution_count": null,
      "outputs": [
        {
          "output_type": "execute_result",
          "data": {
            "text/plain": [
              "32"
            ]
          },
          "metadata": {},
          "execution_count": 23
        }
      ]
    },
    {
      "cell_type": "markdown",
      "source": [
        "**Problem**\n",
        "You want to add or subtract two matrices.\n",
        "\n",
        "**Solution**\n",
        "Use NumPy’s add and subtract:"
      ],
      "metadata": {
        "id": "aFI10D5dsqjt"
      }
    },
    {
      "cell_type": "code",
      "source": [
        "# Load library\n",
        "import numpy as np\n",
        "\n",
        "# Create matrix\n",
        "matrix_a = np.array([[1, 1, 1],\n",
        " [1, 1, 1],\n",
        " [1, 1, 2]])\n",
        "\n",
        "# Create matrix\n",
        "matrix_b = np.array([[1, 3, 1],\n",
        " [1, 3, 1],\n",
        " [1, 3, 8]])\n",
        "\n",
        "# Add two matrices\n",
        "np.add(matrix_a, matrix_b)\n",
        "\n",
        "\n",
        "# Subtract two matrices\n",
        "np.subtract(matrix_a, matrix_b)\n",
        "\n",
        "# Add two matrices\n",
        "matrix_a + matrix_b"
      ],
      "metadata": {
        "colab": {
          "base_uri": "https://localhost:8080/"
        },
        "id": "tN5zDjcZswBX",
        "outputId": "c804f39f-6d37-497d-81d4-8965e3bcdb72"
      },
      "execution_count": null,
      "outputs": [
        {
          "output_type": "execute_result",
          "data": {
            "text/plain": [
              "array([[ 2,  4,  2],\n",
              "       [ 2,  4,  2],\n",
              "       [ 2,  4, 10]])"
            ]
          },
          "metadata": {},
          "execution_count": 24
        }
      ]
    },
    {
      "cell_type": "markdown",
      "source": [
        "**Problem**\n",
        "You want to multiply two matrices.\n",
        "\n",
        "**Solution**\n",
        "Use NumPy’s dot:"
      ],
      "metadata": {
        "id": "jzjTK2dSs8x6"
      }
    },
    {
      "cell_type": "code",
      "source": [
        "# Load library\n",
        "import numpy as np\n",
        "# Create matrix\n",
        "matrix_a = np.array([[1, 1],[1, 2]])\n",
        "\n",
        "# Create matrix\n",
        "matrix_b = np.array([[1, 3],[1, 2]])\n",
        "\n",
        "# Multiply two matrices\n",
        "np.dot(matrix_a, matrix_b)\n",
        "\n",
        "# Multiply two matrices\n",
        "matrix_a @ matrix_b\n",
        "\n",
        "# Multiply two matrices element-wise\n",
        "matrix_a * matrix_b"
      ],
      "metadata": {
        "colab": {
          "base_uri": "https://localhost:8080/"
        },
        "id": "5CqdbIxHtAHA",
        "outputId": "d45fc7b8-1faa-4b6e-a30a-84453a034cc1"
      },
      "execution_count": null,
      "outputs": [
        {
          "output_type": "execute_result",
          "data": {
            "text/plain": [
              "array([[1, 3],\n",
              "       [1, 4]])"
            ]
          },
          "metadata": {},
          "execution_count": 25
        }
      ]
    },
    {
      "cell_type": "markdown",
      "source": [
        "**Problem**\n",
        "You want to calculate the inverse of a square matrix.\n",
        "\n",
        "**Solution**\n",
        "Use NumPy’s linear algebra inv method:"
      ],
      "metadata": {
        "id": "ZM-ZvfxKtS-C"
      }
    },
    {
      "cell_type": "code",
      "source": [
        "# Load library\n",
        "import numpy as np\n",
        "# Create matrix\n",
        "matrix = np.array([[1, 4],[2, 5]])\n",
        "\n",
        "# Calculate inverse of matrix\n",
        "np.linalg.inv(matrix)"
      ],
      "metadata": {
        "colab": {
          "base_uri": "https://localhost:8080/"
        },
        "id": "MjRLw16CtXn4",
        "outputId": "59dada9e-3f62-465f-fc10-2cf803dfb3c3"
      },
      "execution_count": null,
      "outputs": [
        {
          "output_type": "execute_result",
          "data": {
            "text/plain": [
              "array([[-1.66666667,  1.33333333],\n",
              "       [ 0.66666667, -0.33333333]])"
            ]
          },
          "metadata": {},
          "execution_count": 26
        }
      ]
    },
    {
      "cell_type": "markdown",
      "source": [
        "The inverse of a square matrix, A, is a second matrix A–1, such that:\n",
        "\n",
        "AA^-1 = I\n",
        "\n",
        "where I is the identity matrix. In NumPy we can use linalg.inv to calculate A^–1 if it exists. \n",
        "\n",
        "To see this in action, we can multiply a matrix by its inverse and the result is the identity matrix:"
      ],
      "metadata": {
        "id": "cIWGiMVItdNz"
      }
    },
    {
      "cell_type": "code",
      "source": [
        "# Multiply matrix and its inverse\n",
        "matrix @ np.linalg.inv(matrix)"
      ],
      "metadata": {
        "colab": {
          "base_uri": "https://localhost:8080/"
        },
        "id": "UP4ZigIHt48_",
        "outputId": "83e45c29-a127-4f36-f8a3-4357f64bc59d"
      },
      "execution_count": null,
      "outputs": [
        {
          "output_type": "execute_result",
          "data": {
            "text/plain": [
              "array([[1.00000000e+00, 0.00000000e+00],\n",
              "       [1.11022302e-16, 1.00000000e+00]])"
            ]
          },
          "metadata": {},
          "execution_count": 27
        }
      ]
    },
    {
      "cell_type": "markdown",
      "source": [
        "**Problem**\n",
        "You want to generate pseudorandom values.\n",
        "\n",
        "**Solution**\n",
        "Use NumPy’s random:"
      ],
      "metadata": {
        "id": "hH4qKrkztWb7"
      }
    },
    {
      "cell_type": "code",
      "source": [
        "# Load library\n",
        "import numpy as np\n",
        "# Set seed\n",
        "np.random.seed(0)\n",
        "# Generate three random floats between 0.0 and 1.0\n",
        "np.random.random(3)\n",
        "\n",
        "# Generate three random integers between 1 and 10\n",
        "np.random.randint(0, 11, 3)\n",
        "\n",
        "# Draw three numbers from a normal distribution with mean 0.0\n",
        "# and standard deviation of 1.0\n",
        "np.random.normal(0.0, 1.0, 3)\n",
        "\n",
        "# Draw three numbers from a logistic distribution with mean 0.0 and scale of 1.0\n",
        "np.random.logistic(0.0, 1.0, 3)\n",
        "\n",
        "# Draw three numbers greater than or equal to 1.0 and less than 2.0\n",
        "np.random.uniform(1.0, 2.0, 3)\n",
        "\n",
        "#Finally, it can sometimes be useful to return the same random numbers multiple\n",
        "#times to get predictable, repeatable results. We can do this by setting the “seed” (an\n",
        "#integer) of the pseudorandom generator"
      ],
      "metadata": {
        "colab": {
          "base_uri": "https://localhost:8080/"
        },
        "id": "HMSXdyH1t-IU",
        "outputId": "88559919-ed8d-4ebb-ec07-30359f5475df"
      },
      "execution_count": null,
      "outputs": [
        {
          "output_type": "execute_result",
          "data": {
            "text/plain": [
              "array([1.47997717, 1.3927848 , 1.83607876])"
            ]
          },
          "metadata": {},
          "execution_count": 28
        }
      ]
    },
    {
      "cell_type": "markdown",
      "source": [
        "# **Loading Data**"
      ],
      "metadata": {
        "id": "KRE0ysW2LkJc"
      }
    },
    {
      "cell_type": "markdown",
      "source": [
        "\n",
        "\n",
        "**Discussion**\n",
        "\n",
        "Often we do not want to go through the work of loading, transforming, and cleaning\n",
        "a real-world dataset before we can explore some machine learning algorithm or\n",
        "method. Luckily, scikit-learn comes with some common datasets we can quickly load.\n",
        "These datasets are often called “toy” datasets because they are far smaller and cleaner\n",
        "than a dataset we would see in the real world. Some popular sample datasets in scikitlearn are:\n",
        "\n",
        "***load_boston***\n",
        "Contains 503 observations on Boston housing prices. It is a good dataset for\n",
        "exploring regression algorithms.\n",
        "\n",
        "**load_iris**\n",
        "Contains 150 observations on the measurements of Iris flowers. It is a good data‐\n",
        "set for exploring classification algorithms.\n",
        "\n",
        "**load_digits**\n",
        "Contains 1,797 observations from images of handwritten digits. It is a good data‐\n",
        "set for teaching image classification."
      ],
      "metadata": {
        "id": "J0nHFvbFuU4G"
      }
    },
    {
      "cell_type": "markdown",
      "source": [
        "**Problem**\n",
        "You want to load a preexisting sample dataset.\n",
        "\n",
        "**Solution**\n",
        "scikit-learn comes with a number of popular datasets for you to use:"
      ],
      "metadata": {
        "id": "lWzI0IOQuZ-Y"
      }
    },
    {
      "cell_type": "code",
      "source": [
        "# Load scikit-learn's datasets\n",
        "from sklearn import datasets\n",
        "# Load digits dataset\n",
        "digits = datasets.load_digits()\n",
        "\n",
        "# Create features matrix\n",
        "features = digits.data\n",
        "\n",
        "# Create target vector\n",
        "target = digits.target\n",
        "\n",
        "# View first observation\n",
        "features[0]"
      ],
      "metadata": {
        "colab": {
          "base_uri": "https://localhost:8080/"
        },
        "id": "HjzJq8mEudlt",
        "outputId": "38f00be1-479a-4ab4-c17d-dea53daf78b0"
      },
      "execution_count": null,
      "outputs": [
        {
          "output_type": "execute_result",
          "data": {
            "text/plain": [
              "array([ 0.,  0.,  5., 13.,  9.,  1.,  0.,  0.,  0.,  0., 13., 15., 10.,\n",
              "       15.,  5.,  0.,  0.,  3., 15.,  2.,  0., 11.,  8.,  0.,  0.,  4.,\n",
              "       12.,  0.,  0.,  8.,  8.,  0.,  0.,  5.,  8.,  0.,  0.,  9.,  8.,\n",
              "        0.,  0.,  4., 11.,  0.,  1., 12.,  7.,  0.,  0.,  2., 14.,  5.,\n",
              "       10., 12.,  0.,  0.,  0.,  0.,  6., 13., 10.,  0.,  0.,  0.])"
            ]
          },
          "metadata": {},
          "execution_count": 29
        }
      ]
    },
    {
      "cell_type": "markdown",
      "source": [
        "**Problem**\n",
        "You need to generate a dataset of simulated data.\n",
        "\n",
        "**Solution**\n",
        "scikit-learn offers many methods for creating simulated data. Of those, three methods\n",
        "are particularly useful."
      ],
      "metadata": {
        "id": "FbPhrO4wu3uG"
      }
    },
    {
      "cell_type": "code",
      "source": [
        "#When we want a dataset designed to be used with linear regression, make_regression is a good choice:\n",
        "\n",
        "# Load library\n",
        "from sklearn.datasets import make_regression\n",
        "# Generate features matrix, target vector, and the true coefficients\n",
        "features, target, coefficients = make_regression(n_samples = 100,\n",
        " n_features = 3,\n",
        " n_informative = 3,\n",
        " n_targets = 1,\n",
        " noise = 0.0,\n",
        " coef = True,\n",
        " random_state = 1)\n",
        "\n",
        "# View feature matrix and target vector\n",
        "print('Feature Matrix\\n', features[:3])\n",
        "print('Target Vector\\n', target[:3])"
      ],
      "metadata": {
        "colab": {
          "base_uri": "https://localhost:8080/"
        },
        "id": "9OoCxdUyu9Vh",
        "outputId": "67d61287-f7a5-47fc-b85f-9794e110a1c5"
      },
      "execution_count": null,
      "outputs": [
        {
          "output_type": "stream",
          "name": "stdout",
          "text": [
            "Feature Matrix\n",
            " [[ 1.29322588 -0.61736206 -0.11044703]\n",
            " [-2.793085    0.36633201  1.93752881]\n",
            " [ 0.80186103 -0.18656977  0.0465673 ]]\n",
            "Target Vector\n",
            " [-10.37865986  25.5124503   19.67705609]\n"
          ]
        }
      ]
    },
    {
      "cell_type": "code",
      "source": [
        "# If we are interested in creating a simulated dataset for classification, we can use make_classification:\n",
        "\n",
        "# Load library\n",
        "from sklearn.datasets import make_classification\n",
        "# Generate features matrix and target vector\n",
        "features, target = make_classification(n_samples = 100,\n",
        " n_features = 3,\n",
        " n_informative = 3,\n",
        " n_redundant = 0,\n",
        " n_classes = 2,\n",
        " weights = [.25, .75],\n",
        " random_state = 1)\n",
        "\n",
        "# View feature matrix and target vector\n",
        "print('Feature Matrix\\n', features[:3])\n",
        "print('Target Vector\\n', target[:3])"
      ],
      "metadata": {
        "colab": {
          "base_uri": "https://localhost:8080/"
        },
        "id": "8HBdT2j7vE77",
        "outputId": "49bcbe8b-a4ff-42db-a2e3-509bc4d462ba"
      },
      "execution_count": null,
      "outputs": [
        {
          "output_type": "stream",
          "name": "stdout",
          "text": [
            "Feature Matrix\n",
            " [[ 1.06354768 -1.42632219  1.02163151]\n",
            " [ 0.23156977  1.49535261  0.33251578]\n",
            " [ 0.15972951  0.83533515 -0.40869554]]\n",
            "Target Vector\n",
            " [1 0 0]\n"
          ]
        }
      ]
    },
    {
      "cell_type": "markdown",
      "source": [
        "In make_regression and make_classification, n_informative determines the\n",
        "number of features that are used to generate the target vector. If n_informative is less\n",
        "than the total number of features (n_features), the resulting dataset will have redun‐\n",
        "dant features that can be identified through feature selection techniques. \n",
        "\n",
        "make_classification contains a weights parameter that allows us to\n",
        "simulate datasets with imbalanced classes. For example, weights = [.25, .75]\n",
        "would return a dataset with 25% of observations belonging to one class and 75% of\n",
        "observations belonging to a second class."
      ],
      "metadata": {
        "id": "36HkpgsevdUA"
      }
    },
    {
      "cell_type": "code",
      "source": [
        "# Finally, if we want a dataset designed to work well with clustering techniques, scikitlearn offers make_blobs:\n",
        "# Load library\n",
        "from sklearn.datasets import make_blobs\n",
        "# Generate feature matrix and target vector\n",
        "features, target = make_blobs(n_samples = 100,\n",
        " n_features = 2,\n",
        " centers = 3,\n",
        " cluster_std = 0.5,\n",
        " shuffle = True,\n",
        " random_state = 1)\n",
        "\n",
        "# View feature matrix and target vector\n",
        "print('Feature Matrix\\n', features[:3])\n",
        "print('Target Vector\\n', target[:3])"
      ],
      "metadata": {
        "colab": {
          "base_uri": "https://localhost:8080/"
        },
        "id": "kiIxOES7vLAg",
        "outputId": "abdaadb9-732c-4fd9-ec86-983190eb74bb"
      },
      "execution_count": null,
      "outputs": [
        {
          "output_type": "stream",
          "name": "stdout",
          "text": [
            "Feature Matrix\n",
            " [[ -1.22685609   3.25572052]\n",
            " [ -9.57463218  -4.38310652]\n",
            " [-10.71976941  -4.20558148]]\n",
            "Target Vector\n",
            " [0 1 1]\n"
          ]
        }
      ]
    },
    {
      "cell_type": "markdown",
      "source": [
        "For make_blobs, the centers parameter determines the number of clusters generated.\n",
        "Using the matplotlib visualization library, we can visualize the clusters generated by\n",
        "make_blobs:"
      ],
      "metadata": {
        "id": "tG-dGhCUvowh"
      }
    },
    {
      "cell_type": "code",
      "source": [
        "# Load library\n",
        "import matplotlib.pyplot as plt\n",
        "# View scatterplot\n",
        "plt.scatter(features[:,0], features[:,1], c=target)\n",
        "plt.show()"
      ],
      "metadata": {
        "colab": {
          "base_uri": "https://localhost:8080/",
          "height": 267
        },
        "id": "XVWw9D_tvrG-",
        "outputId": "23a6bfdb-0cdb-4c6c-feca-dd31be2513c7"
      },
      "execution_count": null,
      "outputs": [
        {
          "output_type": "display_data",
          "data": {
            "image/png": "[encoded data removed]",
            "text/plain": [
              "<Figure size 432x288 with 1 Axes>"
            ]
          },
          "metadata": {
            "needs_background": "light"
          }
        }
      ]
    },
    {
      "cell_type": "markdown",
      "source": [
        "**Problem**\n",
        "You need to import a comma-separated values (CSV) file.\n",
        "\n",
        "**Solution**\n",
        "Use the pandas library’s read_csv to load a local or hosted CSV file:"
      ],
      "metadata": {
        "id": "fDC2EoG8vt8l"
      }
    },
    {
      "cell_type": "code",
      "source": [
        "# Load library\n",
        "import pandas as pd\n",
        "\n",
        "# Create URL\n",
        "url = titanic\n",
        "\n",
        "# Load dataset\n",
        "dataframe = pd.read_csv(url)\n",
        "\n",
        "# View first two rows\n",
        "dataframe.head(2)"
      ],
      "metadata": {
        "colab": {
          "base_uri": "https://localhost:8080/",
          "height": 112
        },
        "id": "f_sM6r8svtUq",
        "outputId": "7deff6be-35da-46bf-b423-76b107d6ca62"
      },
      "execution_count": null,
      "outputs": [
        {
          "output_type": "execute_result",
          "data": {
            "text/html": [
              "\n",
              "  <div id=\"df-424ab35d-2e48-4e56-b510-94d5da6e1fd0\">\n",
              "    <div class=\"colab-df-container\">\n",
              "      <div>\n",
              "<style scoped>\n",
              "    .dataframe tbody tr th:only-of-type {\n",
              "        vertical-align: middle;\n",
              "    }\n",
              "\n",
              "    .dataframe tbody tr th {\n",
              "        vertical-align: top;\n",
              "    }\n",
              "\n",
              "    .dataframe thead th {\n",
              "        text-align: right;\n",
              "    }\n",
              "</style>\n",
              "<table border=\"1\" class=\"dataframe\">\n",
              "  <thead>\n",
              "    <tr style=\"text-align: right;\">\n",
              "      <th></th>\n",
              "      <th>Name</th>\n",
              "      <th>PClass</th>\n",
              "      <th>Age</th>\n",
              "      <th>Sex</th>\n",
              "      <th>Survived</th>\n",
              "    </tr>\n",
              "  </thead>\n",
              "  <tbody>\n",
              "    <tr>\n",
              "      <th>0</th>\n",
              "      <td>Allen, Miss Elisabeth Walton</td>\n",
              "      <td>1st</td>\n",
              "      <td>29.0</td>\n",
              "      <td>female</td>\n",
              "      <td>1</td>\n",
              "    </tr>\n",
              "    <tr>\n",
              "      <th>1</th>\n",
              "      <td>Allison, Miss Helen Loraine</td>\n",
              "      <td>1st</td>\n",
              "      <td>2.0</td>\n",
              "      <td>female</td>\n",
              "      <td>0</td>\n",
              "    </tr>\n",
              "  </tbody>\n",
              "</table>\n",
              "</div>\n",
              "      <button class=\"colab-df-convert\" onclick=\"convertToInteractive('df-424ab35d-2e48-4e56-b510-94d5da6e1fd0')\"\n",
              "              title=\"Convert this dataframe to an interactive table.\"\n",
              "              style=\"display:none;\">\n",
              "        \n",
              "  <svg xmlns=\"http://www.w3.org/2000/svg\" height=\"24px\"viewBox=\"0 0 24 24\"\n",
              "       width=\"24px\">\n",
              "    <path d=\"M0 0h24v24H0V0z\" fill=\"none\"/>\n",
              "    <path d=\"M18.56 5.44l.94 2.06.94-2.06 2.06-.94-2.06-.94-.94-2.06-.94 2.06-2.06.94zm-11 1L8.5 8.5l.94-2.06 2.06-.94-2.06-.94L8.5 2.5l-.94 2.06-2.06.94zm10 10l.94 2.06.94-2.06 2.06-.94-2.06-.94-.94-2.06-.94 2.06-2.06.94z\"/><path d=\"M17.41 7.96l-1.37-1.37c-.4-.4-.92-.59-1.43-.59-.52 0-1.04.2-1.43.59L10.3 9.45l-7.72 7.72c-.78.78-.78 2.05 0 2.83L4 21.41c.39.39.9.59 1.41.59.51 0 1.02-.2 1.41-.59l7.78-7.78 2.81-2.81c.8-.78.8-2.07 0-2.86zM5.41 20L4 18.59l7.72-7.72 1.47 1.35L5.41 20z\"/>\n",
              "  </svg>\n",
              "      </button>\n",
              "      \n",
              "  <style>\n",
              "    .colab-df-container {\n",
              "      display:flex;\n",
              "      flex-wrap:wrap;\n",
              "      gap: 12px;\n",
              "    }\n",
              "\n",
              "    .colab-df-convert {\n",
              "      background-color: #E8F0FE;\n",
              "      border: none;\n",
              "      border-radius: 50%;\n",
              "      cursor: pointer;\n",
              "      display: none;\n",
              "      fill: #1967D2;\n",
              "      height: 32px;\n",
              "      padding: 0 0 0 0;\n",
              "      width: 32px;\n",
              "    }\n",
              "\n",
              "    .colab-df-convert:hover {\n",
              "      background-color: #E2EBFA;\n",
              "      box-shadow: 0px 1px 2px rgba(60, 64, 67, 0.3), 0px 1px 3px 1px rgba(60, 64, 67, 0.15);\n",
              "      fill: #174EA6;\n",
              "    }\n",
              "\n",
              "    [theme=dark] .colab-df-convert {\n",
              "      background-color: #3B4455;\n",
              "      fill: #D2E3FC;\n",
              "    }\n",
              "\n",
              "    [theme=dark] .colab-df-convert:hover {\n",
              "      background-color: #434B5C;\n",
              "      box-shadow: 0px 1px 3px 1px rgba(0, 0, 0, 0.15);\n",
              "      filter: drop-shadow(0px 1px 2px rgba(0, 0, 0, 0.3));\n",
              "      fill: #FFFFFF;\n",
              "    }\n",
              "  </style>\n",
              "\n",
              "      <script>\n",
              "        const buttonEl =\n",
              "          document.querySelector('#df-424ab35d-2e48-4e56-b510-94d5da6e1fd0 button.colab-df-convert');\n",
              "        buttonEl.style.display =\n",
              "          google.colab.kernel.accessAllowed ? 'block' : 'none';\n",
              "\n",
              "        async function convertToInteractive(key) {\n",
              "          const element = document.querySelector('#df-424ab35d-2e48-4e56-b510-94d5da6e1fd0');\n",
              "          const dataTable =\n",
              "            await google.colab.kernel.invokeFunction('convertToInteractive',\n",
              "                                                     [key], {});\n",
              "          if (!dataTable) return;\n",
              "\n",
              "          const docLinkHtml = 'Like what you see? Visit the ' +\n",
              "            '<a target=\"_blank\" href=https://colab.research.google.com/notebooks/data_table.ipynb>data table notebook</a>'\n",
              "            + ' to learn more about interactive tables.';\n",
              "          element.innerHTML = '';\n",
              "          dataTable['output_type'] = 'display_data';\n",
              "          await google.colab.output.renderOutput(dataTable, element);\n",
              "          const docLink = document.createElement('div');\n",
              "          docLink.innerHTML = docLinkHtml;\n",
              "          element.appendChild(docLink);\n",
              "        }\n",
              "      </script>\n",
              "    </div>\n",
              "  </div>\n",
              "  "
            ],
            "text/plain": [
              "                           Name PClass   Age     Sex  Survived\n",
              "0  Allen, Miss Elisabeth Walton    1st  29.0  female         1\n",
              "1   Allison, Miss Helen Loraine    1st   2.0  female         0"
            ]
          },
          "metadata": {},
          "execution_count": 51
        }
      ]
    },
    {
      "cell_type": "markdown",
      "source": [
        "**Problem**\n",
        "You need to import an Excel spreadsheet.\n",
        "\n",
        "**Solution**\n",
        "Use the pandas library’s read_excel to load an Excel spreadsheet:"
      ],
      "metadata": {
        "id": "Z6FUN7Xyv5Pm"
      }
    },
    {
      "cell_type": "code",
      "source": [
        "# Load library\n",
        "import pandas as pd\n",
        "# Create URL\n",
        "url = simulated_excel\n",
        "\n",
        "# Load data\n",
        "dataframe = pd.read_excel(url, sheetname=0, header=1)\n",
        "\n",
        "# View the first two rows\n",
        "dataframe.head(2)"
      ],
      "metadata": {
        "colab": {
          "base_uri": "https://localhost:8080/",
          "height": 357
        },
        "id": "e_IRqj71wAqF",
        "outputId": "65658524-838a-4b53-85c4-ea89e3ba8485"
      },
      "execution_count": null,
      "outputs": [
        {
          "output_type": "error",
          "ename": "TypeError",
          "evalue": "ignored",
          "traceback": [
            "\u001b[0;31m---------------------------------------------------------------------------\u001b[0m",
            "\u001b[0;31mTypeError\u001b[0m                                 Traceback (most recent call last)",
            "\u001b[0;32m<ipython-input-35-7c12339ea868>\u001b[0m in \u001b[0;36m<module>\u001b[0;34m()\u001b[0m\n\u001b[1;32m      5\u001b[0m \u001b[0;34m\u001b[0m\u001b[0m\n\u001b[1;32m      6\u001b[0m \u001b[0;31m# Load data\u001b[0m\u001b[0;34m\u001b[0m\u001b[0;34m\u001b[0m\u001b[0;34m\u001b[0m\u001b[0m\n\u001b[0;32m----> 7\u001b[0;31m \u001b[0mdataframe\u001b[0m \u001b[0;34m=\u001b[0m \u001b[0mpd\u001b[0m\u001b[0;34m.\u001b[0m\u001b[0mread_excel\u001b[0m\u001b[0;34m(\u001b[0m\u001b[0murl\u001b[0m\u001b[0;34m,\u001b[0m \u001b[0msheetname\u001b[0m\u001b[0;34m=\u001b[0m\u001b[0;36m0\u001b[0m\u001b[0;34m,\u001b[0m \u001b[0mheader\u001b[0m\u001b[0;34m=\u001b[0m\u001b[0;36m1\u001b[0m\u001b[0;34m)\u001b[0m\u001b[0;34m\u001b[0m\u001b[0;34m\u001b[0m\u001b[0m\n\u001b[0m\u001b[1;32m      8\u001b[0m \u001b[0;34m\u001b[0m\u001b[0m\n\u001b[1;32m      9\u001b[0m \u001b[0;31m# View the first two rows\u001b[0m\u001b[0;34m\u001b[0m\u001b[0;34m\u001b[0m\u001b[0;34m\u001b[0m\u001b[0m\n",
            "\u001b[0;32m/usr/local/lib/python3.7/dist-packages/pandas/util/_decorators.py\u001b[0m in \u001b[0;36mwrapper\u001b[0;34m(*args, **kwargs)\u001b[0m\n\u001b[1;32m    309\u001b[0m                     \u001b[0mstacklevel\u001b[0m\u001b[0;34m=\u001b[0m\u001b[0mstacklevel\u001b[0m\u001b[0;34m,\u001b[0m\u001b[0;34m\u001b[0m\u001b[0;34m\u001b[0m\u001b[0m\n\u001b[1;32m    310\u001b[0m                 )\n\u001b[0;32m--> 311\u001b[0;31m             \u001b[0;32mreturn\u001b[0m \u001b[0mfunc\u001b[0m\u001b[0;34m(\u001b[0m\u001b[0;34m*\u001b[0m\u001b[0margs\u001b[0m\u001b[0;34m,\u001b[0m \u001b[0;34m**\u001b[0m\u001b[0mkwargs\u001b[0m\u001b[0;34m)\u001b[0m\u001b[0;34m\u001b[0m\u001b[0;34m\u001b[0m\u001b[0m\n\u001b[0m\u001b[1;32m    312\u001b[0m \u001b[0;34m\u001b[0m\u001b[0m\n\u001b[1;32m    313\u001b[0m         \u001b[0;32mreturn\u001b[0m \u001b[0mwrapper\u001b[0m\u001b[0;34m\u001b[0m\u001b[0;34m\u001b[0m\u001b[0m\n",
            "\u001b[0;31mTypeError\u001b[0m: read_excel() got an unexpected keyword argument 'sheetname'"
          ]
        }
      ]
    },
    {
      "cell_type": "markdown",
      "source": [
        "**Problem**\n",
        "You need to load a JSON file for data preprocessing.\n",
        "\n",
        "**Solution**\n",
        "The pandas library provides read_json to convert a JSON file into a pandas object:"
      ],
      "metadata": {
        "id": "ZodJVGIowG1_"
      }
    },
    {
      "cell_type": "code",
      "source": [
        "# Load library\n",
        "import pandas as pd\n",
        "# Create URL\n",
        "url = simulated_json\n",
        "\n",
        "# Load data\n",
        "dataframe = pd.read_json(url, orient='columns')\n",
        "\n",
        "# View the first two rows\n",
        "dataframe.head(2)\n",
        "\n",
        "# The key difference is the orient parameter, which indicates to pandas how the JSON file\n",
        "# is structured. However, it might take some experimenting to figure out which argument (split, records, index, columns, and values) is the right one. Another helpful\n",
        "# tool pandas offers is json_normalize, which can help convert semistructured JSON data into a pandas DataFrame."
      ],
      "metadata": {
        "colab": {
          "base_uri": "https://localhost:8080/",
          "height": 381
        },
        "id": "LJQIwKNuwKgi",
        "outputId": "e6acb660-67b0-4551-899f-82468984c634"
      },
      "execution_count": null,
      "outputs": [
        {
          "output_type": "error",
          "ename": "HTTPError",
          "evalue": "ignored",
          "traceback": [
            "\u001b[0;31m---------------------------------------------------------------------------\u001b[0m",
            "\u001b[0;31mHTTPError\u001b[0m                                 Traceback (most recent call last)",
            "\u001b[0;32m<ipython-input-36-68fab81d0d1b>\u001b[0m in \u001b[0;36m<module>\u001b[0;34m()\u001b[0m\n\u001b[1;32m      5\u001b[0m \u001b[0;34m\u001b[0m\u001b[0m\n\u001b[1;32m      6\u001b[0m \u001b[0;31m# Load data\u001b[0m\u001b[0;34m\u001b[0m\u001b[0;34m\u001b[0m\u001b[0;34m\u001b[0m\u001b[0m\n\u001b[0;32m----> 7\u001b[0;31m \u001b[0mdataframe\u001b[0m \u001b[0;34m=\u001b[0m \u001b[0mpd\u001b[0m\u001b[0;34m.\u001b[0m\u001b[0mread_json\u001b[0m\u001b[0;34m(\u001b[0m\u001b[0murl\u001b[0m\u001b[0;34m,\u001b[0m \u001b[0morient\u001b[0m\u001b[0;34m=\u001b[0m\u001b[0;34m'columns'\u001b[0m\u001b[0;34m)\u001b[0m\u001b[0;34m\u001b[0m\u001b[0;34m\u001b[0m\u001b[0m\n\u001b[0m\u001b[1;32m      8\u001b[0m \u001b[0;34m\u001b[0m\u001b[0m\n\u001b[1;32m      9\u001b[0m \u001b[0;31m# View the first two rows\u001b[0m\u001b[0;34m\u001b[0m\u001b[0;34m\u001b[0m\u001b[0;34m\u001b[0m\u001b[0m\n",
            "\u001b[0;32m/usr/local/lib/python3.7/dist-packages/pandas/util/_decorators.py\u001b[0m in \u001b[0;36mwrapper\u001b[0;34m(*args, **kwargs)\u001b[0m\n\u001b[1;32m    205\u001b[0m                 \u001b[0;32melse\u001b[0m\u001b[0;34m:\u001b[0m\u001b[0;34m\u001b[0m\u001b[0;34m\u001b[0m\u001b[0m\n\u001b[1;32m    206\u001b[0m                     \u001b[0mkwargs\u001b[0m\u001b[0;34m[\u001b[0m\u001b[0mnew_arg_name\u001b[0m\u001b[0;34m]\u001b[0m \u001b[0;34m=\u001b[0m \u001b[0mnew_arg_value\u001b[0m\u001b[0;34m\u001b[0m\u001b[0;34m\u001b[0m\u001b[0m\n\u001b[0;32m--> 207\u001b[0;31m             \u001b[0;32mreturn\u001b[0m \u001b[0mfunc\u001b[0m\u001b[0;34m(\u001b[0m\u001b[0;34m*\u001b[0m\u001b[0margs\u001b[0m\u001b[0;34m,\u001b[0m \u001b[0;34m**\u001b[0m\u001b[0mkwargs\u001b[0m\u001b[0;34m)\u001b[0m\u001b[0;34m\u001b[0m\u001b[0;34m\u001b[0m\u001b[0m\n\u001b[0m\u001b[1;32m    208\u001b[0m \u001b[0;34m\u001b[0m\u001b[0m\n\u001b[1;32m    209\u001b[0m         \u001b[0;32mreturn\u001b[0m \u001b[0mcast\u001b[0m\u001b[0;34m(\u001b[0m\u001b[0mF\u001b[0m\u001b[0;34m,\u001b[0m \u001b[0mwrapper\u001b[0m\u001b[0;34m)\u001b[0m\u001b[0;34m\u001b[0m\u001b[0;34m\u001b[0m\u001b[0m\n",
            "\u001b[0;32m/usr/local/lib/python3.7/dist-packages/pandas/util/_decorators.py\u001b[0m in \u001b[0;36mwrapper\u001b[0;34m(*args, **kwargs)\u001b[0m\n\u001b[1;32m    309\u001b[0m                     \u001b[0mstacklevel\u001b[0m\u001b[0;34m=\u001b[0m\u001b[0mstacklevel\u001b[0m\u001b[0;34m,\u001b[0m\u001b[0;34m\u001b[0m\u001b[0;34m\u001b[0m\u001b[0m\n\u001b[1;32m    310\u001b[0m                 )\n\u001b[0;32m--> 311\u001b[0;31m             \u001b[0;32mreturn\u001b[0m \u001b[0mfunc\u001b[0m\u001b[0;34m(\u001b[0m\u001b[0;34m*\u001b[0m\u001b[0margs\u001b[0m\u001b[0;34m,\u001b[0m \u001b[0;34m**\u001b[0m\u001b[0mkwargs\u001b[0m\u001b[0;34m)\u001b[0m\u001b[0;34m\u001b[0m\u001b[0;34m\u001b[0m\u001b[0m\n\u001b[0m\u001b[1;32m    312\u001b[0m \u001b[0;34m\u001b[0m\u001b[0m\n\u001b[1;32m    313\u001b[0m         \u001b[0;32mreturn\u001b[0m \u001b[0mwrapper\u001b[0m\u001b[0;34m\u001b[0m\u001b[0;34m\u001b[0m\u001b[0m\n",
            "\u001b[0;32m/usr/local/lib/python3.7/dist-packages/pandas/io/json/_json.py\u001b[0m in \u001b[0;36mread_json\u001b[0;34m(path_or_buf, orient, typ, dtype, convert_axes, convert_dates, keep_default_dates, numpy, precise_float, date_unit, encoding, encoding_errors, lines, chunksize, compression, nrows, storage_options)\u001b[0m\n\u001b[1;32m    605\u001b[0m         \u001b[0mnrows\u001b[0m\u001b[0;34m=\u001b[0m\u001b[0mnrows\u001b[0m\u001b[0;34m,\u001b[0m\u001b[0;34m\u001b[0m\u001b[0;34m\u001b[0m\u001b[0m\n\u001b[1;32m    606\u001b[0m         \u001b[0mstorage_options\u001b[0m\u001b[0;34m=\u001b[0m\u001b[0mstorage_options\u001b[0m\u001b[0;34m,\u001b[0m\u001b[0;34m\u001b[0m\u001b[0;34m\u001b[0m\u001b[0m\n\u001b[0;32m--> 607\u001b[0;31m         \u001b[0mencoding_errors\u001b[0m\u001b[0;34m=\u001b[0m\u001b[0mencoding_errors\u001b[0m\u001b[0;34m,\u001b[0m\u001b[0;34m\u001b[0m\u001b[0;34m\u001b[0m\u001b[0m\n\u001b[0m\u001b[1;32m    608\u001b[0m     )\n\u001b[1;32m    609\u001b[0m \u001b[0;34m\u001b[0m\u001b[0m\n",
            "\u001b[0;32m/usr/local/lib/python3.7/dist-packages/pandas/io/json/_json.py\u001b[0m in \u001b[0;36m__init__\u001b[0;34m(self, filepath_or_buffer, orient, typ, dtype, convert_axes, convert_dates, keep_default_dates, numpy, precise_float, date_unit, encoding, lines, chunksize, compression, nrows, storage_options, encoding_errors)\u001b[0m\n\u001b[1;32m    673\u001b[0m                 \u001b[0;32mraise\u001b[0m \u001b[0mValueError\u001b[0m\u001b[0;34m(\u001b[0m\u001b[0;34m\"nrows can only be passed if lines=True\"\u001b[0m\u001b[0;34m)\u001b[0m\u001b[0;34m\u001b[0m\u001b[0;34m\u001b[0m\u001b[0m\n\u001b[1;32m    674\u001b[0m \u001b[0;34m\u001b[0m\u001b[0m\n\u001b[0;32m--> 675\u001b[0;31m         \u001b[0mdata\u001b[0m \u001b[0;34m=\u001b[0m \u001b[0mself\u001b[0m\u001b[0;34m.\u001b[0m\u001b[0m_get_data_from_filepath\u001b[0m\u001b[0;34m(\u001b[0m\u001b[0mfilepath_or_buffer\u001b[0m\u001b[0;34m)\u001b[0m\u001b[0;34m\u001b[0m\u001b[0;34m\u001b[0m\u001b[0m\n\u001b[0m\u001b[1;32m    676\u001b[0m         \u001b[0mself\u001b[0m\u001b[0;34m.\u001b[0m\u001b[0mdata\u001b[0m \u001b[0;34m=\u001b[0m \u001b[0mself\u001b[0m\u001b[0;34m.\u001b[0m\u001b[0m_preprocess_data\u001b[0m\u001b[0;34m(\u001b[0m\u001b[0mdata\u001b[0m\u001b[0;34m)\u001b[0m\u001b[0;34m\u001b[0m\u001b[0;34m\u001b[0m\u001b[0m\n\u001b[1;32m    677\u001b[0m \u001b[0;34m\u001b[0m\u001b[0m\n",
            "\u001b[0;32m/usr/local/lib/python3.7/dist-packages/pandas/io/json/_json.py\u001b[0m in \u001b[0;36m_get_data_from_filepath\u001b[0;34m(self, filepath_or_buffer)\u001b[0m\n\u001b[1;32m    716\u001b[0m                 \u001b[0mcompression\u001b[0m\u001b[0;34m=\u001b[0m\u001b[0mself\u001b[0m\u001b[0;34m.\u001b[0m\u001b[0mcompression\u001b[0m\u001b[0;34m,\u001b[0m\u001b[0;34m\u001b[0m\u001b[0;34m\u001b[0m\u001b[0m\n\u001b[1;32m    717\u001b[0m                 \u001b[0mstorage_options\u001b[0m\u001b[0;34m=\u001b[0m\u001b[0mself\u001b[0m\u001b[0;34m.\u001b[0m\u001b[0mstorage_options\u001b[0m\u001b[0;34m,\u001b[0m\u001b[0;34m\u001b[0m\u001b[0;34m\u001b[0m\u001b[0m\n\u001b[0;32m--> 718\u001b[0;31m                 \u001b[0merrors\u001b[0m\u001b[0;34m=\u001b[0m\u001b[0mself\u001b[0m\u001b[0;34m.\u001b[0m\u001b[0mencoding_errors\u001b[0m\u001b[0;34m,\u001b[0m\u001b[0;34m\u001b[0m\u001b[0;34m\u001b[0m\u001b[0m\n\u001b[0m\u001b[1;32m    719\u001b[0m             )\n\u001b[1;32m    720\u001b[0m             \u001b[0mfilepath_or_buffer\u001b[0m \u001b[0;34m=\u001b[0m \u001b[0mself\u001b[0m\u001b[0;34m.\u001b[0m\u001b[0mhandles\u001b[0m\u001b[0;34m.\u001b[0m\u001b[0mhandle\u001b[0m\u001b[0;34m\u001b[0m\u001b[0;34m\u001b[0m\u001b[0m\n",
            "\u001b[0;32m/usr/local/lib/python3.7/dist-packages/pandas/io/common.py\u001b[0m in \u001b[0;36mget_handle\u001b[0;34m(path_or_buf, mode, encoding, compression, memory_map, is_text, errors, storage_options)\u001b[0m\n\u001b[1;32m    612\u001b[0m         \u001b[0mcompression\u001b[0m\u001b[0;34m=\u001b[0m\u001b[0mcompression\u001b[0m\u001b[0;34m,\u001b[0m\u001b[0;34m\u001b[0m\u001b[0;34m\u001b[0m\u001b[0m\n\u001b[1;32m    613\u001b[0m         \u001b[0mmode\u001b[0m\u001b[0;34m=\u001b[0m\u001b[0mmode\u001b[0m\u001b[0;34m,\u001b[0m\u001b[0;34m\u001b[0m\u001b[0;34m\u001b[0m\u001b[0m\n\u001b[0;32m--> 614\u001b[0;31m         \u001b[0mstorage_options\u001b[0m\u001b[0;34m=\u001b[0m\u001b[0mstorage_options\u001b[0m\u001b[0;34m,\u001b[0m\u001b[0;34m\u001b[0m\u001b[0;34m\u001b[0m\u001b[0m\n\u001b[0m\u001b[1;32m    615\u001b[0m     )\n\u001b[1;32m    616\u001b[0m \u001b[0;34m\u001b[0m\u001b[0m\n",
            "\u001b[0;32m/usr/local/lib/python3.7/dist-packages/pandas/io/common.py\u001b[0m in \u001b[0;36m_get_filepath_or_buffer\u001b[0;34m(filepath_or_buffer, encoding, compression, mode, storage_options)\u001b[0m\n\u001b[1;32m    310\u001b[0m         \u001b[0;31m# assuming storage_options is to be interpreted as headers\u001b[0m\u001b[0;34m\u001b[0m\u001b[0;34m\u001b[0m\u001b[0;34m\u001b[0m\u001b[0m\n\u001b[1;32m    311\u001b[0m         \u001b[0mreq_info\u001b[0m \u001b[0;34m=\u001b[0m \u001b[0murllib\u001b[0m\u001b[0;34m.\u001b[0m\u001b[0mrequest\u001b[0m\u001b[0;34m.\u001b[0m\u001b[0mRequest\u001b[0m\u001b[0;34m(\u001b[0m\u001b[0mfilepath_or_buffer\u001b[0m\u001b[0;34m,\u001b[0m \u001b[0mheaders\u001b[0m\u001b[0;34m=\u001b[0m\u001b[0mstorage_options\u001b[0m\u001b[0;34m)\u001b[0m\u001b[0;34m\u001b[0m\u001b[0;34m\u001b[0m\u001b[0m\n\u001b[0;32m--> 312\u001b[0;31m         \u001b[0;32mwith\u001b[0m \u001b[0murlopen\u001b[0m\u001b[0;34m(\u001b[0m\u001b[0mreq_info\u001b[0m\u001b[0;34m)\u001b[0m \u001b[0;32mas\u001b[0m \u001b[0mreq\u001b[0m\u001b[0;34m:\u001b[0m\u001b[0;34m\u001b[0m\u001b[0;34m\u001b[0m\u001b[0m\n\u001b[0m\u001b[1;32m    313\u001b[0m             \u001b[0mcontent_encoding\u001b[0m \u001b[0;34m=\u001b[0m \u001b[0mreq\u001b[0m\u001b[0;34m.\u001b[0m\u001b[0mheaders\u001b[0m\u001b[0;34m.\u001b[0m\u001b[0mget\u001b[0m\u001b[0;34m(\u001b[0m\u001b[0;34m\"Content-Encoding\"\u001b[0m\u001b[0;34m,\u001b[0m \u001b[0;32mNone\u001b[0m\u001b[0;34m)\u001b[0m\u001b[0;34m\u001b[0m\u001b[0;34m\u001b[0m\u001b[0m\n\u001b[1;32m    314\u001b[0m             \u001b[0;32mif\u001b[0m \u001b[0mcontent_encoding\u001b[0m \u001b[0;34m==\u001b[0m \u001b[0;34m\"gzip\"\u001b[0m\u001b[0;34m:\u001b[0m\u001b[0;34m\u001b[0m\u001b[0;34m\u001b[0m\u001b[0m\n",
            "\u001b[0;32m/usr/local/lib/python3.7/dist-packages/pandas/io/common.py\u001b[0m in \u001b[0;36murlopen\u001b[0;34m(*args, **kwargs)\u001b[0m\n\u001b[1;32m    210\u001b[0m     \u001b[0;32mimport\u001b[0m \u001b[0murllib\u001b[0m\u001b[0;34m.\u001b[0m\u001b[0mrequest\u001b[0m\u001b[0;34m\u001b[0m\u001b[0;34m\u001b[0m\u001b[0m\n\u001b[1;32m    211\u001b[0m \u001b[0;34m\u001b[0m\u001b[0m\n\u001b[0;32m--> 212\u001b[0;31m     \u001b[0;32mreturn\u001b[0m \u001b[0murllib\u001b[0m\u001b[0;34m.\u001b[0m\u001b[0mrequest\u001b[0m\u001b[0;34m.\u001b[0m\u001b[0murlopen\u001b[0m\u001b[0;34m(\u001b[0m\u001b[0;34m*\u001b[0m\u001b[0margs\u001b[0m\u001b[0;34m,\u001b[0m \u001b[0;34m**\u001b[0m\u001b[0mkwargs\u001b[0m\u001b[0;34m)\u001b[0m\u001b[0;34m\u001b[0m\u001b[0;34m\u001b[0m\u001b[0m\n\u001b[0m\u001b[1;32m    213\u001b[0m \u001b[0;34m\u001b[0m\u001b[0m\n\u001b[1;32m    214\u001b[0m \u001b[0;34m\u001b[0m\u001b[0m\n",
            "\u001b[0;32m/usr/lib/python3.7/urllib/request.py\u001b[0m in \u001b[0;36murlopen\u001b[0;34m(url, data, timeout, cafile, capath, cadefault, context)\u001b[0m\n\u001b[1;32m    220\u001b[0m     \u001b[0;32melse\u001b[0m\u001b[0;34m:\u001b[0m\u001b[0;34m\u001b[0m\u001b[0;34m\u001b[0m\u001b[0m\n\u001b[1;32m    221\u001b[0m         \u001b[0mopener\u001b[0m \u001b[0;34m=\u001b[0m \u001b[0m_opener\u001b[0m\u001b[0;34m\u001b[0m\u001b[0;34m\u001b[0m\u001b[0m\n\u001b[0;32m--> 222\u001b[0;31m     \u001b[0;32mreturn\u001b[0m \u001b[0mopener\u001b[0m\u001b[0;34m.\u001b[0m\u001b[0mopen\u001b[0m\u001b[0;34m(\u001b[0m\u001b[0murl\u001b[0m\u001b[0;34m,\u001b[0m \u001b[0mdata\u001b[0m\u001b[0;34m,\u001b[0m \u001b[0mtimeout\u001b[0m\u001b[0;34m)\u001b[0m\u001b[0;34m\u001b[0m\u001b[0;34m\u001b[0m\u001b[0m\n\u001b[0m\u001b[1;32m    223\u001b[0m \u001b[0;34m\u001b[0m\u001b[0m\n\u001b[1;32m    224\u001b[0m \u001b[0;32mdef\u001b[0m \u001b[0minstall_opener\u001b[0m\u001b[0;34m(\u001b[0m\u001b[0mopener\u001b[0m\u001b[0;34m)\u001b[0m\u001b[0;34m:\u001b[0m\u001b[0;34m\u001b[0m\u001b[0;34m\u001b[0m\u001b[0m\n",
            "\u001b[0;32m/usr/lib/python3.7/urllib/request.py\u001b[0m in \u001b[0;36mopen\u001b[0;34m(self, fullurl, data, timeout)\u001b[0m\n\u001b[1;32m    529\u001b[0m         \u001b[0;32mfor\u001b[0m \u001b[0mprocessor\u001b[0m \u001b[0;32min\u001b[0m \u001b[0mself\u001b[0m\u001b[0;34m.\u001b[0m\u001b[0mprocess_response\u001b[0m\u001b[0;34m.\u001b[0m\u001b[0mget\u001b[0m\u001b[0;34m(\u001b[0m\u001b[0mprotocol\u001b[0m\u001b[0;34m,\u001b[0m \u001b[0;34m[\u001b[0m\u001b[0;34m]\u001b[0m\u001b[0;34m)\u001b[0m\u001b[0;34m:\u001b[0m\u001b[0;34m\u001b[0m\u001b[0;34m\u001b[0m\u001b[0m\n\u001b[1;32m    530\u001b[0m             \u001b[0mmeth\u001b[0m \u001b[0;34m=\u001b[0m \u001b[0mgetattr\u001b[0m\u001b[0;34m(\u001b[0m\u001b[0mprocessor\u001b[0m\u001b[0;34m,\u001b[0m \u001b[0mmeth_name\u001b[0m\u001b[0;34m)\u001b[0m\u001b[0;34m\u001b[0m\u001b[0;34m\u001b[0m\u001b[0m\n\u001b[0;32m--> 531\u001b[0;31m             \u001b[0mresponse\u001b[0m \u001b[0;34m=\u001b[0m \u001b[0mmeth\u001b[0m\u001b[0;34m(\u001b[0m\u001b[0mreq\u001b[0m\u001b[0;34m,\u001b[0m \u001b[0mresponse\u001b[0m\u001b[0;34m)\u001b[0m\u001b[0;34m\u001b[0m\u001b[0;34m\u001b[0m\u001b[0m\n\u001b[0m\u001b[1;32m    532\u001b[0m \u001b[0;34m\u001b[0m\u001b[0m\n\u001b[1;32m    533\u001b[0m         \u001b[0;32mreturn\u001b[0m \u001b[0mresponse\u001b[0m\u001b[0;34m\u001b[0m\u001b[0;34m\u001b[0m\u001b[0m\n",
            "\u001b[0;32m/usr/lib/python3.7/urllib/request.py\u001b[0m in \u001b[0;36mhttp_response\u001b[0;34m(self, request, response)\u001b[0m\n\u001b[1;32m    639\u001b[0m         \u001b[0;32mif\u001b[0m \u001b[0;32mnot\u001b[0m \u001b[0;34m(\u001b[0m\u001b[0;36m200\u001b[0m \u001b[0;34m<=\u001b[0m \u001b[0mcode\u001b[0m \u001b[0;34m<\u001b[0m \u001b[0;36m300\u001b[0m\u001b[0;34m)\u001b[0m\u001b[0;34m:\u001b[0m\u001b[0;34m\u001b[0m\u001b[0;34m\u001b[0m\u001b[0m\n\u001b[1;32m    640\u001b[0m             response = self.parent.error(\n\u001b[0;32m--> 641\u001b[0;31m                 'http', request, response, code, msg, hdrs)\n\u001b[0m\u001b[1;32m    642\u001b[0m \u001b[0;34m\u001b[0m\u001b[0m\n\u001b[1;32m    643\u001b[0m         \u001b[0;32mreturn\u001b[0m \u001b[0mresponse\u001b[0m\u001b[0;34m\u001b[0m\u001b[0;34m\u001b[0m\u001b[0m\n",
            "\u001b[0;32m/usr/lib/python3.7/urllib/request.py\u001b[0m in \u001b[0;36merror\u001b[0;34m(self, proto, *args)\u001b[0m\n\u001b[1;32m    567\u001b[0m         \u001b[0;32mif\u001b[0m \u001b[0mhttp_err\u001b[0m\u001b[0;34m:\u001b[0m\u001b[0;34m\u001b[0m\u001b[0;34m\u001b[0m\u001b[0m\n\u001b[1;32m    568\u001b[0m             \u001b[0margs\u001b[0m \u001b[0;34m=\u001b[0m \u001b[0;34m(\u001b[0m\u001b[0mdict\u001b[0m\u001b[0;34m,\u001b[0m \u001b[0;34m'default'\u001b[0m\u001b[0;34m,\u001b[0m \u001b[0;34m'http_error_default'\u001b[0m\u001b[0;34m)\u001b[0m \u001b[0;34m+\u001b[0m \u001b[0morig_args\u001b[0m\u001b[0;34m\u001b[0m\u001b[0;34m\u001b[0m\u001b[0m\n\u001b[0;32m--> 569\u001b[0;31m             \u001b[0;32mreturn\u001b[0m \u001b[0mself\u001b[0m\u001b[0;34m.\u001b[0m\u001b[0m_call_chain\u001b[0m\u001b[0;34m(\u001b[0m\u001b[0;34m*\u001b[0m\u001b[0margs\u001b[0m\u001b[0;34m)\u001b[0m\u001b[0;34m\u001b[0m\u001b[0;34m\u001b[0m\u001b[0m\n\u001b[0m\u001b[1;32m    570\u001b[0m \u001b[0;34m\u001b[0m\u001b[0m\n\u001b[1;32m    571\u001b[0m \u001b[0;31m# XXX probably also want an abstract factory that knows when it makes\u001b[0m\u001b[0;34m\u001b[0m\u001b[0;34m\u001b[0m\u001b[0;34m\u001b[0m\u001b[0m\n",
            "\u001b[0;32m/usr/lib/python3.7/urllib/request.py\u001b[0m in \u001b[0;36m_call_chain\u001b[0;34m(self, chain, kind, meth_name, *args)\u001b[0m\n\u001b[1;32m    501\u001b[0m         \u001b[0;32mfor\u001b[0m \u001b[0mhandler\u001b[0m \u001b[0;32min\u001b[0m \u001b[0mhandlers\u001b[0m\u001b[0;34m:\u001b[0m\u001b[0;34m\u001b[0m\u001b[0;34m\u001b[0m\u001b[0m\n\u001b[1;32m    502\u001b[0m             \u001b[0mfunc\u001b[0m \u001b[0;34m=\u001b[0m \u001b[0mgetattr\u001b[0m\u001b[0;34m(\u001b[0m\u001b[0mhandler\u001b[0m\u001b[0;34m,\u001b[0m \u001b[0mmeth_name\u001b[0m\u001b[0;34m)\u001b[0m\u001b[0;34m\u001b[0m\u001b[0;34m\u001b[0m\u001b[0m\n\u001b[0;32m--> 503\u001b[0;31m             \u001b[0mresult\u001b[0m \u001b[0;34m=\u001b[0m \u001b[0mfunc\u001b[0m\u001b[0;34m(\u001b[0m\u001b[0;34m*\u001b[0m\u001b[0margs\u001b[0m\u001b[0;34m)\u001b[0m\u001b[0;34m\u001b[0m\u001b[0;34m\u001b[0m\u001b[0m\n\u001b[0m\u001b[1;32m    504\u001b[0m             \u001b[0;32mif\u001b[0m \u001b[0mresult\u001b[0m \u001b[0;32mis\u001b[0m \u001b[0;32mnot\u001b[0m \u001b[0;32mNone\u001b[0m\u001b[0;34m:\u001b[0m\u001b[0;34m\u001b[0m\u001b[0;34m\u001b[0m\u001b[0m\n\u001b[1;32m    505\u001b[0m                 \u001b[0;32mreturn\u001b[0m \u001b[0mresult\u001b[0m\u001b[0;34m\u001b[0m\u001b[0;34m\u001b[0m\u001b[0m\n",
            "\u001b[0;32m/usr/lib/python3.7/urllib/request.py\u001b[0m in \u001b[0;36mhttp_error_default\u001b[0;34m(self, req, fp, code, msg, hdrs)\u001b[0m\n\u001b[1;32m    647\u001b[0m \u001b[0;32mclass\u001b[0m \u001b[0mHTTPDefaultErrorHandler\u001b[0m\u001b[0;34m(\u001b[0m\u001b[0mBaseHandler\u001b[0m\u001b[0;34m)\u001b[0m\u001b[0;34m:\u001b[0m\u001b[0;34m\u001b[0m\u001b[0;34m\u001b[0m\u001b[0m\n\u001b[1;32m    648\u001b[0m     \u001b[0;32mdef\u001b[0m \u001b[0mhttp_error_default\u001b[0m\u001b[0;34m(\u001b[0m\u001b[0mself\u001b[0m\u001b[0;34m,\u001b[0m \u001b[0mreq\u001b[0m\u001b[0;34m,\u001b[0m \u001b[0mfp\u001b[0m\u001b[0;34m,\u001b[0m \u001b[0mcode\u001b[0m\u001b[0;34m,\u001b[0m \u001b[0mmsg\u001b[0m\u001b[0;34m,\u001b[0m \u001b[0mhdrs\u001b[0m\u001b[0;34m)\u001b[0m\u001b[0;34m:\u001b[0m\u001b[0;34m\u001b[0m\u001b[0;34m\u001b[0m\u001b[0m\n\u001b[0;32m--> 649\u001b[0;31m         \u001b[0;32mraise\u001b[0m \u001b[0mHTTPError\u001b[0m\u001b[0;34m(\u001b[0m\u001b[0mreq\u001b[0m\u001b[0;34m.\u001b[0m\u001b[0mfull_url\u001b[0m\u001b[0;34m,\u001b[0m \u001b[0mcode\u001b[0m\u001b[0;34m,\u001b[0m \u001b[0mmsg\u001b[0m\u001b[0;34m,\u001b[0m \u001b[0mhdrs\u001b[0m\u001b[0;34m,\u001b[0m \u001b[0mfp\u001b[0m\u001b[0;34m)\u001b[0m\u001b[0;34m\u001b[0m\u001b[0;34m\u001b[0m\u001b[0m\n\u001b[0m\u001b[1;32m    650\u001b[0m \u001b[0;34m\u001b[0m\u001b[0m\n\u001b[1;32m    651\u001b[0m \u001b[0;32mclass\u001b[0m \u001b[0mHTTPRedirectHandler\u001b[0m\u001b[0;34m(\u001b[0m\u001b[0mBaseHandler\u001b[0m\u001b[0;34m)\u001b[0m\u001b[0;34m:\u001b[0m\u001b[0;34m\u001b[0m\u001b[0;34m\u001b[0m\u001b[0m\n",
            "\u001b[0;31mHTTPError\u001b[0m: HTTP Error 404: Not Found"
          ]
        }
      ]
    },
    {
      "cell_type": "markdown",
      "source": [
        "**Problem**\n",
        "You need to load data from a database using the structured query language (SQL).\n",
        "\n",
        "**Solution**\n",
        "pandas’ read_sql_query allows us to make a SQL query to a database and load it:"
      ],
      "metadata": {
        "id": "KnIqGCHawfWZ"
      }
    },
    {
      "cell_type": "code",
      "source": [
        "# Load libraries\n",
        "import pandas as pd\n",
        "from sqlalchemy import create_engine\n",
        "# Create a connection to the database\n",
        "database_connection = create_engine('sqlite:///sample.db')\n",
        "# Load data\n",
        "dataframe = pd.read_sql_query('SELECT * FROM data', database_connection)\n",
        "# View first two rows\n",
        "dataframe.head(2)\n",
        "\n",
        "#  In this recipe we first use create_engine to define a connection to a SQL database engine called SQLite.\n",
        "# Next we use pandas’ read_sql_query to query that database using SQL and put the results in a DataFrame.\n",
        "\n",
        "#SQL is a language in its own right and, while beyond the scope of this book, it is certainly worth knowing for anyone wanting to learn machine learning. \n",
        "#Our SQL query, SELECT * FROM data, asks the database to give us all columns (*) from the table called data"
      ],
      "metadata": {
        "colab": {
          "base_uri": "https://localhost:8080/",
          "height": 537
        },
        "id": "40yQHVt4wlE1",
        "outputId": "4885211b-ece8-457c-f5d9-e19b0ee95316"
      },
      "execution_count": null,
      "outputs": [
        {
          "output_type": "error",
          "ename": "OperationalError",
          "evalue": "ignored",
          "traceback": [
            "\u001b[0;31m---------------------------------------------------------------------------\u001b[0m",
            "\u001b[0;31mOperationalError\u001b[0m                          Traceback (most recent call last)",
            "\u001b[0;32m/usr/local/lib/python3.7/dist-packages/sqlalchemy/engine/base.py\u001b[0m in \u001b[0;36m_execute_context\u001b[0;34m(self, dialect, constructor, statement, parameters, execution_options, *args, **kw)\u001b[0m\n\u001b[1;32m   1802\u001b[0m                     self.dialect.do_execute(\n\u001b[0;32m-> 1803\u001b[0;31m                         \u001b[0mcursor\u001b[0m\u001b[0;34m,\u001b[0m \u001b[0mstatement\u001b[0m\u001b[0;34m,\u001b[0m \u001b[0mparameters\u001b[0m\u001b[0;34m,\u001b[0m \u001b[0mcontext\u001b[0m\u001b[0;34m\u001b[0m\u001b[0;34m\u001b[0m\u001b[0m\n\u001b[0m\u001b[1;32m   1804\u001b[0m                     )\n",
            "\u001b[0;32m/usr/local/lib/python3.7/dist-packages/sqlalchemy/engine/default.py\u001b[0m in \u001b[0;36mdo_execute\u001b[0;34m(self, cursor, statement, parameters, context)\u001b[0m\n\u001b[1;32m    731\u001b[0m     \u001b[0;32mdef\u001b[0m \u001b[0mdo_execute\u001b[0m\u001b[0;34m(\u001b[0m\u001b[0mself\u001b[0m\u001b[0;34m,\u001b[0m \u001b[0mcursor\u001b[0m\u001b[0;34m,\u001b[0m \u001b[0mstatement\u001b[0m\u001b[0;34m,\u001b[0m \u001b[0mparameters\u001b[0m\u001b[0;34m,\u001b[0m \u001b[0mcontext\u001b[0m\u001b[0;34m=\u001b[0m\u001b[0;32mNone\u001b[0m\u001b[0;34m)\u001b[0m\u001b[0;34m:\u001b[0m\u001b[0;34m\u001b[0m\u001b[0;34m\u001b[0m\u001b[0m\n\u001b[0;32m--> 732\u001b[0;31m         \u001b[0mcursor\u001b[0m\u001b[0;34m.\u001b[0m\u001b[0mexecute\u001b[0m\u001b[0;34m(\u001b[0m\u001b[0mstatement\u001b[0m\u001b[0;34m,\u001b[0m \u001b[0mparameters\u001b[0m\u001b[0;34m)\u001b[0m\u001b[0;34m\u001b[0m\u001b[0;34m\u001b[0m\u001b[0m\n\u001b[0m\u001b[1;32m    733\u001b[0m \u001b[0;34m\u001b[0m\u001b[0m\n",
            "\u001b[0;31mOperationalError\u001b[0m: no such table: data",
            "\nThe above exception was the direct cause of the following exception:\n",
            "\u001b[0;31mOperationalError\u001b[0m                          Traceback (most recent call last)",
            "\u001b[0;32m<ipython-input-37-783d43897a39>\u001b[0m in \u001b[0;36m<module>\u001b[0;34m()\u001b[0m\n\u001b[1;32m      5\u001b[0m \u001b[0mdatabase_connection\u001b[0m \u001b[0;34m=\u001b[0m \u001b[0mcreate_engine\u001b[0m\u001b[0;34m(\u001b[0m\u001b[0;34m'sqlite:///sample.db'\u001b[0m\u001b[0;34m)\u001b[0m\u001b[0;34m\u001b[0m\u001b[0;34m\u001b[0m\u001b[0m\n\u001b[1;32m      6\u001b[0m \u001b[0;31m# Load data\u001b[0m\u001b[0;34m\u001b[0m\u001b[0;34m\u001b[0m\u001b[0;34m\u001b[0m\u001b[0m\n\u001b[0;32m----> 7\u001b[0;31m \u001b[0mdataframe\u001b[0m \u001b[0;34m=\u001b[0m \u001b[0mpd\u001b[0m\u001b[0;34m.\u001b[0m\u001b[0mread_sql_query\u001b[0m\u001b[0;34m(\u001b[0m\u001b[0;34m'SELECT * FROM data'\u001b[0m\u001b[0;34m,\u001b[0m \u001b[0mdatabase_connection\u001b[0m\u001b[0;34m)\u001b[0m\u001b[0;34m\u001b[0m\u001b[0;34m\u001b[0m\u001b[0m\n\u001b[0m\u001b[1;32m      8\u001b[0m \u001b[0;31m# View first two rows\u001b[0m\u001b[0;34m\u001b[0m\u001b[0;34m\u001b[0m\u001b[0;34m\u001b[0m\u001b[0m\n\u001b[1;32m      9\u001b[0m \u001b[0mdataframe\u001b[0m\u001b[0;34m.\u001b[0m\u001b[0mhead\u001b[0m\u001b[0;34m(\u001b[0m\u001b[0;36m2\u001b[0m\u001b[0;34m)\u001b[0m\u001b[0;34m\u001b[0m\u001b[0;34m\u001b[0m\u001b[0m\n",
            "\u001b[0;32m/usr/local/lib/python3.7/dist-packages/pandas/io/sql.py\u001b[0m in \u001b[0;36mread_sql_query\u001b[0;34m(sql, con, index_col, coerce_float, params, parse_dates, chunksize, dtype)\u001b[0m\n\u001b[1;32m    441\u001b[0m         \u001b[0mparse_dates\u001b[0m\u001b[0;34m=\u001b[0m\u001b[0mparse_dates\u001b[0m\u001b[0;34m,\u001b[0m\u001b[0;34m\u001b[0m\u001b[0;34m\u001b[0m\u001b[0m\n\u001b[1;32m    442\u001b[0m         \u001b[0mchunksize\u001b[0m\u001b[0;34m=\u001b[0m\u001b[0mchunksize\u001b[0m\u001b[0;34m,\u001b[0m\u001b[0;34m\u001b[0m\u001b[0;34m\u001b[0m\u001b[0m\n\u001b[0;32m--> 443\u001b[0;31m         \u001b[0mdtype\u001b[0m\u001b[0;34m=\u001b[0m\u001b[0mdtype\u001b[0m\u001b[0;34m,\u001b[0m\u001b[0;34m\u001b[0m\u001b[0;34m\u001b[0m\u001b[0m\n\u001b[0m\u001b[1;32m    444\u001b[0m     )\n\u001b[1;32m    445\u001b[0m \u001b[0;34m\u001b[0m\u001b[0m\n",
            "\u001b[0;32m/usr/local/lib/python3.7/dist-packages/pandas/io/sql.py\u001b[0m in \u001b[0;36mread_query\u001b[0;34m(self, sql, index_col, coerce_float, parse_dates, params, chunksize, dtype)\u001b[0m\n\u001b[1;32m   1577\u001b[0m         \u001b[0margs\u001b[0m \u001b[0;34m=\u001b[0m \u001b[0m_convert_params\u001b[0m\u001b[0;34m(\u001b[0m\u001b[0msql\u001b[0m\u001b[0;34m,\u001b[0m \u001b[0mparams\u001b[0m\u001b[0;34m)\u001b[0m\u001b[0;34m\u001b[0m\u001b[0;34m\u001b[0m\u001b[0m\n\u001b[1;32m   1578\u001b[0m \u001b[0;34m\u001b[0m\u001b[0m\n\u001b[0;32m-> 1579\u001b[0;31m         \u001b[0mresult\u001b[0m \u001b[0;34m=\u001b[0m \u001b[0mself\u001b[0m\u001b[0;34m.\u001b[0m\u001b[0mexecute\u001b[0m\u001b[0;34m(\u001b[0m\u001b[0;34m*\u001b[0m\u001b[0margs\u001b[0m\u001b[0;34m)\u001b[0m\u001b[0;34m\u001b[0m\u001b[0;34m\u001b[0m\u001b[0m\n\u001b[0m\u001b[1;32m   1580\u001b[0m         \u001b[0mcolumns\u001b[0m \u001b[0;34m=\u001b[0m \u001b[0mresult\u001b[0m\u001b[0;34m.\u001b[0m\u001b[0mkeys\u001b[0m\u001b[0;34m(\u001b[0m\u001b[0;34m)\u001b[0m\u001b[0;34m\u001b[0m\u001b[0;34m\u001b[0m\u001b[0m\n\u001b[1;32m   1581\u001b[0m \u001b[0;34m\u001b[0m\u001b[0m\n",
            "\u001b[0;32m/usr/local/lib/python3.7/dist-packages/pandas/io/sql.py\u001b[0m in \u001b[0;36mexecute\u001b[0;34m(self, *args, **kwargs)\u001b[0m\n\u001b[1;32m   1422\u001b[0m     \u001b[0;32mdef\u001b[0m \u001b[0mexecute\u001b[0m\u001b[0;34m(\u001b[0m\u001b[0mself\u001b[0m\u001b[0;34m,\u001b[0m \u001b[0;34m*\u001b[0m\u001b[0margs\u001b[0m\u001b[0;34m,\u001b[0m \u001b[0;34m**\u001b[0m\u001b[0mkwargs\u001b[0m\u001b[0;34m)\u001b[0m\u001b[0;34m:\u001b[0m\u001b[0;34m\u001b[0m\u001b[0;34m\u001b[0m\u001b[0m\n\u001b[1;32m   1423\u001b[0m         \u001b[0;34m\"\"\"Simple passthrough to SQLAlchemy connectable\"\"\"\u001b[0m\u001b[0;34m\u001b[0m\u001b[0;34m\u001b[0m\u001b[0m\n\u001b[0;32m-> 1424\u001b[0;31m         \u001b[0;32mreturn\u001b[0m \u001b[0mself\u001b[0m\u001b[0;34m.\u001b[0m\u001b[0mconnectable\u001b[0m\u001b[0;34m.\u001b[0m\u001b[0mexecution_options\u001b[0m\u001b[0;34m(\u001b[0m\u001b[0;34m)\u001b[0m\u001b[0;34m.\u001b[0m\u001b[0mexecute\u001b[0m\u001b[0;34m(\u001b[0m\u001b[0;34m*\u001b[0m\u001b[0margs\u001b[0m\u001b[0;34m,\u001b[0m \u001b[0;34m**\u001b[0m\u001b[0mkwargs\u001b[0m\u001b[0;34m)\u001b[0m\u001b[0;34m\u001b[0m\u001b[0;34m\u001b[0m\u001b[0m\n\u001b[0m\u001b[1;32m   1425\u001b[0m \u001b[0;34m\u001b[0m\u001b[0m\n\u001b[1;32m   1426\u001b[0m     def read_table(\n",
            "\u001b[0;32m<string>\u001b[0m in \u001b[0;36mexecute\u001b[0;34m(self, statement, *multiparams, **params)\u001b[0m\n",
            "\u001b[0;32m/usr/local/lib/python3.7/dist-packages/sqlalchemy/util/deprecations.py\u001b[0m in \u001b[0;36mwarned\u001b[0;34m(fn, *args, **kwargs)\u001b[0m\n\u001b[1;32m    399\u001b[0m         \u001b[0;32mif\u001b[0m \u001b[0;32mnot\u001b[0m \u001b[0mskip_warning\u001b[0m\u001b[0;34m:\u001b[0m\u001b[0;34m\u001b[0m\u001b[0;34m\u001b[0m\u001b[0m\n\u001b[1;32m    400\u001b[0m             \u001b[0m_warn_with_version\u001b[0m\u001b[0;34m(\u001b[0m\u001b[0mmessage\u001b[0m\u001b[0;34m,\u001b[0m \u001b[0mversion\u001b[0m\u001b[0;34m,\u001b[0m \u001b[0mwtype\u001b[0m\u001b[0;34m,\u001b[0m \u001b[0mstacklevel\u001b[0m\u001b[0;34m=\u001b[0m\u001b[0;36m3\u001b[0m\u001b[0;34m)\u001b[0m\u001b[0;34m\u001b[0m\u001b[0;34m\u001b[0m\u001b[0m\n\u001b[0;32m--> 401\u001b[0;31m         \u001b[0;32mreturn\u001b[0m \u001b[0mfn\u001b[0m\u001b[0;34m(\u001b[0m\u001b[0;34m*\u001b[0m\u001b[0margs\u001b[0m\u001b[0;34m,\u001b[0m \u001b[0;34m**\u001b[0m\u001b[0mkwargs\u001b[0m\u001b[0;34m)\u001b[0m\u001b[0;34m\u001b[0m\u001b[0;34m\u001b[0m\u001b[0m\n\u001b[0m\u001b[1;32m    402\u001b[0m \u001b[0;34m\u001b[0m\u001b[0m\n\u001b[1;32m    403\u001b[0m     \u001b[0mdoc\u001b[0m \u001b[0;34m=\u001b[0m \u001b[0mfunc\u001b[0m\u001b[0;34m.\u001b[0m\u001b[0m__doc__\u001b[0m \u001b[0;32mis\u001b[0m \u001b[0;32mnot\u001b[0m \u001b[0;32mNone\u001b[0m \u001b[0;32mand\u001b[0m \u001b[0mfunc\u001b[0m\u001b[0;34m.\u001b[0m\u001b[0m__doc__\u001b[0m \u001b[0;32mor\u001b[0m \u001b[0;34m\"\"\u001b[0m\u001b[0;34m\u001b[0m\u001b[0;34m\u001b[0m\u001b[0m\n",
            "\u001b[0;32m/usr/local/lib/python3.7/dist-packages/sqlalchemy/engine/base.py\u001b[0m in \u001b[0;36mexecute\u001b[0;34m(self, statement, *multiparams, **params)\u001b[0m\n\u001b[1;32m   3144\u001b[0m         \"\"\"\n\u001b[1;32m   3145\u001b[0m         \u001b[0mconnection\u001b[0m \u001b[0;34m=\u001b[0m \u001b[0mself\u001b[0m\u001b[0;34m.\u001b[0m\u001b[0mconnect\u001b[0m\u001b[0;34m(\u001b[0m\u001b[0mclose_with_result\u001b[0m\u001b[0;34m=\u001b[0m\u001b[0;32mTrue\u001b[0m\u001b[0;34m)\u001b[0m\u001b[0;34m\u001b[0m\u001b[0;34m\u001b[0m\u001b[0m\n\u001b[0;32m-> 3146\u001b[0;31m         \u001b[0;32mreturn\u001b[0m \u001b[0mconnection\u001b[0m\u001b[0;34m.\u001b[0m\u001b[0mexecute\u001b[0m\u001b[0;34m(\u001b[0m\u001b[0mstatement\u001b[0m\u001b[0;34m,\u001b[0m \u001b[0;34m*\u001b[0m\u001b[0mmultiparams\u001b[0m\u001b[0;34m,\u001b[0m \u001b[0;34m**\u001b[0m\u001b[0mparams\u001b[0m\u001b[0;34m)\u001b[0m\u001b[0;34m\u001b[0m\u001b[0;34m\u001b[0m\u001b[0m\n\u001b[0m\u001b[1;32m   3147\u001b[0m \u001b[0;34m\u001b[0m\u001b[0m\n\u001b[1;32m   3148\u001b[0m     @util.deprecated_20(\n",
            "\u001b[0;32m/usr/local/lib/python3.7/dist-packages/sqlalchemy/engine/base.py\u001b[0m in \u001b[0;36mexecute\u001b[0;34m(self, statement, *multiparams, **params)\u001b[0m\n\u001b[1;32m   1277\u001b[0m                 \u001b[0mparams\u001b[0m\u001b[0;34m,\u001b[0m\u001b[0;34m\u001b[0m\u001b[0;34m\u001b[0m\u001b[0m\n\u001b[1;32m   1278\u001b[0m                 \u001b[0m_EMPTY_EXECUTION_OPTS\u001b[0m\u001b[0;34m,\u001b[0m\u001b[0;34m\u001b[0m\u001b[0;34m\u001b[0m\u001b[0m\n\u001b[0;32m-> 1279\u001b[0;31m                 \u001b[0mfuture\u001b[0m\u001b[0;34m=\u001b[0m\u001b[0;32mFalse\u001b[0m\u001b[0;34m,\u001b[0m\u001b[0;34m\u001b[0m\u001b[0;34m\u001b[0m\u001b[0m\n\u001b[0m\u001b[1;32m   1280\u001b[0m             )\n\u001b[1;32m   1281\u001b[0m \u001b[0;34m\u001b[0m\u001b[0m\n",
            "\u001b[0;32m/usr/local/lib/python3.7/dist-packages/sqlalchemy/engine/base.py\u001b[0m in \u001b[0;36m_exec_driver_sql\u001b[0;34m(self, statement, multiparams, params, execution_options, future)\u001b[0m\n\u001b[1;32m   1583\u001b[0m             \u001b[0mexecution_options\u001b[0m\u001b[0;34m,\u001b[0m\u001b[0;34m\u001b[0m\u001b[0;34m\u001b[0m\u001b[0m\n\u001b[1;32m   1584\u001b[0m             \u001b[0mstatement\u001b[0m\u001b[0;34m,\u001b[0m\u001b[0;34m\u001b[0m\u001b[0;34m\u001b[0m\u001b[0m\n\u001b[0;32m-> 1585\u001b[0;31m             \u001b[0mdistilled_parameters\u001b[0m\u001b[0;34m,\u001b[0m\u001b[0;34m\u001b[0m\u001b[0;34m\u001b[0m\u001b[0m\n\u001b[0m\u001b[1;32m   1586\u001b[0m         )\n\u001b[1;32m   1587\u001b[0m \u001b[0;34m\u001b[0m\u001b[0m\n",
            "\u001b[0;32m/usr/local/lib/python3.7/dist-packages/sqlalchemy/engine/base.py\u001b[0m in \u001b[0;36m_execute_context\u001b[0;34m(self, dialect, constructor, statement, parameters, execution_options, *args, **kw)\u001b[0m\n\u001b[1;32m   1844\u001b[0m         \u001b[0;32mexcept\u001b[0m \u001b[0mBaseException\u001b[0m \u001b[0;32mas\u001b[0m \u001b[0me\u001b[0m\u001b[0;34m:\u001b[0m\u001b[0;34m\u001b[0m\u001b[0;34m\u001b[0m\u001b[0m\n\u001b[1;32m   1845\u001b[0m             self._handle_dbapi_exception(\n\u001b[0;32m-> 1846\u001b[0;31m                 \u001b[0me\u001b[0m\u001b[0;34m,\u001b[0m \u001b[0mstatement\u001b[0m\u001b[0;34m,\u001b[0m \u001b[0mparameters\u001b[0m\u001b[0;34m,\u001b[0m \u001b[0mcursor\u001b[0m\u001b[0;34m,\u001b[0m \u001b[0mcontext\u001b[0m\u001b[0;34m\u001b[0m\u001b[0;34m\u001b[0m\u001b[0m\n\u001b[0m\u001b[1;32m   1847\u001b[0m             )\n\u001b[1;32m   1848\u001b[0m \u001b[0;34m\u001b[0m\u001b[0m\n",
            "\u001b[0;32m/usr/local/lib/python3.7/dist-packages/sqlalchemy/engine/base.py\u001b[0m in \u001b[0;36m_handle_dbapi_exception\u001b[0;34m(self, e, statement, parameters, cursor, context)\u001b[0m\n\u001b[1;32m   2025\u001b[0m             \u001b[0;32melif\u001b[0m \u001b[0mshould_wrap\u001b[0m\u001b[0;34m:\u001b[0m\u001b[0;34m\u001b[0m\u001b[0;34m\u001b[0m\u001b[0m\n\u001b[1;32m   2026\u001b[0m                 util.raise_(\n\u001b[0;32m-> 2027\u001b[0;31m                     \u001b[0msqlalchemy_exception\u001b[0m\u001b[0;34m,\u001b[0m \u001b[0mwith_traceback\u001b[0m\u001b[0;34m=\u001b[0m\u001b[0mexc_info\u001b[0m\u001b[0;34m[\u001b[0m\u001b[0;36m2\u001b[0m\u001b[0;34m]\u001b[0m\u001b[0;34m,\u001b[0m \u001b[0mfrom_\u001b[0m\u001b[0;34m=\u001b[0m\u001b[0me\u001b[0m\u001b[0;34m\u001b[0m\u001b[0;34m\u001b[0m\u001b[0m\n\u001b[0m\u001b[1;32m   2028\u001b[0m                 )\n\u001b[1;32m   2029\u001b[0m             \u001b[0;32melse\u001b[0m\u001b[0;34m:\u001b[0m\u001b[0;34m\u001b[0m\u001b[0;34m\u001b[0m\u001b[0m\n",
            "\u001b[0;32m/usr/local/lib/python3.7/dist-packages/sqlalchemy/util/compat.py\u001b[0m in \u001b[0;36mraise_\u001b[0;34m(***failed resolving arguments***)\u001b[0m\n\u001b[1;32m    205\u001b[0m \u001b[0;34m\u001b[0m\u001b[0m\n\u001b[1;32m    206\u001b[0m         \u001b[0;32mtry\u001b[0m\u001b[0;34m:\u001b[0m\u001b[0;34m\u001b[0m\u001b[0;34m\u001b[0m\u001b[0m\n\u001b[0;32m--> 207\u001b[0;31m             \u001b[0;32mraise\u001b[0m \u001b[0mexception\u001b[0m\u001b[0;34m\u001b[0m\u001b[0;34m\u001b[0m\u001b[0m\n\u001b[0m\u001b[1;32m    208\u001b[0m         \u001b[0;32mfinally\u001b[0m\u001b[0;34m:\u001b[0m\u001b[0;34m\u001b[0m\u001b[0;34m\u001b[0m\u001b[0m\n\u001b[1;32m    209\u001b[0m             \u001b[0;31m# credit to\u001b[0m\u001b[0;34m\u001b[0m\u001b[0;34m\u001b[0m\u001b[0;34m\u001b[0m\u001b[0m\n",
            "\u001b[0;32m/usr/local/lib/python3.7/dist-packages/sqlalchemy/engine/base.py\u001b[0m in \u001b[0;36m_execute_context\u001b[0;34m(self, dialect, constructor, statement, parameters, execution_options, *args, **kw)\u001b[0m\n\u001b[1;32m   1801\u001b[0m                 \u001b[0;32mif\u001b[0m \u001b[0;32mnot\u001b[0m \u001b[0mevt_handled\u001b[0m\u001b[0;34m:\u001b[0m\u001b[0;34m\u001b[0m\u001b[0;34m\u001b[0m\u001b[0m\n\u001b[1;32m   1802\u001b[0m                     self.dialect.do_execute(\n\u001b[0;32m-> 1803\u001b[0;31m                         \u001b[0mcursor\u001b[0m\u001b[0;34m,\u001b[0m \u001b[0mstatement\u001b[0m\u001b[0;34m,\u001b[0m \u001b[0mparameters\u001b[0m\u001b[0;34m,\u001b[0m \u001b[0mcontext\u001b[0m\u001b[0;34m\u001b[0m\u001b[0;34m\u001b[0m\u001b[0m\n\u001b[0m\u001b[1;32m   1804\u001b[0m                     )\n\u001b[1;32m   1805\u001b[0m \u001b[0;34m\u001b[0m\u001b[0m\n",
            "\u001b[0;32m/usr/local/lib/python3.7/dist-packages/sqlalchemy/engine/default.py\u001b[0m in \u001b[0;36mdo_execute\u001b[0;34m(self, cursor, statement, parameters, context)\u001b[0m\n\u001b[1;32m    730\u001b[0m \u001b[0;34m\u001b[0m\u001b[0m\n\u001b[1;32m    731\u001b[0m     \u001b[0;32mdef\u001b[0m \u001b[0mdo_execute\u001b[0m\u001b[0;34m(\u001b[0m\u001b[0mself\u001b[0m\u001b[0;34m,\u001b[0m \u001b[0mcursor\u001b[0m\u001b[0;34m,\u001b[0m \u001b[0mstatement\u001b[0m\u001b[0;34m,\u001b[0m \u001b[0mparameters\u001b[0m\u001b[0;34m,\u001b[0m \u001b[0mcontext\u001b[0m\u001b[0;34m=\u001b[0m\u001b[0;32mNone\u001b[0m\u001b[0;34m)\u001b[0m\u001b[0;34m:\u001b[0m\u001b[0;34m\u001b[0m\u001b[0;34m\u001b[0m\u001b[0m\n\u001b[0;32m--> 732\u001b[0;31m         \u001b[0mcursor\u001b[0m\u001b[0;34m.\u001b[0m\u001b[0mexecute\u001b[0m\u001b[0;34m(\u001b[0m\u001b[0mstatement\u001b[0m\u001b[0;34m,\u001b[0m \u001b[0mparameters\u001b[0m\u001b[0;34m)\u001b[0m\u001b[0;34m\u001b[0m\u001b[0;34m\u001b[0m\u001b[0m\n\u001b[0m\u001b[1;32m    733\u001b[0m \u001b[0;34m\u001b[0m\u001b[0m\n\u001b[1;32m    734\u001b[0m     \u001b[0;32mdef\u001b[0m \u001b[0mdo_execute_no_params\u001b[0m\u001b[0;34m(\u001b[0m\u001b[0mself\u001b[0m\u001b[0;34m,\u001b[0m \u001b[0mcursor\u001b[0m\u001b[0;34m,\u001b[0m \u001b[0mstatement\u001b[0m\u001b[0;34m,\u001b[0m \u001b[0mcontext\u001b[0m\u001b[0;34m=\u001b[0m\u001b[0;32mNone\u001b[0m\u001b[0;34m)\u001b[0m\u001b[0;34m:\u001b[0m\u001b[0;34m\u001b[0m\u001b[0;34m\u001b[0m\u001b[0m\n",
            "\u001b[0;31mOperationalError\u001b[0m: (sqlite3.OperationalError) no such table: data\n[SQL: SELECT * FROM data]\n(Background on this error at: https://sqlalche.me/e/14/e3q8)"
          ]
        }
      ]
    },
    {
      "cell_type": "markdown",
      "source": [
        "# **Data Wrangling**\n",
        "Data wrangling is a broad term used, often informally, to describe the process of\n",
        "transforming raw data to a clean and organized format ready for use. For us, data\n",
        "wrangling is only one step in preprocessing our data, but it is an important step.\n",
        "The most common data structure used to “wrangle” data is the data frame, which can\n",
        "be both intuitive and incredibly versatile. Data frames are tabular, meaning that they\n",
        "are based on rows and columns like you would see in a spreadsheet. "
      ],
      "metadata": {
        "id": "0dfSMTW6xNfl"
      }
    },
    {
      "cell_type": "code",
      "source": [
        "# Here is a data frame created from data about passengers on the Titanic:\n",
        "\n",
        "# Load library\n",
        "import pandas as pd\n",
        "# Create URL\n",
        "\n",
        "# Load data as a dataframe\n",
        "dataframe = pd.read_csv(url)\n",
        "# Show first 5 rows\n",
        "dataframe.head(5)"
      ],
      "metadata": {
        "colab": {
          "base_uri": "https://localhost:8080/",
          "height": 206
        },
        "id": "JLDxTgv1xhKa",
        "outputId": "cefaead1-e35b-4037-e55b-cff41704094c"
      },
      "execution_count": null,
      "outputs": [
        {
          "output_type": "execute_result",
          "data": {
            "text/html": [
              "\n",
              "  <div id=\"df-d0d42b9d-ce82-4c0a-909e-1c1638c992d9\">\n",
              "    <div class=\"colab-df-container\">\n",
              "      <div>\n",
              "<style scoped>\n",
              "    .dataframe tbody tr th:only-of-type {\n",
              "        vertical-align: middle;\n",
              "    }\n",
              "\n",
              "    .dataframe tbody tr th {\n",
              "        vertical-align: top;\n",
              "    }\n",
              "\n",
              "    .dataframe thead th {\n",
              "        text-align: right;\n",
              "    }\n",
              "</style>\n",
              "<table border=\"1\" class=\"dataframe\">\n",
              "  <thead>\n",
              "    <tr style=\"text-align: right;\">\n",
              "      <th></th>\n",
              "      <th>Name</th>\n",
              "      <th>PClass</th>\n",
              "      <th>Age</th>\n",
              "      <th>Sex</th>\n",
              "      <th>Survived</th>\n",
              "    </tr>\n",
              "  </thead>\n",
              "  <tbody>\n",
              "    <tr>\n",
              "      <th>0</th>\n",
              "      <td>Allen, Miss Elisabeth Walton</td>\n",
              "      <td>1st</td>\n",
              "      <td>29.00</td>\n",
              "      <td>female</td>\n",
              "      <td>1</td>\n",
              "    </tr>\n",
              "    <tr>\n",
              "      <th>1</th>\n",
              "      <td>Allison, Miss Helen Loraine</td>\n",
              "      <td>1st</td>\n",
              "      <td>2.00</td>\n",
              "      <td>female</td>\n",
              "      <td>0</td>\n",
              "    </tr>\n",
              "    <tr>\n",
              "      <th>2</th>\n",
              "      <td>Allison, Mr Hudson Joshua Creighton</td>\n",
              "      <td>1st</td>\n",
              "      <td>30.00</td>\n",
              "      <td>male</td>\n",
              "      <td>0</td>\n",
              "    </tr>\n",
              "    <tr>\n",
              "      <th>3</th>\n",
              "      <td>Allison, Mrs Hudson JC (Bessie Waldo Daniels)</td>\n",
              "      <td>1st</td>\n",
              "      <td>25.00</td>\n",
              "      <td>female</td>\n",
              "      <td>0</td>\n",
              "    </tr>\n",
              "    <tr>\n",
              "      <th>4</th>\n",
              "      <td>Allison, Master Hudson Trevor</td>\n",
              "      <td>1st</td>\n",
              "      <td>0.92</td>\n",
              "      <td>male</td>\n",
              "      <td>1</td>\n",
              "    </tr>\n",
              "  </tbody>\n",
              "</table>\n",
              "</div>\n",
              "      <button class=\"colab-df-convert\" onclick=\"convertToInteractive('df-d0d42b9d-ce82-4c0a-909e-1c1638c992d9')\"\n",
              "              title=\"Convert this dataframe to an interactive table.\"\n",
              "              style=\"display:none;\">\n",
              "        \n",
              "  <svg xmlns=\"http://www.w3.org/2000/svg\" height=\"24px\"viewBox=\"0 0 24 24\"\n",
              "       width=\"24px\">\n",
              "    <path d=\"M0 0h24v24H0V0z\" fill=\"none\"/>\n",
              "    <path d=\"M18.56 5.44l.94 2.06.94-2.06 2.06-.94-2.06-.94-.94-2.06-.94 2.06-2.06.94zm-11 1L8.5 8.5l.94-2.06 2.06-.94-2.06-.94L8.5 2.5l-.94 2.06-2.06.94zm10 10l.94 2.06.94-2.06 2.06-.94-2.06-.94-.94-2.06-.94 2.06-2.06.94z\"/><path d=\"M17.41 7.96l-1.37-1.37c-.4-.4-.92-.59-1.43-.59-.52 0-1.04.2-1.43.59L10.3 9.45l-7.72 7.72c-.78.78-.78 2.05 0 2.83L4 21.41c.39.39.9.59 1.41.59.51 0 1.02-.2 1.41-.59l7.78-7.78 2.81-2.81c.8-.78.8-2.07 0-2.86zM5.41 20L4 18.59l7.72-7.72 1.47 1.35L5.41 20z\"/>\n",
              "  </svg>\n",
              "      </button>\n",
              "      \n",
              "  <style>\n",
              "    .colab-df-container {\n",
              "      display:flex;\n",
              "      flex-wrap:wrap;\n",
              "      gap: 12px;\n",
              "    }\n",
              "\n",
              "    .colab-df-convert {\n",
              "      background-color: #E8F0FE;\n",
              "      border: none;\n",
              "      border-radius: 50%;\n",
              "      cursor: pointer;\n",
              "      display: none;\n",
              "      fill: #1967D2;\n",
              "      height: 32px;\n",
              "      padding: 0 0 0 0;\n",
              "      width: 32px;\n",
              "    }\n",
              "\n",
              "    .colab-df-convert:hover {\n",
              "      background-color: #E2EBFA;\n",
              "      box-shadow: 0px 1px 2px rgba(60, 64, 67, 0.3), 0px 1px 3px 1px rgba(60, 64, 67, 0.15);\n",
              "      fill: #174EA6;\n",
              "    }\n",
              "\n",
              "    [theme=dark] .colab-df-convert {\n",
              "      background-color: #3B4455;\n",
              "      fill: #D2E3FC;\n",
              "    }\n",
              "\n",
              "    [theme=dark] .colab-df-convert:hover {\n",
              "      background-color: #434B5C;\n",
              "      box-shadow: 0px 1px 3px 1px rgba(0, 0, 0, 0.15);\n",
              "      filter: drop-shadow(0px 1px 2px rgba(0, 0, 0, 0.3));\n",
              "      fill: #FFFFFF;\n",
              "    }\n",
              "  </style>\n",
              "\n",
              "      <script>\n",
              "        const buttonEl =\n",
              "          document.querySelector('#df-d0d42b9d-ce82-4c0a-909e-1c1638c992d9 button.colab-df-convert');\n",
              "        buttonEl.style.display =\n",
              "          google.colab.kernel.accessAllowed ? 'block' : 'none';\n",
              "\n",
              "        async function convertToInteractive(key) {\n",
              "          const element = document.querySelector('#df-d0d42b9d-ce82-4c0a-909e-1c1638c992d9');\n",
              "          const dataTable =\n",
              "            await google.colab.kernel.invokeFunction('convertToInteractive',\n",
              "                                                     [key], {});\n",
              "          if (!dataTable) return;\n",
              "\n",
              "          const docLinkHtml = 'Like what you see? Visit the ' +\n",
              "            '<a target=\"_blank\" href=https://colab.research.google.com/notebooks/data_table.ipynb>data table notebook</a>'\n",
              "            + ' to learn more about interactive tables.';\n",
              "          element.innerHTML = '';\n",
              "          dataTable['output_type'] = 'display_data';\n",
              "          await google.colab.output.renderOutput(dataTable, element);\n",
              "          const docLink = document.createElement('div');\n",
              "          docLink.innerHTML = docLinkHtml;\n",
              "          element.appendChild(docLink);\n",
              "        }\n",
              "      </script>\n",
              "    </div>\n",
              "  </div>\n",
              "  "
            ],
            "text/plain": [
              "                                            Name PClass  ...     Sex Survived\n",
              "0                   Allen, Miss Elisabeth Walton    1st  ...  female        1\n",
              "1                    Allison, Miss Helen Loraine    1st  ...  female        0\n",
              "2            Allison, Mr Hudson Joshua Creighton    1st  ...    male        0\n",
              "3  Allison, Mrs Hudson JC (Bessie Waldo Daniels)    1st  ...  female        0\n",
              "4                  Allison, Master Hudson Trevor    1st  ...    male        1\n",
              "\n",
              "[5 rows x 5 columns]"
            ]
          },
          "metadata": {},
          "execution_count": 52
        }
      ]
    },
    {
      "cell_type": "markdown",
      "source": [
        ""
      ],
      "metadata": {
        "id": "saQpExFgQAEd"
      }
    },
    {
      "cell_type": "markdown",
      "source": [
        "There are three important things to notice in this data frame.\n",
        "\n",
        "First, in a data frame each row corresponds to one observation (e.g., a passenger) and\n",
        "each column corresponds to one feature (gender, age, etc.). For example, by looking\n",
        "at the first observation we can see that Miss Elisabeth Walton Allen stayed in first\n",
        "class, was 29 years old, was female, and survived the disaster.\n",
        "\n",
        "Second, each column contains a name (e.g., Name, PClass, Age) and each row contains\n",
        "an index number (e.g., 0 for the lucky Miss Elisabeth Walton Allen). We will use these\n",
        "to select and manipulate observations and features.\n",
        "\n",
        "Third, two columns, Sex and SexCode, contain the same information in different for‐\n",
        "mats. In Sex, a woman is indicated by the string female, while in SexCode, a woman\n",
        "is indicated by using the integer 1. We will want all our features to be unique, and\n",
        "therefore we will need to remove one of these columns.\n",
        "\n",
        "Now, we will cover a wide variety of techniques to manipulate data frames\n",
        "using the pandas library with the goal of creating a clean, well-structured set of obser‐\n",
        "vations for further preprocessing."
      ],
      "metadata": {
        "id": "cdsn2Puvx6H_"
      }
    },
    {
      "cell_type": "markdown",
      "source": [
        "**Problem**\n",
        "You want to create a new data frame.\n",
        "\n",
        "**Solution**\n",
        "pandas has many methods of creating a new DataFrame object.\n",
        "\n",
        " One easy method is\n",
        "to create an empty data frame using DataFrame and then define each column separately:"
      ],
      "metadata": {
        "id": "odUzDtjGyCg5"
      }
    },
    {
      "cell_type": "code",
      "source": [
        "# Load library\n",
        "import pandas as pd\n",
        "\n",
        "# Create DataFrame\n",
        "dataframe = pd.DataFrame()\n",
        "\n",
        "# Add columns\n",
        "dataframe['Name'] = ['Jacky Jackson', 'Steven Stevenson']\n",
        "dataframe['Age'] = [38, 25]\n",
        "dataframe['Driver'] = [True, False]\n",
        "\n",
        "# Show DataFrame\n",
        "dataframe"
      ],
      "metadata": {
        "colab": {
          "base_uri": "https://localhost:8080/",
          "height": 112
        },
        "id": "akz1jbAgyNiG",
        "outputId": "9d3c2e80-810d-46c0-f46b-710277964ec9"
      },
      "execution_count": null,
      "outputs": [
        {
          "output_type": "execute_result",
          "data": {
            "text/html": [
              "\n",
              "  <div id=\"df-e79c0125-23ea-425a-aace-2344103ed239\">\n",
              "    <div class=\"colab-df-container\">\n",
              "      <div>\n",
              "<style scoped>\n",
              "    .dataframe tbody tr th:only-of-type {\n",
              "        vertical-align: middle;\n",
              "    }\n",
              "\n",
              "    .dataframe tbody tr th {\n",
              "        vertical-align: top;\n",
              "    }\n",
              "\n",
              "    .dataframe thead th {\n",
              "        text-align: right;\n",
              "    }\n",
              "</style>\n",
              "<table border=\"1\" class=\"dataframe\">\n",
              "  <thead>\n",
              "    <tr style=\"text-align: right;\">\n",
              "      <th></th>\n",
              "      <th>Name</th>\n",
              "      <th>Age</th>\n",
              "      <th>Driver</th>\n",
              "    </tr>\n",
              "  </thead>\n",
              "  <tbody>\n",
              "    <tr>\n",
              "      <th>0</th>\n",
              "      <td>Jacky Jackson</td>\n",
              "      <td>38</td>\n",
              "      <td>True</td>\n",
              "    </tr>\n",
              "    <tr>\n",
              "      <th>1</th>\n",
              "      <td>Steven Stevenson</td>\n",
              "      <td>25</td>\n",
              "      <td>False</td>\n",
              "    </tr>\n",
              "  </tbody>\n",
              "</table>\n",
              "</div>\n",
              "      <button class=\"colab-df-convert\" onclick=\"convertToInteractive('df-e79c0125-23ea-425a-aace-2344103ed239')\"\n",
              "              title=\"Convert this dataframe to an interactive table.\"\n",
              "              style=\"display:none;\">\n",
              "        \n",
              "  <svg xmlns=\"http://www.w3.org/2000/svg\" height=\"24px\"viewBox=\"0 0 24 24\"\n",
              "       width=\"24px\">\n",
              "    <path d=\"M0 0h24v24H0V0z\" fill=\"none\"/>\n",
              "    <path d=\"M18.56 5.44l.94 2.06.94-2.06 2.06-.94-2.06-.94-.94-2.06-.94 2.06-2.06.94zm-11 1L8.5 8.5l.94-2.06 2.06-.94-2.06-.94L8.5 2.5l-.94 2.06-2.06.94zm10 10l.94 2.06.94-2.06 2.06-.94-2.06-.94-.94-2.06-.94 2.06-2.06.94z\"/><path d=\"M17.41 7.96l-1.37-1.37c-.4-.4-.92-.59-1.43-.59-.52 0-1.04.2-1.43.59L10.3 9.45l-7.72 7.72c-.78.78-.78 2.05 0 2.83L4 21.41c.39.39.9.59 1.41.59.51 0 1.02-.2 1.41-.59l7.78-7.78 2.81-2.81c.8-.78.8-2.07 0-2.86zM5.41 20L4 18.59l7.72-7.72 1.47 1.35L5.41 20z\"/>\n",
              "  </svg>\n",
              "      </button>\n",
              "      \n",
              "  <style>\n",
              "    .colab-df-container {\n",
              "      display:flex;\n",
              "      flex-wrap:wrap;\n",
              "      gap: 12px;\n",
              "    }\n",
              "\n",
              "    .colab-df-convert {\n",
              "      background-color: #E8F0FE;\n",
              "      border: none;\n",
              "      border-radius: 50%;\n",
              "      cursor: pointer;\n",
              "      display: none;\n",
              "      fill: #1967D2;\n",
              "      height: 32px;\n",
              "      padding: 0 0 0 0;\n",
              "      width: 32px;\n",
              "    }\n",
              "\n",
              "    .colab-df-convert:hover {\n",
              "      background-color: #E2EBFA;\n",
              "      box-shadow: 0px 1px 2px rgba(60, 64, 67, 0.3), 0px 1px 3px 1px rgba(60, 64, 67, 0.15);\n",
              "      fill: #174EA6;\n",
              "    }\n",
              "\n",
              "    [theme=dark] .colab-df-convert {\n",
              "      background-color: #3B4455;\n",
              "      fill: #D2E3FC;\n",
              "    }\n",
              "\n",
              "    [theme=dark] .colab-df-convert:hover {\n",
              "      background-color: #434B5C;\n",
              "      box-shadow: 0px 1px 3px 1px rgba(0, 0, 0, 0.15);\n",
              "      filter: drop-shadow(0px 1px 2px rgba(0, 0, 0, 0.3));\n",
              "      fill: #FFFFFF;\n",
              "    }\n",
              "  </style>\n",
              "\n",
              "      <script>\n",
              "        const buttonEl =\n",
              "          document.querySelector('#df-e79c0125-23ea-425a-aace-2344103ed239 button.colab-df-convert');\n",
              "        buttonEl.style.display =\n",
              "          google.colab.kernel.accessAllowed ? 'block' : 'none';\n",
              "\n",
              "        async function convertToInteractive(key) {\n",
              "          const element = document.querySelector('#df-e79c0125-23ea-425a-aace-2344103ed239');\n",
              "          const dataTable =\n",
              "            await google.colab.kernel.invokeFunction('convertToInteractive',\n",
              "                                                     [key], {});\n",
              "          if (!dataTable) return;\n",
              "\n",
              "          const docLinkHtml = 'Like what you see? Visit the ' +\n",
              "            '<a target=\"_blank\" href=https://colab.research.google.com/notebooks/data_table.ipynb>data table notebook</a>'\n",
              "            + ' to learn more about interactive tables.';\n",
              "          element.innerHTML = '';\n",
              "          dataTable['output_type'] = 'display_data';\n",
              "          await google.colab.output.renderOutput(dataTable, element);\n",
              "          const docLink = document.createElement('div');\n",
              "          docLink.innerHTML = docLinkHtml;\n",
              "          element.appendChild(docLink);\n",
              "        }\n",
              "      </script>\n",
              "    </div>\n",
              "  </div>\n",
              "  "
            ],
            "text/plain": [
              "               Name  Age  Driver\n",
              "0     Jacky Jackson   38    True\n",
              "1  Steven Stevenson   25   False"
            ]
          },
          "metadata": {},
          "execution_count": 53
        }
      ]
    },
    {
      "cell_type": "code",
      "source": [
        "# Alternatively, once we have created a DataFrame object, we can append new rows to the bottom:\n",
        "\n",
        "# Create row\n",
        "new_person = pd.Series(['Molly Mooney', 40, True], index=['Name','Age','Driver'])\n",
        "# Append row\n",
        "dataframe.append(new_person, ignore_index=True)"
      ],
      "metadata": {
        "colab": {
          "base_uri": "https://localhost:8080/",
          "height": 143
        },
        "id": "zhzkz_1NyUR2",
        "outputId": "9b479de4-38f0-4860-881c-e7a6b9fb7b84"
      },
      "execution_count": null,
      "outputs": [
        {
          "output_type": "execute_result",
          "data": {
            "text/html": [
              "\n",
              "  <div id=\"df-8aaa9655-3bc6-4a76-a57f-82ce00dfbf4f\">\n",
              "    <div class=\"colab-df-container\">\n",
              "      <div>\n",
              "<style scoped>\n",
              "    .dataframe tbody tr th:only-of-type {\n",
              "        vertical-align: middle;\n",
              "    }\n",
              "\n",
              "    .dataframe tbody tr th {\n",
              "        vertical-align: top;\n",
              "    }\n",
              "\n",
              "    .dataframe thead th {\n",
              "        text-align: right;\n",
              "    }\n",
              "</style>\n",
              "<table border=\"1\" class=\"dataframe\">\n",
              "  <thead>\n",
              "    <tr style=\"text-align: right;\">\n",
              "      <th></th>\n",
              "      <th>Name</th>\n",
              "      <th>Age</th>\n",
              "      <th>Driver</th>\n",
              "    </tr>\n",
              "  </thead>\n",
              "  <tbody>\n",
              "    <tr>\n",
              "      <th>0</th>\n",
              "      <td>Jacky Jackson</td>\n",
              "      <td>38</td>\n",
              "      <td>True</td>\n",
              "    </tr>\n",
              "    <tr>\n",
              "      <th>1</th>\n",
              "      <td>Steven Stevenson</td>\n",
              "      <td>25</td>\n",
              "      <td>False</td>\n",
              "    </tr>\n",
              "    <tr>\n",
              "      <th>2</th>\n",
              "      <td>Molly Mooney</td>\n",
              "      <td>40</td>\n",
              "      <td>True</td>\n",
              "    </tr>\n",
              "  </tbody>\n",
              "</table>\n",
              "</div>\n",
              "      <button class=\"colab-df-convert\" onclick=\"convertToInteractive('df-8aaa9655-3bc6-4a76-a57f-82ce00dfbf4f')\"\n",
              "              title=\"Convert this dataframe to an interactive table.\"\n",
              "              style=\"display:none;\">\n",
              "        \n",
              "  <svg xmlns=\"http://www.w3.org/2000/svg\" height=\"24px\"viewBox=\"0 0 24 24\"\n",
              "       width=\"24px\">\n",
              "    <path d=\"M0 0h24v24H0V0z\" fill=\"none\"/>\n",
              "    <path d=\"M18.56 5.44l.94 2.06.94-2.06 2.06-.94-2.06-.94-.94-2.06-.94 2.06-2.06.94zm-11 1L8.5 8.5l.94-2.06 2.06-.94-2.06-.94L8.5 2.5l-.94 2.06-2.06.94zm10 10l.94 2.06.94-2.06 2.06-.94-2.06-.94-.94-2.06-.94 2.06-2.06.94z\"/><path d=\"M17.41 7.96l-1.37-1.37c-.4-.4-.92-.59-1.43-.59-.52 0-1.04.2-1.43.59L10.3 9.45l-7.72 7.72c-.78.78-.78 2.05 0 2.83L4 21.41c.39.39.9.59 1.41.59.51 0 1.02-.2 1.41-.59l7.78-7.78 2.81-2.81c.8-.78.8-2.07 0-2.86zM5.41 20L4 18.59l7.72-7.72 1.47 1.35L5.41 20z\"/>\n",
              "  </svg>\n",
              "      </button>\n",
              "      \n",
              "  <style>\n",
              "    .colab-df-container {\n",
              "      display:flex;\n",
              "      flex-wrap:wrap;\n",
              "      gap: 12px;\n",
              "    }\n",
              "\n",
              "    .colab-df-convert {\n",
              "      background-color: #E8F0FE;\n",
              "      border: none;\n",
              "      border-radius: 50%;\n",
              "      cursor: pointer;\n",
              "      display: none;\n",
              "      fill: #1967D2;\n",
              "      height: 32px;\n",
              "      padding: 0 0 0 0;\n",
              "      width: 32px;\n",
              "    }\n",
              "\n",
              "    .colab-df-convert:hover {\n",
              "      background-color: #E2EBFA;\n",
              "      box-shadow: 0px 1px 2px rgba(60, 64, 67, 0.3), 0px 1px 3px 1px rgba(60, 64, 67, 0.15);\n",
              "      fill: #174EA6;\n",
              "    }\n",
              "\n",
              "    [theme=dark] .colab-df-convert {\n",
              "      background-color: #3B4455;\n",
              "      fill: #D2E3FC;\n",
              "    }\n",
              "\n",
              "    [theme=dark] .colab-df-convert:hover {\n",
              "      background-color: #434B5C;\n",
              "      box-shadow: 0px 1px 3px 1px rgba(0, 0, 0, 0.15);\n",
              "      filter: drop-shadow(0px 1px 2px rgba(0, 0, 0, 0.3));\n",
              "      fill: #FFFFFF;\n",
              "    }\n",
              "  </style>\n",
              "\n",
              "      <script>\n",
              "        const buttonEl =\n",
              "          document.querySelector('#df-8aaa9655-3bc6-4a76-a57f-82ce00dfbf4f button.colab-df-convert');\n",
              "        buttonEl.style.display =\n",
              "          google.colab.kernel.accessAllowed ? 'block' : 'none';\n",
              "\n",
              "        async function convertToInteractive(key) {\n",
              "          const element = document.querySelector('#df-8aaa9655-3bc6-4a76-a57f-82ce00dfbf4f');\n",
              "          const dataTable =\n",
              "            await google.colab.kernel.invokeFunction('convertToInteractive',\n",
              "                                                     [key], {});\n",
              "          if (!dataTable) return;\n",
              "\n",
              "          const docLinkHtml = 'Like what you see? Visit the ' +\n",
              "            '<a target=\"_blank\" href=https://colab.research.google.com/notebooks/data_table.ipynb>data table notebook</a>'\n",
              "            + ' to learn more about interactive tables.';\n",
              "          element.innerHTML = '';\n",
              "          dataTable['output_type'] = 'display_data';\n",
              "          await google.colab.output.renderOutput(dataTable, element);\n",
              "          const docLink = document.createElement('div');\n",
              "          docLink.innerHTML = docLinkHtml;\n",
              "          element.appendChild(docLink);\n",
              "        }\n",
              "      </script>\n",
              "    </div>\n",
              "  </div>\n",
              "  "
            ],
            "text/plain": [
              "               Name  Age  Driver\n",
              "0     Jacky Jackson   38    True\n",
              "1  Steven Stevenson   25   False\n",
              "2      Molly Mooney   40    True"
            ]
          },
          "metadata": {},
          "execution_count": 40
        }
      ]
    },
    {
      "cell_type": "markdown",
      "source": [
        "In\n",
        "the real world, creating an empty DataFrame and then populating it will almost never\n",
        "happen. Instead, our DataFrames will be created from real data we have loading from\n",
        "other sources (e.g., a CSV file or database)."
      ],
      "metadata": {
        "id": "drGRiPuVyeUM"
      }
    },
    {
      "cell_type": "markdown",
      "source": [
        "**Problem**\n",
        "You want to view some characteristics of a DataFrame.\n",
        "\n",
        "**Solution**\n",
        "One of the easiest things we can do after loading the data is view the first few rows\n",
        "using head:"
      ],
      "metadata": {
        "id": "JV_CCQvHyfzM"
      }
    },
    {
      "cell_type": "code",
      "source": [
        "# Load library\n",
        "import pandas as pd\n",
        "# Create URL\n",
        "url=titanic\n",
        "# Load data\n",
        "dataframe = pd.read_csv(url )\n",
        "# Show two rows\n",
        "dataframe.head(2)\n",
        "\n",
        "# We can also take a look at the number of rows and columns:\n",
        "# Show dimensions\n",
        "dataframe.shape\n",
        "\n",
        "# Additionally, we can get descriptive statistics for any numeric columns using describe:\n",
        "\n",
        "# Show statistics\n",
        "dataframe.describe()"
      ],
      "metadata": {
        "colab": {
          "base_uri": "https://localhost:8080/",
          "height": 300
        },
        "id": "tFyuOG9uykte",
        "outputId": "c0e600ad-430d-44a9-b488-86031f7b889f"
      },
      "execution_count": null,
      "outputs": [
        {
          "output_type": "execute_result",
          "data": {
            "text/html": [
              "\n",
              "  <div id=\"df-5cbee2d6-b02e-4a67-bcf0-dcbe18d236cc\">\n",
              "    <div class=\"colab-df-container\">\n",
              "      <div>\n",
              "<style scoped>\n",
              "    .dataframe tbody tr th:only-of-type {\n",
              "        vertical-align: middle;\n",
              "    }\n",
              "\n",
              "    .dataframe tbody tr th {\n",
              "        vertical-align: top;\n",
              "    }\n",
              "\n",
              "    .dataframe thead th {\n",
              "        text-align: right;\n",
              "    }\n",
              "</style>\n",
              "<table border=\"1\" class=\"dataframe\">\n",
              "  <thead>\n",
              "    <tr style=\"text-align: right;\">\n",
              "      <th></th>\n",
              "      <th>Age</th>\n",
              "      <th>Survived</th>\n",
              "    </tr>\n",
              "  </thead>\n",
              "  <tbody>\n",
              "    <tr>\n",
              "      <th>count</th>\n",
              "      <td>756.000000</td>\n",
              "      <td>1313.000000</td>\n",
              "    </tr>\n",
              "    <tr>\n",
              "      <th>mean</th>\n",
              "      <td>30.397989</td>\n",
              "      <td>0.342727</td>\n",
              "    </tr>\n",
              "    <tr>\n",
              "      <th>std</th>\n",
              "      <td>14.259049</td>\n",
              "      <td>0.474802</td>\n",
              "    </tr>\n",
              "    <tr>\n",
              "      <th>min</th>\n",
              "      <td>0.170000</td>\n",
              "      <td>0.000000</td>\n",
              "    </tr>\n",
              "    <tr>\n",
              "      <th>25%</th>\n",
              "      <td>21.000000</td>\n",
              "      <td>0.000000</td>\n",
              "    </tr>\n",
              "    <tr>\n",
              "      <th>50%</th>\n",
              "      <td>28.000000</td>\n",
              "      <td>0.000000</td>\n",
              "    </tr>\n",
              "    <tr>\n",
              "      <th>75%</th>\n",
              "      <td>39.000000</td>\n",
              "      <td>1.000000</td>\n",
              "    </tr>\n",
              "    <tr>\n",
              "      <th>max</th>\n",
              "      <td>71.000000</td>\n",
              "      <td>1.000000</td>\n",
              "    </tr>\n",
              "  </tbody>\n",
              "</table>\n",
              "</div>\n",
              "      <button class=\"colab-df-convert\" onclick=\"convertToInteractive('df-5cbee2d6-b02e-4a67-bcf0-dcbe18d236cc')\"\n",
              "              title=\"Convert this dataframe to an interactive table.\"\n",
              "              style=\"display:none;\">\n",
              "        \n",
              "  <svg xmlns=\"http://www.w3.org/2000/svg\" height=\"24px\"viewBox=\"0 0 24 24\"\n",
              "       width=\"24px\">\n",
              "    <path d=\"M0 0h24v24H0V0z\" fill=\"none\"/>\n",
              "    <path d=\"M18.56 5.44l.94 2.06.94-2.06 2.06-.94-2.06-.94-.94-2.06-.94 2.06-2.06.94zm-11 1L8.5 8.5l.94-2.06 2.06-.94-2.06-.94L8.5 2.5l-.94 2.06-2.06.94zm10 10l.94 2.06.94-2.06 2.06-.94-2.06-.94-.94-2.06-.94 2.06-2.06.94z\"/><path d=\"M17.41 7.96l-1.37-1.37c-.4-.4-.92-.59-1.43-.59-.52 0-1.04.2-1.43.59L10.3 9.45l-7.72 7.72c-.78.78-.78 2.05 0 2.83L4 21.41c.39.39.9.59 1.41.59.51 0 1.02-.2 1.41-.59l7.78-7.78 2.81-2.81c.8-.78.8-2.07 0-2.86zM5.41 20L4 18.59l7.72-7.72 1.47 1.35L5.41 20z\"/>\n",
              "  </svg>\n",
              "      </button>\n",
              "      \n",
              "  <style>\n",
              "    .colab-df-container {\n",
              "      display:flex;\n",
              "      flex-wrap:wrap;\n",
              "      gap: 12px;\n",
              "    }\n",
              "\n",
              "    .colab-df-convert {\n",
              "      background-color: #E8F0FE;\n",
              "      border: none;\n",
              "      border-radius: 50%;\n",
              "      cursor: pointer;\n",
              "      display: none;\n",
              "      fill: #1967D2;\n",
              "      height: 32px;\n",
              "      padding: 0 0 0 0;\n",
              "      width: 32px;\n",
              "    }\n",
              "\n",
              "    .colab-df-convert:hover {\n",
              "      background-color: #E2EBFA;\n",
              "      box-shadow: 0px 1px 2px rgba(60, 64, 67, 0.3), 0px 1px 3px 1px rgba(60, 64, 67, 0.15);\n",
              "      fill: #174EA6;\n",
              "    }\n",
              "\n",
              "    [theme=dark] .colab-df-convert {\n",
              "      background-color: #3B4455;\n",
              "      fill: #D2E3FC;\n",
              "    }\n",
              "\n",
              "    [theme=dark] .colab-df-convert:hover {\n",
              "      background-color: #434B5C;\n",
              "      box-shadow: 0px 1px 3px 1px rgba(0, 0, 0, 0.15);\n",
              "      filter: drop-shadow(0px 1px 2px rgba(0, 0, 0, 0.3));\n",
              "      fill: #FFFFFF;\n",
              "    }\n",
              "  </style>\n",
              "\n",
              "      <script>\n",
              "        const buttonEl =\n",
              "          document.querySelector('#df-5cbee2d6-b02e-4a67-bcf0-dcbe18d236cc button.colab-df-convert');\n",
              "        buttonEl.style.display =\n",
              "          google.colab.kernel.accessAllowed ? 'block' : 'none';\n",
              "\n",
              "        async function convertToInteractive(key) {\n",
              "          const element = document.querySelector('#df-5cbee2d6-b02e-4a67-bcf0-dcbe18d236cc');\n",
              "          const dataTable =\n",
              "            await google.colab.kernel.invokeFunction('convertToInteractive',\n",
              "                                                     [key], {});\n",
              "          if (!dataTable) return;\n",
              "\n",
              "          const docLinkHtml = 'Like what you see? Visit the ' +\n",
              "            '<a target=\"_blank\" href=https://colab.research.google.com/notebooks/data_table.ipynb>data table notebook</a>'\n",
              "            + ' to learn more about interactive tables.';\n",
              "          element.innerHTML = '';\n",
              "          dataTable['output_type'] = 'display_data';\n",
              "          await google.colab.output.renderOutput(dataTable, element);\n",
              "          const docLink = document.createElement('div');\n",
              "          docLink.innerHTML = docLinkHtml;\n",
              "          element.appendChild(docLink);\n",
              "        }\n",
              "      </script>\n",
              "    </div>\n",
              "  </div>\n",
              "  "
            ],
            "text/plain": [
              "              Age     Survived\n",
              "count  756.000000  1313.000000\n",
              "mean    30.397989     0.342727\n",
              "std     14.259049     0.474802\n",
              "min      0.170000     0.000000\n",
              "25%     21.000000     0.000000\n",
              "50%     28.000000     0.000000\n",
              "75%     39.000000     1.000000\n",
              "max     71.000000     1.000000"
            ]
          },
          "metadata": {},
          "execution_count": 54
        }
      ]
    },
    {
      "cell_type": "markdown",
      "source": [
        "After we load some data, it is a good idea to understand how it is structured and what\n",
        "kind of information it contains. Ideally, we would view the full data directly. But with\n",
        "most real-world cases, the data could have thousands to hundreds of thousands to\n",
        "millions of rows and columns. Instead, we have to rely on pulling samples to view\n",
        "small slices and calculating summary statistics of the data.\n",
        "In our solution, we are using a toy dataset of the passengers of the Titanic on her last\n",
        "voyage. Using head we can take a look at the first few rows (five by default) of the\n",
        "data. Alternatively, we can use tail to view the last few rows. With shape we can see\n",
        "how many rows and columns our DataFrame contains. And finally, with describe we\n",
        "can see some basic descriptive statistics for any numerical column.\n",
        "It is worth noting that summary statistics do not always tell the full story. For exam‐\n",
        "ple, pandas treats the columns Survived and SexCode as numeric columns because\n",
        "they contain 1s and 0s. However, in this case the numerical values represent cate‐\n",
        "gories. For example, if Survived equals 1, it indicates that the passenger survived the\n",
        "disaster. For this reason, some of the summary statistics provided don’t make sense, such as the standard deviation of the SexCode column (an indicator of the passenger’s\n",
        "gender)."
      ],
      "metadata": {
        "id": "vmShBhPZzAOL"
      }
    },
    {
      "cell_type": "markdown",
      "source": [
        "**Problem**\n",
        "You need to select individual data or slices of a DataFrame.\n",
        "\n",
        "**Solution**\n",
        "Use loc or iloc to select one or more rows or values:"
      ],
      "metadata": {
        "id": "t2K5tmSgzDPe"
      }
    },
    {
      "cell_type": "code",
      "source": [
        "# Load library\n",
        "import pandas as pd\n",
        "\n",
        "# Select first row\n",
        "dataframe.iloc[0]\n",
        "\n",
        "#We can use : to define a slice of rows we want, such as selecting the second, third, and fourth rows:\n",
        "\n",
        "# Select three rows\n",
        "dataframe.iloc[1:4]\n",
        "\n",
        "# We can even use it to get all rows up to a point, such as all rows up to and including the fourth row:\n",
        "\n",
        "# Select three rows\n",
        "dataframe.iloc[:4]\n",
        "\n",
        "# DataFrames do not need to be numerically indexed. We can set the index of a DataFrame to any value where the value is unique to each row. For example, we can set the\n",
        "#index to be passenger names and then select rows using a name:\n",
        "\n",
        "# Set index\n",
        "dataframe = dataframe.set_index(dataframe['Name'])\n",
        "# Show row\n",
        "dataframe.loc['Allen, Miss Elisabeth Walton']\n",
        "\n",
        "# All rows in a pandas DataFrame have a unique index value. By default, this index is an integer indicating the row position in the DataFrame; however, it does not have to be. \n",
        "# DataFrame indexes can be set to be unique alphanumeric strings or customer numbers. To select individual rows and slices of rows, pandas provides two methods:\n",
        "# • loc is useful when the index of the DataFrame is a label (e.g., a string).\n",
        "# • iloc works by looking for the position in the DataFrame. For example, iloc[0]\n",
        "# will return the first row regardless of whether the index is an integer or a label.\n",
        "# It is useful to be comfortable with both loc and iloc since they will come up a lot during data cleaning."
      ],
      "metadata": {
        "colab": {
          "base_uri": "https://localhost:8080/"
        },
        "id": "eB2ALVw1zKem",
        "outputId": "c7fe420a-3930-4269-9904-dad7a5e98fce"
      },
      "execution_count": null,
      "outputs": [
        {
          "output_type": "execute_result",
          "data": {
            "text/plain": [
              "Name        Allen, Miss Elisabeth Walton\n",
              "PClass                               1st\n",
              "Age                                 29.0\n",
              "Sex                               female\n",
              "Survived                               1\n",
              "Name: Allen, Miss Elisabeth Walton, dtype: object"
            ]
          },
          "metadata": {},
          "execution_count": 55
        }
      ]
    },
    {
      "cell_type": "markdown",
      "source": [
        "**Problem**\n",
        "You want to select DataFrame rows based on some condition.\n",
        "\n",
        "**Solution**\n",
        "This can be easily done in pandas. For example, if we wanted to select all the women on the Titanic:"
      ],
      "metadata": {
        "id": "JJJFhCVf0AtU"
      }
    },
    {
      "cell_type": "code",
      "source": [
        "# Load library\n",
        "import pandas as pd\n",
        "# Create URL\n",
        "url=titanic\n",
        "# Load data\n",
        "dataframe = pd.read_csv(url)\n",
        "# Show top two rows where column 'sex' is 'female'\n",
        "dataframe[dataframe['Sex'] == 'female'].head(2)\n",
        "\n",
        "# Filter rows\n",
        "dataframe[(dataframe['Sex'] == 'female') & (dataframe['Age'] >= 65)]\n",
        "\n",
        "# Conditionally selecting and filtering data is one of the most common tasks in data wrangling. \n"
      ],
      "metadata": {
        "colab": {
          "base_uri": "https://localhost:8080/",
          "height": 81
        },
        "id": "SOx2_tYc0Ac-",
        "outputId": "fad7ba10-2902-42e4-d051-797d9599ed46"
      },
      "execution_count": null,
      "outputs": [
        {
          "output_type": "execute_result",
          "data": {
            "text/html": [
              "\n",
              "  <div id=\"df-133eed76-da70-4dde-b8f7-8b38946a0083\">\n",
              "    <div class=\"colab-df-container\">\n",
              "      <div>\n",
              "<style scoped>\n",
              "    .dataframe tbody tr th:only-of-type {\n",
              "        vertical-align: middle;\n",
              "    }\n",
              "\n",
              "    .dataframe tbody tr th {\n",
              "        vertical-align: top;\n",
              "    }\n",
              "\n",
              "    .dataframe thead th {\n",
              "        text-align: right;\n",
              "    }\n",
              "</style>\n",
              "<table border=\"1\" class=\"dataframe\">\n",
              "  <thead>\n",
              "    <tr style=\"text-align: right;\">\n",
              "      <th></th>\n",
              "      <th>Name</th>\n",
              "      <th>PClass</th>\n",
              "      <th>Age</th>\n",
              "      <th>Sex</th>\n",
              "      <th>Survived</th>\n",
              "    </tr>\n",
              "  </thead>\n",
              "  <tbody>\n",
              "    <tr>\n",
              "      <th>73</th>\n",
              "      <td>Crosby, Mrs Edward Gifford (Catherine Elizabet...</td>\n",
              "      <td>1st</td>\n",
              "      <td>69.0</td>\n",
              "      <td>female</td>\n",
              "      <td>1</td>\n",
              "    </tr>\n",
              "  </tbody>\n",
              "</table>\n",
              "</div>\n",
              "      <button class=\"colab-df-convert\" onclick=\"convertToInteractive('df-133eed76-da70-4dde-b8f7-8b38946a0083')\"\n",
              "              title=\"Convert this dataframe to an interactive table.\"\n",
              "              style=\"display:none;\">\n",
              "        \n",
              "  <svg xmlns=\"http://www.w3.org/2000/svg\" height=\"24px\"viewBox=\"0 0 24 24\"\n",
              "       width=\"24px\">\n",
              "    <path d=\"M0 0h24v24H0V0z\" fill=\"none\"/>\n",
              "    <path d=\"M18.56 5.44l.94 2.06.94-2.06 2.06-.94-2.06-.94-.94-2.06-.94 2.06-2.06.94zm-11 1L8.5 8.5l.94-2.06 2.06-.94-2.06-.94L8.5 2.5l-.94 2.06-2.06.94zm10 10l.94 2.06.94-2.06 2.06-.94-2.06-.94-.94-2.06-.94 2.06-2.06.94z\"/><path d=\"M17.41 7.96l-1.37-1.37c-.4-.4-.92-.59-1.43-.59-.52 0-1.04.2-1.43.59L10.3 9.45l-7.72 7.72c-.78.78-.78 2.05 0 2.83L4 21.41c.39.39.9.59 1.41.59.51 0 1.02-.2 1.41-.59l7.78-7.78 2.81-2.81c.8-.78.8-2.07 0-2.86zM5.41 20L4 18.59l7.72-7.72 1.47 1.35L5.41 20z\"/>\n",
              "  </svg>\n",
              "      </button>\n",
              "      \n",
              "  <style>\n",
              "    .colab-df-container {\n",
              "      display:flex;\n",
              "      flex-wrap:wrap;\n",
              "      gap: 12px;\n",
              "    }\n",
              "\n",
              "    .colab-df-convert {\n",
              "      background-color: #E8F0FE;\n",
              "      border: none;\n",
              "      border-radius: 50%;\n",
              "      cursor: pointer;\n",
              "      display: none;\n",
              "      fill: #1967D2;\n",
              "      height: 32px;\n",
              "      padding: 0 0 0 0;\n",
              "      width: 32px;\n",
              "    }\n",
              "\n",
              "    .colab-df-convert:hover {\n",
              "      background-color: #E2EBFA;\n",
              "      box-shadow: 0px 1px 2px rgba(60, 64, 67, 0.3), 0px 1px 3px 1px rgba(60, 64, 67, 0.15);\n",
              "      fill: #174EA6;\n",
              "    }\n",
              "\n",
              "    [theme=dark] .colab-df-convert {\n",
              "      background-color: #3B4455;\n",
              "      fill: #D2E3FC;\n",
              "    }\n",
              "\n",
              "    [theme=dark] .colab-df-convert:hover {\n",
              "      background-color: #434B5C;\n",
              "      box-shadow: 0px 1px 3px 1px rgba(0, 0, 0, 0.15);\n",
              "      filter: drop-shadow(0px 1px 2px rgba(0, 0, 0, 0.3));\n",
              "      fill: #FFFFFF;\n",
              "    }\n",
              "  </style>\n",
              "\n",
              "      <script>\n",
              "        const buttonEl =\n",
              "          document.querySelector('#df-133eed76-da70-4dde-b8f7-8b38946a0083 button.colab-df-convert');\n",
              "        buttonEl.style.display =\n",
              "          google.colab.kernel.accessAllowed ? 'block' : 'none';\n",
              "\n",
              "        async function convertToInteractive(key) {\n",
              "          const element = document.querySelector('#df-133eed76-da70-4dde-b8f7-8b38946a0083');\n",
              "          const dataTable =\n",
              "            await google.colab.kernel.invokeFunction('convertToInteractive',\n",
              "                                                     [key], {});\n",
              "          if (!dataTable) return;\n",
              "\n",
              "          const docLinkHtml = 'Like what you see? Visit the ' +\n",
              "            '<a target=\"_blank\" href=https://colab.research.google.com/notebooks/data_table.ipynb>data table notebook</a>'\n",
              "            + ' to learn more about interactive tables.';\n",
              "          element.innerHTML = '';\n",
              "          dataTable['output_type'] = 'display_data';\n",
              "          await google.colab.output.renderOutput(dataTable, element);\n",
              "          const docLink = document.createElement('div');\n",
              "          docLink.innerHTML = docLinkHtml;\n",
              "          element.appendChild(docLink);\n",
              "        }\n",
              "      </script>\n",
              "    </div>\n",
              "  </div>\n",
              "  "
            ],
            "text/plain": [
              "                                                 Name PClass  ...     Sex Survived\n",
              "73  Crosby, Mrs Edward Gifford (Catherine Elizabet...    1st  ...  female        1\n",
              "\n",
              "[1 rows x 5 columns]"
            ]
          },
          "metadata": {},
          "execution_count": 56
        }
      ]
    },
    {
      "cell_type": "markdown",
      "source": [
        "**Problem**\n",
        "You need to replace values in a DataFrame.\n",
        "\n",
        "**Solution**\n",
        "pandas’ replace is an easy way to find and replace values"
      ],
      "metadata": {
        "id": "9f5e6gpp7BeH"
      }
    },
    {
      "cell_type": "code",
      "source": [
        "# Load library\n",
        "import pandas as pd\n",
        "# Create URL\n",
        "url=titanic\n",
        "# Load data\n",
        "dataframe = pd.read_csv(url)\n",
        "\n",
        "# Replace values, show two rows\n",
        "dataframe['Sex'].replace(\"female\", \"Woman\").head(2)\n",
        "\n",
        "# Replace \"female\" and \"male with \"Woman\" and \"Man\"\n",
        "dataframe['Sex'].replace([\"female\", \"male\"], [\"Woman\", \"Man\"]).head(5)\n",
        "\n",
        "# Replace values, show two rows\n",
        "dataframe.replace(1, \"One\").head(2)\n",
        "\n",
        "# Replace values, show two rows\n",
        "dataframe.replace(r\"1st\", \"First\", regex=True).head(2)"
      ],
      "metadata": {
        "colab": {
          "base_uri": "https://localhost:8080/",
          "height": 112
        },
        "id": "gvwaxwFz7Gh3",
        "outputId": "dff0c873-d8a4-45ef-a058-ce2c748ac9b7"
      },
      "execution_count": null,
      "outputs": [
        {
          "output_type": "execute_result",
          "data": {
            "text/html": [
              "\n",
              "  <div id=\"df-5f31c7d5-ed32-4c84-8e13-2becd63fc3be\">\n",
              "    <div class=\"colab-df-container\">\n",
              "      <div>\n",
              "<style scoped>\n",
              "    .dataframe tbody tr th:only-of-type {\n",
              "        vertical-align: middle;\n",
              "    }\n",
              "\n",
              "    .dataframe tbody tr th {\n",
              "        vertical-align: top;\n",
              "    }\n",
              "\n",
              "    .dataframe thead th {\n",
              "        text-align: right;\n",
              "    }\n",
              "</style>\n",
              "<table border=\"1\" class=\"dataframe\">\n",
              "  <thead>\n",
              "    <tr style=\"text-align: right;\">\n",
              "      <th></th>\n",
              "      <th>Name</th>\n",
              "      <th>PClass</th>\n",
              "      <th>Age</th>\n",
              "      <th>Sex</th>\n",
              "      <th>Survived</th>\n",
              "    </tr>\n",
              "  </thead>\n",
              "  <tbody>\n",
              "    <tr>\n",
              "      <th>0</th>\n",
              "      <td>Allen, Miss Elisabeth Walton</td>\n",
              "      <td>First</td>\n",
              "      <td>29.0</td>\n",
              "      <td>female</td>\n",
              "      <td>1</td>\n",
              "    </tr>\n",
              "    <tr>\n",
              "      <th>1</th>\n",
              "      <td>Allison, Miss Helen Loraine</td>\n",
              "      <td>First</td>\n",
              "      <td>2.0</td>\n",
              "      <td>female</td>\n",
              "      <td>0</td>\n",
              "    </tr>\n",
              "  </tbody>\n",
              "</table>\n",
              "</div>\n",
              "      <button class=\"colab-df-convert\" onclick=\"convertToInteractive('df-5f31c7d5-ed32-4c84-8e13-2becd63fc3be')\"\n",
              "              title=\"Convert this dataframe to an interactive table.\"\n",
              "              style=\"display:none;\">\n",
              "        \n",
              "  <svg xmlns=\"http://www.w3.org/2000/svg\" height=\"24px\"viewBox=\"0 0 24 24\"\n",
              "       width=\"24px\">\n",
              "    <path d=\"M0 0h24v24H0V0z\" fill=\"none\"/>\n",
              "    <path d=\"M18.56 5.44l.94 2.06.94-2.06 2.06-.94-2.06-.94-.94-2.06-.94 2.06-2.06.94zm-11 1L8.5 8.5l.94-2.06 2.06-.94-2.06-.94L8.5 2.5l-.94 2.06-2.06.94zm10 10l.94 2.06.94-2.06 2.06-.94-2.06-.94-.94-2.06-.94 2.06-2.06.94z\"/><path d=\"M17.41 7.96l-1.37-1.37c-.4-.4-.92-.59-1.43-.59-.52 0-1.04.2-1.43.59L10.3 9.45l-7.72 7.72c-.78.78-.78 2.05 0 2.83L4 21.41c.39.39.9.59 1.41.59.51 0 1.02-.2 1.41-.59l7.78-7.78 2.81-2.81c.8-.78.8-2.07 0-2.86zM5.41 20L4 18.59l7.72-7.72 1.47 1.35L5.41 20z\"/>\n",
              "  </svg>\n",
              "      </button>\n",
              "      \n",
              "  <style>\n",
              "    .colab-df-container {\n",
              "      display:flex;\n",
              "      flex-wrap:wrap;\n",
              "      gap: 12px;\n",
              "    }\n",
              "\n",
              "    .colab-df-convert {\n",
              "      background-color: #E8F0FE;\n",
              "      border: none;\n",
              "      border-radius: 50%;\n",
              "      cursor: pointer;\n",
              "      display: none;\n",
              "      fill: #1967D2;\n",
              "      height: 32px;\n",
              "      padding: 0 0 0 0;\n",
              "      width: 32px;\n",
              "    }\n",
              "\n",
              "    .colab-df-convert:hover {\n",
              "      background-color: #E2EBFA;\n",
              "      box-shadow: 0px 1px 2px rgba(60, 64, 67, 0.3), 0px 1px 3px 1px rgba(60, 64, 67, 0.15);\n",
              "      fill: #174EA6;\n",
              "    }\n",
              "\n",
              "    [theme=dark] .colab-df-convert {\n",
              "      background-color: #3B4455;\n",
              "      fill: #D2E3FC;\n",
              "    }\n",
              "\n",
              "    [theme=dark] .colab-df-convert:hover {\n",
              "      background-color: #434B5C;\n",
              "      box-shadow: 0px 1px 3px 1px rgba(0, 0, 0, 0.15);\n",
              "      filter: drop-shadow(0px 1px 2px rgba(0, 0, 0, 0.3));\n",
              "      fill: #FFFFFF;\n",
              "    }\n",
              "  </style>\n",
              "\n",
              "      <script>\n",
              "        const buttonEl =\n",
              "          document.querySelector('#df-5f31c7d5-ed32-4c84-8e13-2becd63fc3be button.colab-df-convert');\n",
              "        buttonEl.style.display =\n",
              "          google.colab.kernel.accessAllowed ? 'block' : 'none';\n",
              "\n",
              "        async function convertToInteractive(key) {\n",
              "          const element = document.querySelector('#df-5f31c7d5-ed32-4c84-8e13-2becd63fc3be');\n",
              "          const dataTable =\n",
              "            await google.colab.kernel.invokeFunction('convertToInteractive',\n",
              "                                                     [key], {});\n",
              "          if (!dataTable) return;\n",
              "\n",
              "          const docLinkHtml = 'Like what you see? Visit the ' +\n",
              "            '<a target=\"_blank\" href=https://colab.research.google.com/notebooks/data_table.ipynb>data table notebook</a>'\n",
              "            + ' to learn more about interactive tables.';\n",
              "          element.innerHTML = '';\n",
              "          dataTable['output_type'] = 'display_data';\n",
              "          await google.colab.output.renderOutput(dataTable, element);\n",
              "          const docLink = document.createElement('div');\n",
              "          docLink.innerHTML = docLinkHtml;\n",
              "          element.appendChild(docLink);\n",
              "        }\n",
              "      </script>\n",
              "    </div>\n",
              "  </div>\n",
              "  "
            ],
            "text/plain": [
              "                           Name PClass   Age     Sex  Survived\n",
              "0  Allen, Miss Elisabeth Walton  First  29.0  female         1\n",
              "1   Allison, Miss Helen Loraine  First   2.0  female         0"
            ]
          },
          "metadata": {},
          "execution_count": 57
        }
      ]
    },
    {
      "cell_type": "markdown",
      "source": [
        "**Problem**\n",
        "You want to rename a column in a pandas DataFrame.\n",
        "\n",
        "**Solution**\n",
        "Rename columns using the rename method:"
      ],
      "metadata": {
        "id": "s9F84V777V0Y"
      }
    },
    {
      "cell_type": "code",
      "source": [
        "# Load library\n",
        "import pandas as pd\n",
        "# Create URL\n",
        "url=titanic\n",
        "# Load data\n",
        "dataframe = pd.read_csv(url)\n",
        "# Rename column, show two rows\n",
        "dataframe.rename(columns={'PClass': 'Passenger Class'}).head(2)\n",
        "\n",
        "# Rename columns, show two rows\n",
        "dataframe.rename(columns={'PClass': 'Passenger Class', 'Sex': 'Gender'}).head(2)"
      ],
      "metadata": {
        "colab": {
          "base_uri": "https://localhost:8080/",
          "height": 112
        },
        "id": "Y536B4oF7YCn",
        "outputId": "6cb35038-3b8e-40bd-aac2-b7b549d59a80"
      },
      "execution_count": null,
      "outputs": [
        {
          "output_type": "execute_result",
          "data": {
            "text/html": [
              "\n",
              "  <div id=\"df-3e14ce1d-7518-44e4-b141-e3f34d4c7dca\">\n",
              "    <div class=\"colab-df-container\">\n",
              "      <div>\n",
              "<style scoped>\n",
              "    .dataframe tbody tr th:only-of-type {\n",
              "        vertical-align: middle;\n",
              "    }\n",
              "\n",
              "    .dataframe tbody tr th {\n",
              "        vertical-align: top;\n",
              "    }\n",
              "\n",
              "    .dataframe thead th {\n",
              "        text-align: right;\n",
              "    }\n",
              "</style>\n",
              "<table border=\"1\" class=\"dataframe\">\n",
              "  <thead>\n",
              "    <tr style=\"text-align: right;\">\n",
              "      <th></th>\n",
              "      <th>Name</th>\n",
              "      <th>Passenger Class</th>\n",
              "      <th>Age</th>\n",
              "      <th>Gender</th>\n",
              "      <th>Survived</th>\n",
              "    </tr>\n",
              "  </thead>\n",
              "  <tbody>\n",
              "    <tr>\n",
              "      <th>0</th>\n",
              "      <td>Allen, Miss Elisabeth Walton</td>\n",
              "      <td>1st</td>\n",
              "      <td>29.0</td>\n",
              "      <td>female</td>\n",
              "      <td>1</td>\n",
              "    </tr>\n",
              "    <tr>\n",
              "      <th>1</th>\n",
              "      <td>Allison, Miss Helen Loraine</td>\n",
              "      <td>1st</td>\n",
              "      <td>2.0</td>\n",
              "      <td>female</td>\n",
              "      <td>0</td>\n",
              "    </tr>\n",
              "  </tbody>\n",
              "</table>\n",
              "</div>\n",
              "      <button class=\"colab-df-convert\" onclick=\"convertToInteractive('df-3e14ce1d-7518-44e4-b141-e3f34d4c7dca')\"\n",
              "              title=\"Convert this dataframe to an interactive table.\"\n",
              "              style=\"display:none;\">\n",
              "        \n",
              "  <svg xmlns=\"http://www.w3.org/2000/svg\" height=\"24px\"viewBox=\"0 0 24 24\"\n",
              "       width=\"24px\">\n",
              "    <path d=\"M0 0h24v24H0V0z\" fill=\"none\"/>\n",
              "    <path d=\"M18.56 5.44l.94 2.06.94-2.06 2.06-.94-2.06-.94-.94-2.06-.94 2.06-2.06.94zm-11 1L8.5 8.5l.94-2.06 2.06-.94-2.06-.94L8.5 2.5l-.94 2.06-2.06.94zm10 10l.94 2.06.94-2.06 2.06-.94-2.06-.94-.94-2.06-.94 2.06-2.06.94z\"/><path d=\"M17.41 7.96l-1.37-1.37c-.4-.4-.92-.59-1.43-.59-.52 0-1.04.2-1.43.59L10.3 9.45l-7.72 7.72c-.78.78-.78 2.05 0 2.83L4 21.41c.39.39.9.59 1.41.59.51 0 1.02-.2 1.41-.59l7.78-7.78 2.81-2.81c.8-.78.8-2.07 0-2.86zM5.41 20L4 18.59l7.72-7.72 1.47 1.35L5.41 20z\"/>\n",
              "  </svg>\n",
              "      </button>\n",
              "      \n",
              "  <style>\n",
              "    .colab-df-container {\n",
              "      display:flex;\n",
              "      flex-wrap:wrap;\n",
              "      gap: 12px;\n",
              "    }\n",
              "\n",
              "    .colab-df-convert {\n",
              "      background-color: #E8F0FE;\n",
              "      border: none;\n",
              "      border-radius: 50%;\n",
              "      cursor: pointer;\n",
              "      display: none;\n",
              "      fill: #1967D2;\n",
              "      height: 32px;\n",
              "      padding: 0 0 0 0;\n",
              "      width: 32px;\n",
              "    }\n",
              "\n",
              "    .colab-df-convert:hover {\n",
              "      background-color: #E2EBFA;\n",
              "      box-shadow: 0px 1px 2px rgba(60, 64, 67, 0.3), 0px 1px 3px 1px rgba(60, 64, 67, 0.15);\n",
              "      fill: #174EA6;\n",
              "    }\n",
              "\n",
              "    [theme=dark] .colab-df-convert {\n",
              "      background-color: #3B4455;\n",
              "      fill: #D2E3FC;\n",
              "    }\n",
              "\n",
              "    [theme=dark] .colab-df-convert:hover {\n",
              "      background-color: #434B5C;\n",
              "      box-shadow: 0px 1px 3px 1px rgba(0, 0, 0, 0.15);\n",
              "      filter: drop-shadow(0px 1px 2px rgba(0, 0, 0, 0.3));\n",
              "      fill: #FFFFFF;\n",
              "    }\n",
              "  </style>\n",
              "\n",
              "      <script>\n",
              "        const buttonEl =\n",
              "          document.querySelector('#df-3e14ce1d-7518-44e4-b141-e3f34d4c7dca button.colab-df-convert');\n",
              "        buttonEl.style.display =\n",
              "          google.colab.kernel.accessAllowed ? 'block' : 'none';\n",
              "\n",
              "        async function convertToInteractive(key) {\n",
              "          const element = document.querySelector('#df-3e14ce1d-7518-44e4-b141-e3f34d4c7dca');\n",
              "          const dataTable =\n",
              "            await google.colab.kernel.invokeFunction('convertToInteractive',\n",
              "                                                     [key], {});\n",
              "          if (!dataTable) return;\n",
              "\n",
              "          const docLinkHtml = 'Like what you see? Visit the ' +\n",
              "            '<a target=\"_blank\" href=https://colab.research.google.com/notebooks/data_table.ipynb>data table notebook</a>'\n",
              "            + ' to learn more about interactive tables.';\n",
              "          element.innerHTML = '';\n",
              "          dataTable['output_type'] = 'display_data';\n",
              "          await google.colab.output.renderOutput(dataTable, element);\n",
              "          const docLink = document.createElement('div');\n",
              "          docLink.innerHTML = docLinkHtml;\n",
              "          element.appendChild(docLink);\n",
              "        }\n",
              "      </script>\n",
              "    </div>\n",
              "  </div>\n",
              "  "
            ],
            "text/plain": [
              "                           Name Passenger Class   Age  Gender  Survived\n",
              "0  Allen, Miss Elisabeth Walton             1st  29.0  female         1\n",
              "1   Allison, Miss Helen Loraine             1st   2.0  female         0"
            ]
          },
          "metadata": {},
          "execution_count": 58
        }
      ]
    },
    {
      "cell_type": "code",
      "source": [
        "#If we want to rename all columns at once, this helpful snippet of code creates a dictionary with the old column names as keys and empty strings as values:\n",
        "\n",
        "# Load library\n",
        "import collections\n",
        "# Create dictionary\n",
        "column_names = collections.defaultdict(str)\n",
        "# Create keys\n",
        "for name in dataframe.columns:\n",
        " column_names[name]\n",
        "\n",
        "\n",
        "# Show dictionary\n",
        "column_names"
      ],
      "metadata": {
        "colab": {
          "base_uri": "https://localhost:8080/"
        },
        "id": "8fgDObfE7lJM",
        "outputId": "a0c0e05c-3565-4715-fb96-fb2f0ceb07d5"
      },
      "execution_count": null,
      "outputs": [
        {
          "output_type": "execute_result",
          "data": {
            "text/plain": [
              "defaultdict(str,\n",
              "            {'Age': '', 'Name': '', 'PClass': '', 'Sex': '', 'Survived': ''})"
            ]
          },
          "metadata": {},
          "execution_count": 59
        }
      ]
    },
    {
      "cell_type": "markdown",
      "source": [
        "**Problem**\n",
        "You want to find the min, max, sum, average, or count of a numeric column.\n",
        "\n",
        "**Solution**\n",
        "pandas comes with some built-in methods for commonly used descriptive statistics:"
      ],
      "metadata": {
        "id": "XvoIIT3C74--"
      }
    },
    {
      "cell_type": "code",
      "source": [
        "# Load library\n",
        "import pandas as pd\n",
        "# Create URL\n",
        "url=titanic\n",
        "# Load data\n",
        "dataframe = pd.read_csv(url)\n",
        "# Calculate statistics\n",
        "print('Maximum:', dataframe['Age'].max())\n",
        "print('Minimum:', dataframe['Age'].min())\n",
        "print('Mean:', dataframe['Age'].mean())\n",
        "print('Sum:', dataframe['Age'].sum())\n",
        "print('Count:', dataframe['Age'].count())"
      ],
      "metadata": {
        "colab": {
          "base_uri": "https://localhost:8080/"
        },
        "id": "EtuXrbJI79cl",
        "outputId": "1f2dbcb9-802d-490a-ae5f-88eeb3024489"
      },
      "execution_count": null,
      "outputs": [
        {
          "output_type": "stream",
          "name": "stdout",
          "text": [
            "Maximum: 71.0\n",
            "Minimum: 0.17\n",
            "Mean: 30.397989417989415\n",
            "Sum: 22980.88\n",
            "Count: 756\n"
          ]
        }
      ]
    },
    {
      "cell_type": "code",
      "source": [
        "#In addition to the statistics used in the solution, pandas offers \n",
        "#variance (var), standard deviation (std), kurtosis (kurt), skewness (skew), \n",
        "#standard error of the mean (sem), mode (mode), median (median), and a number of others.\n",
        "#Furthermore, we can also apply these methods to the whole DataFrame:\n",
        "\n",
        "# Show counts\n",
        "dataframe.count()"
      ],
      "metadata": {
        "colab": {
          "base_uri": "https://localhost:8080/"
        },
        "id": "HrHnPMA88HJs",
        "outputId": "c539975e-84a5-406d-b6b1-76fdc47dd1ab"
      },
      "execution_count": null,
      "outputs": [
        {
          "output_type": "execute_result",
          "data": {
            "text/plain": [
              "Name        1313\n",
              "PClass      1312\n",
              "Age          756\n",
              "Sex         1313\n",
              "Survived    1313\n",
              "dtype: int64"
            ]
          },
          "metadata": {},
          "execution_count": 61
        }
      ]
    },
    {
      "cell_type": "markdown",
      "source": [
        "**Problem**\n",
        "You want to select all unique values in a column.\n",
        "\n",
        "**Solution**\n",
        "Use unique to view an array of all unique values in a column:"
      ],
      "metadata": {
        "id": "QbgGaSe78S-s"
      }
    },
    {
      "cell_type": "code",
      "source": [
        "# Load library\n",
        "import pandas as pd\n",
        "# Create URL\n",
        "url=titanic\n",
        "# Load data\n",
        "dataframe = pd.read_csv(url)\n",
        "# Select unique values\n",
        "dataframe['Sex'].unique()\n",
        "\n",
        "# Alternatively, value_counts will display all unique values with the number of times each value appears:\n",
        "\n",
        "# Show counts\n",
        "dataframe['Sex'].value_counts()"
      ],
      "metadata": {
        "colab": {
          "base_uri": "https://localhost:8080/"
        },
        "id": "Cw394ICg8X78",
        "outputId": "930935dc-67fc-472e-8ea9-7b6aaf2f042e"
      },
      "execution_count": null,
      "outputs": [
        {
          "output_type": "execute_result",
          "data": {
            "text/plain": [
              "male      851\n",
              "female    462\n",
              "Name: Sex, dtype: int64"
            ]
          },
          "metadata": {},
          "execution_count": 62
        }
      ]
    },
    {
      "cell_type": "markdown",
      "source": [
        "Both unique and value_counts are useful for manipulating and exploring categorical\n",
        "columns. Very often in categorical columns there will be classes that need to be handled in the data wrangling phase. "
      ],
      "metadata": {
        "id": "fK-3Vsap8ncu"
      }
    },
    {
      "cell_type": "code",
      "source": [
        "# For example, in the Titanic dataset, PClass is a column indicating the class of a passenger’s ticket. \n",
        "# There were three classes on the Titanic; however, if we use value_counts we can see a problem:\n",
        "\n",
        "# Show counts\n",
        "dataframe['PClass'].value_counts()\n",
        "\n",
        "#for now just realize that “extra” classes are common in categorical data and should not be ignored.\n",
        "\n",
        "#v Finally, if we simply want to count the number of unique values, we can use nunique:\n",
        "\n",
        "# Show number of unique values\n",
        "dataframe['PClass'].nunique()"
      ],
      "metadata": {
        "colab": {
          "base_uri": "https://localhost:8080/"
        },
        "id": "jxmHgDVz8ulB",
        "outputId": "ff16aa6a-336a-4deb-fd82-4415b86f4cab"
      },
      "execution_count": null,
      "outputs": [
        {
          "output_type": "execute_result",
          "data": {
            "text/plain": [
              "3"
            ]
          },
          "metadata": {},
          "execution_count": 63
        }
      ]
    },
    {
      "cell_type": "markdown",
      "source": [
        "**Problem**\n",
        "You want to select missing values in a DataFrame.\n",
        "\n",
        "**Solution**\n",
        "isnull and notnull return booleans indicating whether a value is missing:"
      ],
      "metadata": {
        "id": "B7G8XamK9GZK"
      }
    },
    {
      "cell_type": "code",
      "source": [
        "# Load library\n",
        "import pandas as pd\n",
        "# Create URL\n",
        "url=titanic\n",
        "# Load data\n",
        "dataframe = pd.read_csv(url)\n",
        "## Select missing values, show two rows\n",
        "dataframe[dataframe['Age'].isnull()].head(2)\n",
        "\n",
        "#Missing values are a ubiquitous problem in data wrangling, yet many underestimate\n",
        "#the difficulty of working with missing data. pandas uses NumPy’s NaN (“Not A Number”) value to denote missing values, \n",
        "#but it is important to note that NaN is not fully implemented natively in pandas. \n",
        "# For example, if we wanted to replace all strings containing male with missing values, we return an error:\n",
        "\n",
        "# Attempt to replace values with NaN\n",
        "dataframe['Sex'] = dataframe['Sex'].replace('male', 'NaN')\n",
        "\n"
      ],
      "metadata": {
        "id": "844FjcTf9HVZ"
      },
      "execution_count": null,
      "outputs": []
    },
    {
      "cell_type": "code",
      "source": [
        "#To have full functionality with NaN we need to import the NumPy library first:\n",
        "\n",
        "# Load library\n",
        "import numpy as np\n",
        "# Replace values with NaN\n",
        "dataframe['Sex'] = dataframe['Sex'].replace('male', np.nan)\n",
        "\n",
        "# Load data, set missing values\n",
        "dataframe = pd.read_csv(url, na_values=[np.nan, 'NONE', -999])"
      ],
      "metadata": {
        "id": "vJltyg6F9mHE"
      },
      "execution_count": null,
      "outputs": []
    },
    {
      "cell_type": "markdown",
      "source": [
        "**Problem**\n",
        "You want to delete a column from your DataFrame.\n",
        "\n",
        "**Solution**\n",
        "The best way to delete a column is to use drop with the parameter axis=1 (i.e., the\n",
        "column axis):"
      ],
      "metadata": {
        "id": "R3nd5nc-9zlq"
      }
    },
    {
      "cell_type": "code",
      "source": [
        "# Load library\n",
        "import pandas as pd\n",
        "# Create URL\n",
        "url = titanic\n",
        "# Load data\n",
        "dataframe = pd.read_csv(url)\n",
        "# Delete column\n",
        "dataframe.drop('Age', axis=1).head(2)"
      ],
      "metadata": {
        "colab": {
          "base_uri": "https://localhost:8080/",
          "height": 112
        },
        "id": "RG896plb94mG",
        "outputId": "010cc238-3d52-4bbf-ab65-9148ab59e5a9"
      },
      "execution_count": null,
      "outputs": [
        {
          "output_type": "execute_result",
          "data": {
            "text/html": [
              "\n",
              "  <div id=\"df-8841a0ab-3bca-40f3-a185-55ffa863e72c\">\n",
              "    <div class=\"colab-df-container\">\n",
              "      <div>\n",
              "<style scoped>\n",
              "    .dataframe tbody tr th:only-of-type {\n",
              "        vertical-align: middle;\n",
              "    }\n",
              "\n",
              "    .dataframe tbody tr th {\n",
              "        vertical-align: top;\n",
              "    }\n",
              "\n",
              "    .dataframe thead th {\n",
              "        text-align: right;\n",
              "    }\n",
              "</style>\n",
              "<table border=\"1\" class=\"dataframe\">\n",
              "  <thead>\n",
              "    <tr style=\"text-align: right;\">\n",
              "      <th></th>\n",
              "      <th>Name</th>\n",
              "      <th>PClass</th>\n",
              "      <th>Sex</th>\n",
              "      <th>Survived</th>\n",
              "    </tr>\n",
              "  </thead>\n",
              "  <tbody>\n",
              "    <tr>\n",
              "      <th>0</th>\n",
              "      <td>Allen, Miss Elisabeth Walton</td>\n",
              "      <td>1st</td>\n",
              "      <td>female</td>\n",
              "      <td>1</td>\n",
              "    </tr>\n",
              "    <tr>\n",
              "      <th>1</th>\n",
              "      <td>Allison, Miss Helen Loraine</td>\n",
              "      <td>1st</td>\n",
              "      <td>female</td>\n",
              "      <td>0</td>\n",
              "    </tr>\n",
              "  </tbody>\n",
              "</table>\n",
              "</div>\n",
              "      <button class=\"colab-df-convert\" onclick=\"convertToInteractive('df-8841a0ab-3bca-40f3-a185-55ffa863e72c')\"\n",
              "              title=\"Convert this dataframe to an interactive table.\"\n",
              "              style=\"display:none;\">\n",
              "        \n",
              "  <svg xmlns=\"http://www.w3.org/2000/svg\" height=\"24px\"viewBox=\"0 0 24 24\"\n",
              "       width=\"24px\">\n",
              "    <path d=\"M0 0h24v24H0V0z\" fill=\"none\"/>\n",
              "    <path d=\"M18.56 5.44l.94 2.06.94-2.06 2.06-.94-2.06-.94-.94-2.06-.94 2.06-2.06.94zm-11 1L8.5 8.5l.94-2.06 2.06-.94-2.06-.94L8.5 2.5l-.94 2.06-2.06.94zm10 10l.94 2.06.94-2.06 2.06-.94-2.06-.94-.94-2.06-.94 2.06-2.06.94z\"/><path d=\"M17.41 7.96l-1.37-1.37c-.4-.4-.92-.59-1.43-.59-.52 0-1.04.2-1.43.59L10.3 9.45l-7.72 7.72c-.78.78-.78 2.05 0 2.83L4 21.41c.39.39.9.59 1.41.59.51 0 1.02-.2 1.41-.59l7.78-7.78 2.81-2.81c.8-.78.8-2.07 0-2.86zM5.41 20L4 18.59l7.72-7.72 1.47 1.35L5.41 20z\"/>\n",
              "  </svg>\n",
              "      </button>\n",
              "      \n",
              "  <style>\n",
              "    .colab-df-container {\n",
              "      display:flex;\n",
              "      flex-wrap:wrap;\n",
              "      gap: 12px;\n",
              "    }\n",
              "\n",
              "    .colab-df-convert {\n",
              "      background-color: #E8F0FE;\n",
              "      border: none;\n",
              "      border-radius: 50%;\n",
              "      cursor: pointer;\n",
              "      display: none;\n",
              "      fill: #1967D2;\n",
              "      height: 32px;\n",
              "      padding: 0 0 0 0;\n",
              "      width: 32px;\n",
              "    }\n",
              "\n",
              "    .colab-df-convert:hover {\n",
              "      background-color: #E2EBFA;\n",
              "      box-shadow: 0px 1px 2px rgba(60, 64, 67, 0.3), 0px 1px 3px 1px rgba(60, 64, 67, 0.15);\n",
              "      fill: #174EA6;\n",
              "    }\n",
              "\n",
              "    [theme=dark] .colab-df-convert {\n",
              "      background-color: #3B4455;\n",
              "      fill: #D2E3FC;\n",
              "    }\n",
              "\n",
              "    [theme=dark] .colab-df-convert:hover {\n",
              "      background-color: #434B5C;\n",
              "      box-shadow: 0px 1px 3px 1px rgba(0, 0, 0, 0.15);\n",
              "      filter: drop-shadow(0px 1px 2px rgba(0, 0, 0, 0.3));\n",
              "      fill: #FFFFFF;\n",
              "    }\n",
              "  </style>\n",
              "\n",
              "      <script>\n",
              "        const buttonEl =\n",
              "          document.querySelector('#df-8841a0ab-3bca-40f3-a185-55ffa863e72c button.colab-df-convert');\n",
              "        buttonEl.style.display =\n",
              "          google.colab.kernel.accessAllowed ? 'block' : 'none';\n",
              "\n",
              "        async function convertToInteractive(key) {\n",
              "          const element = document.querySelector('#df-8841a0ab-3bca-40f3-a185-55ffa863e72c');\n",
              "          const dataTable =\n",
              "            await google.colab.kernel.invokeFunction('convertToInteractive',\n",
              "                                                     [key], {});\n",
              "          if (!dataTable) return;\n",
              "\n",
              "          const docLinkHtml = 'Like what you see? Visit the ' +\n",
              "            '<a target=\"_blank\" href=https://colab.research.google.com/notebooks/data_table.ipynb>data table notebook</a>'\n",
              "            + ' to learn more about interactive tables.';\n",
              "          element.innerHTML = '';\n",
              "          dataTable['output_type'] = 'display_data';\n",
              "          await google.colab.output.renderOutput(dataTable, element);\n",
              "          const docLink = document.createElement('div');\n",
              "          docLink.innerHTML = docLinkHtml;\n",
              "          element.appendChild(docLink);\n",
              "        }\n",
              "      </script>\n",
              "    </div>\n",
              "  </div>\n",
              "  "
            ],
            "text/plain": [
              "                           Name PClass     Sex  Survived\n",
              "0  Allen, Miss Elisabeth Walton    1st  female         1\n",
              "1   Allison, Miss Helen Loraine    1st  female         0"
            ]
          },
          "metadata": {},
          "execution_count": 67
        }
      ]
    },
    {
      "cell_type": "code",
      "source": [
        "# Drop columns\n",
        "dataframe.drop(['Age', 'Sex'], axis=1).head(2)"
      ],
      "metadata": {
        "colab": {
          "base_uri": "https://localhost:8080/",
          "height": 112
        },
        "id": "91omrLEk99pU",
        "outputId": "9b1743da-72b8-417c-b14f-7be74e753231"
      },
      "execution_count": null,
      "outputs": [
        {
          "output_type": "execute_result",
          "data": {
            "text/html": [
              "\n",
              "  <div id=\"df-9ff325e3-c47d-45d5-959f-b24d522c77e9\">\n",
              "    <div class=\"colab-df-container\">\n",
              "      <div>\n",
              "<style scoped>\n",
              "    .dataframe tbody tr th:only-of-type {\n",
              "        vertical-align: middle;\n",
              "    }\n",
              "\n",
              "    .dataframe tbody tr th {\n",
              "        vertical-align: top;\n",
              "    }\n",
              "\n",
              "    .dataframe thead th {\n",
              "        text-align: right;\n",
              "    }\n",
              "</style>\n",
              "<table border=\"1\" class=\"dataframe\">\n",
              "  <thead>\n",
              "    <tr style=\"text-align: right;\">\n",
              "      <th></th>\n",
              "      <th>Name</th>\n",
              "      <th>PClass</th>\n",
              "      <th>Survived</th>\n",
              "    </tr>\n",
              "  </thead>\n",
              "  <tbody>\n",
              "    <tr>\n",
              "      <th>0</th>\n",
              "      <td>Allen, Miss Elisabeth Walton</td>\n",
              "      <td>1st</td>\n",
              "      <td>1</td>\n",
              "    </tr>\n",
              "    <tr>\n",
              "      <th>1</th>\n",
              "      <td>Allison, Miss Helen Loraine</td>\n",
              "      <td>1st</td>\n",
              "      <td>0</td>\n",
              "    </tr>\n",
              "  </tbody>\n",
              "</table>\n",
              "</div>\n",
              "      <button class=\"colab-df-convert\" onclick=\"convertToInteractive('df-9ff325e3-c47d-45d5-959f-b24d522c77e9')\"\n",
              "              title=\"Convert this dataframe to an interactive table.\"\n",
              "              style=\"display:none;\">\n",
              "        \n",
              "  <svg xmlns=\"http://www.w3.org/2000/svg\" height=\"24px\"viewBox=\"0 0 24 24\"\n",
              "       width=\"24px\">\n",
              "    <path d=\"M0 0h24v24H0V0z\" fill=\"none\"/>\n",
              "    <path d=\"M18.56 5.44l.94 2.06.94-2.06 2.06-.94-2.06-.94-.94-2.06-.94 2.06-2.06.94zm-11 1L8.5 8.5l.94-2.06 2.06-.94-2.06-.94L8.5 2.5l-.94 2.06-2.06.94zm10 10l.94 2.06.94-2.06 2.06-.94-2.06-.94-.94-2.06-.94 2.06-2.06.94z\"/><path d=\"M17.41 7.96l-1.37-1.37c-.4-.4-.92-.59-1.43-.59-.52 0-1.04.2-1.43.59L10.3 9.45l-7.72 7.72c-.78.78-.78 2.05 0 2.83L4 21.41c.39.39.9.59 1.41.59.51 0 1.02-.2 1.41-.59l7.78-7.78 2.81-2.81c.8-.78.8-2.07 0-2.86zM5.41 20L4 18.59l7.72-7.72 1.47 1.35L5.41 20z\"/>\n",
              "  </svg>\n",
              "      </button>\n",
              "      \n",
              "  <style>\n",
              "    .colab-df-container {\n",
              "      display:flex;\n",
              "      flex-wrap:wrap;\n",
              "      gap: 12px;\n",
              "    }\n",
              "\n",
              "    .colab-df-convert {\n",
              "      background-color: #E8F0FE;\n",
              "      border: none;\n",
              "      border-radius: 50%;\n",
              "      cursor: pointer;\n",
              "      display: none;\n",
              "      fill: #1967D2;\n",
              "      height: 32px;\n",
              "      padding: 0 0 0 0;\n",
              "      width: 32px;\n",
              "    }\n",
              "\n",
              "    .colab-df-convert:hover {\n",
              "      background-color: #E2EBFA;\n",
              "      box-shadow: 0px 1px 2px rgba(60, 64, 67, 0.3), 0px 1px 3px 1px rgba(60, 64, 67, 0.15);\n",
              "      fill: #174EA6;\n",
              "    }\n",
              "\n",
              "    [theme=dark] .colab-df-convert {\n",
              "      background-color: #3B4455;\n",
              "      fill: #D2E3FC;\n",
              "    }\n",
              "\n",
              "    [theme=dark] .colab-df-convert:hover {\n",
              "      background-color: #434B5C;\n",
              "      box-shadow: 0px 1px 3px 1px rgba(0, 0, 0, 0.15);\n",
              "      filter: drop-shadow(0px 1px 2px rgba(0, 0, 0, 0.3));\n",
              "      fill: #FFFFFF;\n",
              "    }\n",
              "  </style>\n",
              "\n",
              "      <script>\n",
              "        const buttonEl =\n",
              "          document.querySelector('#df-9ff325e3-c47d-45d5-959f-b24d522c77e9 button.colab-df-convert');\n",
              "        buttonEl.style.display =\n",
              "          google.colab.kernel.accessAllowed ? 'block' : 'none';\n",
              "\n",
              "        async function convertToInteractive(key) {\n",
              "          const element = document.querySelector('#df-9ff325e3-c47d-45d5-959f-b24d522c77e9');\n",
              "          const dataTable =\n",
              "            await google.colab.kernel.invokeFunction('convertToInteractive',\n",
              "                                                     [key], {});\n",
              "          if (!dataTable) return;\n",
              "\n",
              "          const docLinkHtml = 'Like what you see? Visit the ' +\n",
              "            '<a target=\"_blank\" href=https://colab.research.google.com/notebooks/data_table.ipynb>data table notebook</a>'\n",
              "            + ' to learn more about interactive tables.';\n",
              "          element.innerHTML = '';\n",
              "          dataTable['output_type'] = 'display_data';\n",
              "          await google.colab.output.renderOutput(dataTable, element);\n",
              "          const docLink = document.createElement('div');\n",
              "          docLink.innerHTML = docLinkHtml;\n",
              "          element.appendChild(docLink);\n",
              "        }\n",
              "      </script>\n",
              "    </div>\n",
              "  </div>\n",
              "  "
            ],
            "text/plain": [
              "                           Name PClass  Survived\n",
              "0  Allen, Miss Elisabeth Walton    1st         1\n",
              "1   Allison, Miss Helen Loraine    1st         0"
            ]
          },
          "metadata": {},
          "execution_count": 68
        }
      ]
    },
    {
      "cell_type": "code",
      "source": [
        "# If a column does not have a name (which can sometimes happen), you can drop it by its column index using dataframe.columns:\n",
        "# Drop column\n",
        "dataframe.drop(dataframe.columns[1], axis=1).head(2)"
      ],
      "metadata": {
        "colab": {
          "base_uri": "https://localhost:8080/",
          "height": 112
        },
        "id": "TKuGg4ca-CQs",
        "outputId": "11f4d322-4685-4e3d-dcbf-dda78d410284"
      },
      "execution_count": null,
      "outputs": [
        {
          "output_type": "execute_result",
          "data": {
            "text/html": [
              "\n",
              "  <div id=\"df-175461ff-bd8d-4e21-8ccf-68fe0f4750d0\">\n",
              "    <div class=\"colab-df-container\">\n",
              "      <div>\n",
              "<style scoped>\n",
              "    .dataframe tbody tr th:only-of-type {\n",
              "        vertical-align: middle;\n",
              "    }\n",
              "\n",
              "    .dataframe tbody tr th {\n",
              "        vertical-align: top;\n",
              "    }\n",
              "\n",
              "    .dataframe thead th {\n",
              "        text-align: right;\n",
              "    }\n",
              "</style>\n",
              "<table border=\"1\" class=\"dataframe\">\n",
              "  <thead>\n",
              "    <tr style=\"text-align: right;\">\n",
              "      <th></th>\n",
              "      <th>Name</th>\n",
              "      <th>Age</th>\n",
              "      <th>Sex</th>\n",
              "      <th>Survived</th>\n",
              "    </tr>\n",
              "  </thead>\n",
              "  <tbody>\n",
              "    <tr>\n",
              "      <th>0</th>\n",
              "      <td>Allen, Miss Elisabeth Walton</td>\n",
              "      <td>29.0</td>\n",
              "      <td>female</td>\n",
              "      <td>1</td>\n",
              "    </tr>\n",
              "    <tr>\n",
              "      <th>1</th>\n",
              "      <td>Allison, Miss Helen Loraine</td>\n",
              "      <td>2.0</td>\n",
              "      <td>female</td>\n",
              "      <td>0</td>\n",
              "    </tr>\n",
              "  </tbody>\n",
              "</table>\n",
              "</div>\n",
              "      <button class=\"colab-df-convert\" onclick=\"convertToInteractive('df-175461ff-bd8d-4e21-8ccf-68fe0f4750d0')\"\n",
              "              title=\"Convert this dataframe to an interactive table.\"\n",
              "              style=\"display:none;\">\n",
              "        \n",
              "  <svg xmlns=\"http://www.w3.org/2000/svg\" height=\"24px\"viewBox=\"0 0 24 24\"\n",
              "       width=\"24px\">\n",
              "    <path d=\"M0 0h24v24H0V0z\" fill=\"none\"/>\n",
              "    <path d=\"M18.56 5.44l.94 2.06.94-2.06 2.06-.94-2.06-.94-.94-2.06-.94 2.06-2.06.94zm-11 1L8.5 8.5l.94-2.06 2.06-.94-2.06-.94L8.5 2.5l-.94 2.06-2.06.94zm10 10l.94 2.06.94-2.06 2.06-.94-2.06-.94-.94-2.06-.94 2.06-2.06.94z\"/><path d=\"M17.41 7.96l-1.37-1.37c-.4-.4-.92-.59-1.43-.59-.52 0-1.04.2-1.43.59L10.3 9.45l-7.72 7.72c-.78.78-.78 2.05 0 2.83L4 21.41c.39.39.9.59 1.41.59.51 0 1.02-.2 1.41-.59l7.78-7.78 2.81-2.81c.8-.78.8-2.07 0-2.86zM5.41 20L4 18.59l7.72-7.72 1.47 1.35L5.41 20z\"/>\n",
              "  </svg>\n",
              "      </button>\n",
              "      \n",
              "  <style>\n",
              "    .colab-df-container {\n",
              "      display:flex;\n",
              "      flex-wrap:wrap;\n",
              "      gap: 12px;\n",
              "    }\n",
              "\n",
              "    .colab-df-convert {\n",
              "      background-color: #E8F0FE;\n",
              "      border: none;\n",
              "      border-radius: 50%;\n",
              "      cursor: pointer;\n",
              "      display: none;\n",
              "      fill: #1967D2;\n",
              "      height: 32px;\n",
              "      padding: 0 0 0 0;\n",
              "      width: 32px;\n",
              "    }\n",
              "\n",
              "    .colab-df-convert:hover {\n",
              "      background-color: #E2EBFA;\n",
              "      box-shadow: 0px 1px 2px rgba(60, 64, 67, 0.3), 0px 1px 3px 1px rgba(60, 64, 67, 0.15);\n",
              "      fill: #174EA6;\n",
              "    }\n",
              "\n",
              "    [theme=dark] .colab-df-convert {\n",
              "      background-color: #3B4455;\n",
              "      fill: #D2E3FC;\n",
              "    }\n",
              "\n",
              "    [theme=dark] .colab-df-convert:hover {\n",
              "      background-color: #434B5C;\n",
              "      box-shadow: 0px 1px 3px 1px rgba(0, 0, 0, 0.15);\n",
              "      filter: drop-shadow(0px 1px 2px rgba(0, 0, 0, 0.3));\n",
              "      fill: #FFFFFF;\n",
              "    }\n",
              "  </style>\n",
              "\n",
              "      <script>\n",
              "        const buttonEl =\n",
              "          document.querySelector('#df-175461ff-bd8d-4e21-8ccf-68fe0f4750d0 button.colab-df-convert');\n",
              "        buttonEl.style.display =\n",
              "          google.colab.kernel.accessAllowed ? 'block' : 'none';\n",
              "\n",
              "        async function convertToInteractive(key) {\n",
              "          const element = document.querySelector('#df-175461ff-bd8d-4e21-8ccf-68fe0f4750d0');\n",
              "          const dataTable =\n",
              "            await google.colab.kernel.invokeFunction('convertToInteractive',\n",
              "                                                     [key], {});\n",
              "          if (!dataTable) return;\n",
              "\n",
              "          const docLinkHtml = 'Like what you see? Visit the ' +\n",
              "            '<a target=\"_blank\" href=https://colab.research.google.com/notebooks/data_table.ipynb>data table notebook</a>'\n",
              "            + ' to learn more about interactive tables.';\n",
              "          element.innerHTML = '';\n",
              "          dataTable['output_type'] = 'display_data';\n",
              "          await google.colab.output.renderOutput(dataTable, element);\n",
              "          const docLink = document.createElement('div');\n",
              "          docLink.innerHTML = docLinkHtml;\n",
              "          element.appendChild(docLink);\n",
              "        }\n",
              "      </script>\n",
              "    </div>\n",
              "  </div>\n",
              "  "
            ],
            "text/plain": [
              "                           Name   Age     Sex  Survived\n",
              "0  Allen, Miss Elisabeth Walton  29.0  female         1\n",
              "1   Allison, Miss Helen Loraine   2.0  female         0"
            ]
          },
          "metadata": {},
          "execution_count": 69
        }
      ]
    },
    {
      "cell_type": "markdown",
      "source": [
        "**Discussion**\n",
        "\n",
        "drop is the idiomatic method of deleting a column. An alternative method is del\n",
        "dataframe['Age'], which works most of the time but is not recommended because\n",
        "of how it is called within pandas (the details of which are outside the scope of this\n",
        "book).\n",
        "One habit I recommend learning is to never use pandas’ inplace=True argument.\n",
        "Many pandas methods include an inplace parameter, which when True edits the\n",
        "DataFrame directly. This can lead to problems in more complex data processing pipe‐\n",
        "lines because we are treating the DataFrames as mutable objects (which they techni‐\n",
        "cally are). I recommend treating DataFrames as immutable objects. For example:\n",
        "\n",
        "```\n",
        "# Create a new DataFrame\n",
        "dataframe_name_dropped = dataframe.drop(dataframe.columns[0], axis=1)\n",
        "```\n",
        "\n",
        "\n",
        "In this example, we are not mutating the DataFrame dataframe but instead are mak‐\n",
        "ing a new DataFrame that is an altered version of dataframe called data\n",
        "frame_name_dropped. If you treat your DataFrames as immutable objects, you will\n",
        "save yourself a lot of headaches down the road."
      ],
      "metadata": {
        "id": "czPfkiwr-YLx"
      }
    },
    {
      "cell_type": "markdown",
      "source": [
        "**Problem**\n",
        "You want to delete one or more rows from a DataFrame.\n",
        "\n",
        "**Solution**\n",
        "Use a boolean condition to create a new DataFrame excluding the rows you want to\n",
        "delete:"
      ],
      "metadata": {
        "id": "0zNpUcJK-pMC"
      }
    },
    {
      "cell_type": "code",
      "source": [
        "# Load library\n",
        "import pandas as pd\n",
        "# Create URL\n",
        "url = titanic\n",
        "# Load data\n",
        "dataframe = pd.read_csv(url)\n",
        "# Delete rows, show first two rows of output\n",
        "dataframe[dataframe['Sex'] != 'male'].head(2)\n",
        "\n"
      ],
      "metadata": {
        "colab": {
          "base_uri": "https://localhost:8080/",
          "height": 112
        },
        "id": "Q5AD-46k-tYI",
        "outputId": "16c3bb67-95cb-4daa-a1c6-844ca6ef5cfa"
      },
      "execution_count": null,
      "outputs": [
        {
          "output_type": "execute_result",
          "data": {
            "text/html": [
              "\n",
              "  <div id=\"df-49c0cef7-db01-431f-bd5d-fb8f6d6f9349\">\n",
              "    <div class=\"colab-df-container\">\n",
              "      <div>\n",
              "<style scoped>\n",
              "    .dataframe tbody tr th:only-of-type {\n",
              "        vertical-align: middle;\n",
              "    }\n",
              "\n",
              "    .dataframe tbody tr th {\n",
              "        vertical-align: top;\n",
              "    }\n",
              "\n",
              "    .dataframe thead th {\n",
              "        text-align: right;\n",
              "    }\n",
              "</style>\n",
              "<table border=\"1\" class=\"dataframe\">\n",
              "  <thead>\n",
              "    <tr style=\"text-align: right;\">\n",
              "      <th></th>\n",
              "      <th>Name</th>\n",
              "      <th>PClass</th>\n",
              "      <th>Age</th>\n",
              "      <th>Sex</th>\n",
              "      <th>Survived</th>\n",
              "    </tr>\n",
              "  </thead>\n",
              "  <tbody>\n",
              "    <tr>\n",
              "      <th>0</th>\n",
              "      <td>Allen, Miss Elisabeth Walton</td>\n",
              "      <td>1st</td>\n",
              "      <td>29.0</td>\n",
              "      <td>female</td>\n",
              "      <td>1</td>\n",
              "    </tr>\n",
              "    <tr>\n",
              "      <th>1</th>\n",
              "      <td>Allison, Miss Helen Loraine</td>\n",
              "      <td>1st</td>\n",
              "      <td>2.0</td>\n",
              "      <td>female</td>\n",
              "      <td>0</td>\n",
              "    </tr>\n",
              "  </tbody>\n",
              "</table>\n",
              "</div>\n",
              "      <button class=\"colab-df-convert\" onclick=\"convertToInteractive('df-49c0cef7-db01-431f-bd5d-fb8f6d6f9349')\"\n",
              "              title=\"Convert this dataframe to an interactive table.\"\n",
              "              style=\"display:none;\">\n",
              "        \n",
              "  <svg xmlns=\"http://www.w3.org/2000/svg\" height=\"24px\"viewBox=\"0 0 24 24\"\n",
              "       width=\"24px\">\n",
              "    <path d=\"M0 0h24v24H0V0z\" fill=\"none\"/>\n",
              "    <path d=\"M18.56 5.44l.94 2.06.94-2.06 2.06-.94-2.06-.94-.94-2.06-.94 2.06-2.06.94zm-11 1L8.5 8.5l.94-2.06 2.06-.94-2.06-.94L8.5 2.5l-.94 2.06-2.06.94zm10 10l.94 2.06.94-2.06 2.06-.94-2.06-.94-.94-2.06-.94 2.06-2.06.94z\"/><path d=\"M17.41 7.96l-1.37-1.37c-.4-.4-.92-.59-1.43-.59-.52 0-1.04.2-1.43.59L10.3 9.45l-7.72 7.72c-.78.78-.78 2.05 0 2.83L4 21.41c.39.39.9.59 1.41.59.51 0 1.02-.2 1.41-.59l7.78-7.78 2.81-2.81c.8-.78.8-2.07 0-2.86zM5.41 20L4 18.59l7.72-7.72 1.47 1.35L5.41 20z\"/>\n",
              "  </svg>\n",
              "      </button>\n",
              "      \n",
              "  <style>\n",
              "    .colab-df-container {\n",
              "      display:flex;\n",
              "      flex-wrap:wrap;\n",
              "      gap: 12px;\n",
              "    }\n",
              "\n",
              "    .colab-df-convert {\n",
              "      background-color: #E8F0FE;\n",
              "      border: none;\n",
              "      border-radius: 50%;\n",
              "      cursor: pointer;\n",
              "      display: none;\n",
              "      fill: #1967D2;\n",
              "      height: 32px;\n",
              "      padding: 0 0 0 0;\n",
              "      width: 32px;\n",
              "    }\n",
              "\n",
              "    .colab-df-convert:hover {\n",
              "      background-color: #E2EBFA;\n",
              "      box-shadow: 0px 1px 2px rgba(60, 64, 67, 0.3), 0px 1px 3px 1px rgba(60, 64, 67, 0.15);\n",
              "      fill: #174EA6;\n",
              "    }\n",
              "\n",
              "    [theme=dark] .colab-df-convert {\n",
              "      background-color: #3B4455;\n",
              "      fill: #D2E3FC;\n",
              "    }\n",
              "\n",
              "    [theme=dark] .colab-df-convert:hover {\n",
              "      background-color: #434B5C;\n",
              "      box-shadow: 0px 1px 3px 1px rgba(0, 0, 0, 0.15);\n",
              "      filter: drop-shadow(0px 1px 2px rgba(0, 0, 0, 0.3));\n",
              "      fill: #FFFFFF;\n",
              "    }\n",
              "  </style>\n",
              "\n",
              "      <script>\n",
              "        const buttonEl =\n",
              "          document.querySelector('#df-49c0cef7-db01-431f-bd5d-fb8f6d6f9349 button.colab-df-convert');\n",
              "        buttonEl.style.display =\n",
              "          google.colab.kernel.accessAllowed ? 'block' : 'none';\n",
              "\n",
              "        async function convertToInteractive(key) {\n",
              "          const element = document.querySelector('#df-49c0cef7-db01-431f-bd5d-fb8f6d6f9349');\n",
              "          const dataTable =\n",
              "            await google.colab.kernel.invokeFunction('convertToInteractive',\n",
              "                                                     [key], {});\n",
              "          if (!dataTable) return;\n",
              "\n",
              "          const docLinkHtml = 'Like what you see? Visit the ' +\n",
              "            '<a target=\"_blank\" href=https://colab.research.google.com/notebooks/data_table.ipynb>data table notebook</a>'\n",
              "            + ' to learn more about interactive tables.';\n",
              "          element.innerHTML = '';\n",
              "          dataTable['output_type'] = 'display_data';\n",
              "          await google.colab.output.renderOutput(dataTable, element);\n",
              "          const docLink = document.createElement('div');\n",
              "          docLink.innerHTML = docLinkHtml;\n",
              "          element.appendChild(docLink);\n",
              "        }\n",
              "      </script>\n",
              "    </div>\n",
              "  </div>\n",
              "  "
            ],
            "text/plain": [
              "                           Name PClass   Age     Sex  Survived\n",
              "0  Allen, Miss Elisabeth Walton    1st  29.0  female         1\n",
              "1   Allison, Miss Helen Loraine    1st   2.0  female         0"
            ]
          },
          "metadata": {},
          "execution_count": 70
        }
      ]
    },
    {
      "cell_type": "code",
      "source": [
        "#We can use boolean conditions to easily delete single rows by matching a unique value:\n",
        "\n",
        "# Delete row, show first two rows of output\n",
        "dataframe[dataframe['Name'] != 'Allison, Miss Helen Loraine'].head(2)"
      ],
      "metadata": {
        "colab": {
          "base_uri": "https://localhost:8080/",
          "height": 112
        },
        "id": "WlvD58ZN-6G2",
        "outputId": "c8db764e-188c-4158-c2d6-7b77d817b28a"
      },
      "execution_count": null,
      "outputs": [
        {
          "output_type": "execute_result",
          "data": {
            "text/html": [
              "\n",
              "  <div id=\"df-f1beeb27-96e3-403e-96a2-71db3f457ebd\">\n",
              "    <div class=\"colab-df-container\">\n",
              "      <div>\n",
              "<style scoped>\n",
              "    .dataframe tbody tr th:only-of-type {\n",
              "        vertical-align: middle;\n",
              "    }\n",
              "\n",
              "    .dataframe tbody tr th {\n",
              "        vertical-align: top;\n",
              "    }\n",
              "\n",
              "    .dataframe thead th {\n",
              "        text-align: right;\n",
              "    }\n",
              "</style>\n",
              "<table border=\"1\" class=\"dataframe\">\n",
              "  <thead>\n",
              "    <tr style=\"text-align: right;\">\n",
              "      <th></th>\n",
              "      <th>Name</th>\n",
              "      <th>PClass</th>\n",
              "      <th>Age</th>\n",
              "      <th>Sex</th>\n",
              "      <th>Survived</th>\n",
              "    </tr>\n",
              "  </thead>\n",
              "  <tbody>\n",
              "    <tr>\n",
              "      <th>0</th>\n",
              "      <td>Allen, Miss Elisabeth Walton</td>\n",
              "      <td>1st</td>\n",
              "      <td>29.0</td>\n",
              "      <td>female</td>\n",
              "      <td>1</td>\n",
              "    </tr>\n",
              "    <tr>\n",
              "      <th>2</th>\n",
              "      <td>Allison, Mr Hudson Joshua Creighton</td>\n",
              "      <td>1st</td>\n",
              "      <td>30.0</td>\n",
              "      <td>male</td>\n",
              "      <td>0</td>\n",
              "    </tr>\n",
              "  </tbody>\n",
              "</table>\n",
              "</div>\n",
              "      <button class=\"colab-df-convert\" onclick=\"convertToInteractive('df-f1beeb27-96e3-403e-96a2-71db3f457ebd')\"\n",
              "              title=\"Convert this dataframe to an interactive table.\"\n",
              "              style=\"display:none;\">\n",
              "        \n",
              "  <svg xmlns=\"http://www.w3.org/2000/svg\" height=\"24px\"viewBox=\"0 0 24 24\"\n",
              "       width=\"24px\">\n",
              "    <path d=\"M0 0h24v24H0V0z\" fill=\"none\"/>\n",
              "    <path d=\"M18.56 5.44l.94 2.06.94-2.06 2.06-.94-2.06-.94-.94-2.06-.94 2.06-2.06.94zm-11 1L8.5 8.5l.94-2.06 2.06-.94-2.06-.94L8.5 2.5l-.94 2.06-2.06.94zm10 10l.94 2.06.94-2.06 2.06-.94-2.06-.94-.94-2.06-.94 2.06-2.06.94z\"/><path d=\"M17.41 7.96l-1.37-1.37c-.4-.4-.92-.59-1.43-.59-.52 0-1.04.2-1.43.59L10.3 9.45l-7.72 7.72c-.78.78-.78 2.05 0 2.83L4 21.41c.39.39.9.59 1.41.59.51 0 1.02-.2 1.41-.59l7.78-7.78 2.81-2.81c.8-.78.8-2.07 0-2.86zM5.41 20L4 18.59l7.72-7.72 1.47 1.35L5.41 20z\"/>\n",
              "  </svg>\n",
              "      </button>\n",
              "      \n",
              "  <style>\n",
              "    .colab-df-container {\n",
              "      display:flex;\n",
              "      flex-wrap:wrap;\n",
              "      gap: 12px;\n",
              "    }\n",
              "\n",
              "    .colab-df-convert {\n",
              "      background-color: #E8F0FE;\n",
              "      border: none;\n",
              "      border-radius: 50%;\n",
              "      cursor: pointer;\n",
              "      display: none;\n",
              "      fill: #1967D2;\n",
              "      height: 32px;\n",
              "      padding: 0 0 0 0;\n",
              "      width: 32px;\n",
              "    }\n",
              "\n",
              "    .colab-df-convert:hover {\n",
              "      background-color: #E2EBFA;\n",
              "      box-shadow: 0px 1px 2px rgba(60, 64, 67, 0.3), 0px 1px 3px 1px rgba(60, 64, 67, 0.15);\n",
              "      fill: #174EA6;\n",
              "    }\n",
              "\n",
              "    [theme=dark] .colab-df-convert {\n",
              "      background-color: #3B4455;\n",
              "      fill: #D2E3FC;\n",
              "    }\n",
              "\n",
              "    [theme=dark] .colab-df-convert:hover {\n",
              "      background-color: #434B5C;\n",
              "      box-shadow: 0px 1px 3px 1px rgba(0, 0, 0, 0.15);\n",
              "      filter: drop-shadow(0px 1px 2px rgba(0, 0, 0, 0.3));\n",
              "      fill: #FFFFFF;\n",
              "    }\n",
              "  </style>\n",
              "\n",
              "      <script>\n",
              "        const buttonEl =\n",
              "          document.querySelector('#df-f1beeb27-96e3-403e-96a2-71db3f457ebd button.colab-df-convert');\n",
              "        buttonEl.style.display =\n",
              "          google.colab.kernel.accessAllowed ? 'block' : 'none';\n",
              "\n",
              "        async function convertToInteractive(key) {\n",
              "          const element = document.querySelector('#df-f1beeb27-96e3-403e-96a2-71db3f457ebd');\n",
              "          const dataTable =\n",
              "            await google.colab.kernel.invokeFunction('convertToInteractive',\n",
              "                                                     [key], {});\n",
              "          if (!dataTable) return;\n",
              "\n",
              "          const docLinkHtml = 'Like what you see? Visit the ' +\n",
              "            '<a target=\"_blank\" href=https://colab.research.google.com/notebooks/data_table.ipynb>data table notebook</a>'\n",
              "            + ' to learn more about interactive tables.';\n",
              "          element.innerHTML = '';\n",
              "          dataTable['output_type'] = 'display_data';\n",
              "          await google.colab.output.renderOutput(dataTable, element);\n",
              "          const docLink = document.createElement('div');\n",
              "          docLink.innerHTML = docLinkHtml;\n",
              "          element.appendChild(docLink);\n",
              "        }\n",
              "      </script>\n",
              "    </div>\n",
              "  </div>\n",
              "  "
            ],
            "text/plain": [
              "                                  Name PClass   Age     Sex  Survived\n",
              "0         Allen, Miss Elisabeth Walton    1st  29.0  female         1\n",
              "2  Allison, Mr Hudson Joshua Creighton    1st  30.0    male         0"
            ]
          },
          "metadata": {},
          "execution_count": 71
        }
      ]
    },
    {
      "cell_type": "code",
      "source": [
        "# And we can even use it to delete a single row by row index:\n",
        "\n",
        "# Delete row, show first two rows of output\n",
        "dataframe[dataframe.index != 0].head(2)"
      ],
      "metadata": {
        "colab": {
          "base_uri": "https://localhost:8080/",
          "height": 112
        },
        "id": "5P8Nxg2d-9Ge",
        "outputId": "ac8fb599-511d-4206-e7e8-43fc5d57ff0f"
      },
      "execution_count": null,
      "outputs": [
        {
          "output_type": "execute_result",
          "data": {
            "text/html": [
              "\n",
              "  <div id=\"df-16f27ec2-38e8-4582-878a-0a8b79da97c1\">\n",
              "    <div class=\"colab-df-container\">\n",
              "      <div>\n",
              "<style scoped>\n",
              "    .dataframe tbody tr th:only-of-type {\n",
              "        vertical-align: middle;\n",
              "    }\n",
              "\n",
              "    .dataframe tbody tr th {\n",
              "        vertical-align: top;\n",
              "    }\n",
              "\n",
              "    .dataframe thead th {\n",
              "        text-align: right;\n",
              "    }\n",
              "</style>\n",
              "<table border=\"1\" class=\"dataframe\">\n",
              "  <thead>\n",
              "    <tr style=\"text-align: right;\">\n",
              "      <th></th>\n",
              "      <th>Name</th>\n",
              "      <th>PClass</th>\n",
              "      <th>Age</th>\n",
              "      <th>Sex</th>\n",
              "      <th>Survived</th>\n",
              "    </tr>\n",
              "  </thead>\n",
              "  <tbody>\n",
              "    <tr>\n",
              "      <th>1</th>\n",
              "      <td>Allison, Miss Helen Loraine</td>\n",
              "      <td>1st</td>\n",
              "      <td>2.0</td>\n",
              "      <td>female</td>\n",
              "      <td>0</td>\n",
              "    </tr>\n",
              "    <tr>\n",
              "      <th>2</th>\n",
              "      <td>Allison, Mr Hudson Joshua Creighton</td>\n",
              "      <td>1st</td>\n",
              "      <td>30.0</td>\n",
              "      <td>male</td>\n",
              "      <td>0</td>\n",
              "    </tr>\n",
              "  </tbody>\n",
              "</table>\n",
              "</div>\n",
              "      <button class=\"colab-df-convert\" onclick=\"convertToInteractive('df-16f27ec2-38e8-4582-878a-0a8b79da97c1')\"\n",
              "              title=\"Convert this dataframe to an interactive table.\"\n",
              "              style=\"display:none;\">\n",
              "        \n",
              "  <svg xmlns=\"http://www.w3.org/2000/svg\" height=\"24px\"viewBox=\"0 0 24 24\"\n",
              "       width=\"24px\">\n",
              "    <path d=\"M0 0h24v24H0V0z\" fill=\"none\"/>\n",
              "    <path d=\"M18.56 5.44l.94 2.06.94-2.06 2.06-.94-2.06-.94-.94-2.06-.94 2.06-2.06.94zm-11 1L8.5 8.5l.94-2.06 2.06-.94-2.06-.94L8.5 2.5l-.94 2.06-2.06.94zm10 10l.94 2.06.94-2.06 2.06-.94-2.06-.94-.94-2.06-.94 2.06-2.06.94z\"/><path d=\"M17.41 7.96l-1.37-1.37c-.4-.4-.92-.59-1.43-.59-.52 0-1.04.2-1.43.59L10.3 9.45l-7.72 7.72c-.78.78-.78 2.05 0 2.83L4 21.41c.39.39.9.59 1.41.59.51 0 1.02-.2 1.41-.59l7.78-7.78 2.81-2.81c.8-.78.8-2.07 0-2.86zM5.41 20L4 18.59l7.72-7.72 1.47 1.35L5.41 20z\"/>\n",
              "  </svg>\n",
              "      </button>\n",
              "      \n",
              "  <style>\n",
              "    .colab-df-container {\n",
              "      display:flex;\n",
              "      flex-wrap:wrap;\n",
              "      gap: 12px;\n",
              "    }\n",
              "\n",
              "    .colab-df-convert {\n",
              "      background-color: #E8F0FE;\n",
              "      border: none;\n",
              "      border-radius: 50%;\n",
              "      cursor: pointer;\n",
              "      display: none;\n",
              "      fill: #1967D2;\n",
              "      height: 32px;\n",
              "      padding: 0 0 0 0;\n",
              "      width: 32px;\n",
              "    }\n",
              "\n",
              "    .colab-df-convert:hover {\n",
              "      background-color: #E2EBFA;\n",
              "      box-shadow: 0px 1px 2px rgba(60, 64, 67, 0.3), 0px 1px 3px 1px rgba(60, 64, 67, 0.15);\n",
              "      fill: #174EA6;\n",
              "    }\n",
              "\n",
              "    [theme=dark] .colab-df-convert {\n",
              "      background-color: #3B4455;\n",
              "      fill: #D2E3FC;\n",
              "    }\n",
              "\n",
              "    [theme=dark] .colab-df-convert:hover {\n",
              "      background-color: #434B5C;\n",
              "      box-shadow: 0px 1px 3px 1px rgba(0, 0, 0, 0.15);\n",
              "      filter: drop-shadow(0px 1px 2px rgba(0, 0, 0, 0.3));\n",
              "      fill: #FFFFFF;\n",
              "    }\n",
              "  </style>\n",
              "\n",
              "      <script>\n",
              "        const buttonEl =\n",
              "          document.querySelector('#df-16f27ec2-38e8-4582-878a-0a8b79da97c1 button.colab-df-convert');\n",
              "        buttonEl.style.display =\n",
              "          google.colab.kernel.accessAllowed ? 'block' : 'none';\n",
              "\n",
              "        async function convertToInteractive(key) {\n",
              "          const element = document.querySelector('#df-16f27ec2-38e8-4582-878a-0a8b79da97c1');\n",
              "          const dataTable =\n",
              "            await google.colab.kernel.invokeFunction('convertToInteractive',\n",
              "                                                     [key], {});\n",
              "          if (!dataTable) return;\n",
              "\n",
              "          const docLinkHtml = 'Like what you see? Visit the ' +\n",
              "            '<a target=\"_blank\" href=https://colab.research.google.com/notebooks/data_table.ipynb>data table notebook</a>'\n",
              "            + ' to learn more about interactive tables.';\n",
              "          element.innerHTML = '';\n",
              "          dataTable['output_type'] = 'display_data';\n",
              "          await google.colab.output.renderOutput(dataTable, element);\n",
              "          const docLink = document.createElement('div');\n",
              "          docLink.innerHTML = docLinkHtml;\n",
              "          element.appendChild(docLink);\n",
              "        }\n",
              "      </script>\n",
              "    </div>\n",
              "  </div>\n",
              "  "
            ],
            "text/plain": [
              "                                  Name PClass   Age     Sex  Survived\n",
              "1          Allison, Miss Helen Loraine    1st   2.0  female         0\n",
              "2  Allison, Mr Hudson Joshua Creighton    1st  30.0    male         0"
            ]
          },
          "metadata": {},
          "execution_count": 72
        }
      ]
    },
    {
      "cell_type": "markdown",
      "source": [
        "**Problem**\n",
        "You want to drop duplicate rows from your DataFrame.\n",
        "\n",
        "**Solution**\n",
        "Use drop_duplicates, but be mindful of the parameters:"
      ],
      "metadata": {
        "id": "qJyvI6u3_BdD"
      }
    },
    {
      "cell_type": "code",
      "source": [
        "# Load library\n",
        "import pandas as pd\n",
        "# Create URL\n",
        "url = titanic\n",
        "# Load data\n",
        "dataframe = pd.read_csv(url)\n",
        "# Drop duplicates, show first two rows of output\n",
        "dataframe.drop_duplicates().head(2)\n",
        "\n",
        "# Show number of rows\n",
        "print(\"Number Of Rows In The Original DataFrame:\", len(dataframe))\n",
        "print(\"Number Of Rows After Deduping:\", len(dataframe.drop_duplicates()))"
      ],
      "metadata": {
        "colab": {
          "base_uri": "https://localhost:8080/"
        },
        "id": "lHnO0hBP_Gfb",
        "outputId": "5bfc5e9d-ae69-4950-c676-e262e29ca825"
      },
      "execution_count": null,
      "outputs": [
        {
          "output_type": "stream",
          "name": "stdout",
          "text": [
            "Number Of Rows In The Original DataFrame: 1313\n",
            "Number Of Rows After Deduping: 1313\n"
          ]
        }
      ]
    },
    {
      "cell_type": "markdown",
      "source": [
        "**Discussion**\n",
        "\n",
        "A keen reader will notice that the solution didn’t actually drop any row.\n",
        "The reason is because drop_duplicates defaults to only dropping rows that match\n",
        "perfectly across all columns. Under this condition, every row in our DataFrame, data\n",
        "frame, is actually unique. However, often we want to consider only a subset of col‐\n",
        "umns to check for duplicate rows. We can accomplish this using the subset parameter"
      ],
      "metadata": {
        "id": "JQGYOVLw_T02"
      }
    },
    {
      "cell_type": "code",
      "source": [
        "# Drop duplicates\n",
        "dataframe.drop_duplicates(subset=['Sex'])\n",
        "\n",
        "# Take a close look at the preceding output: we told drop_duplicates to only consider\n",
        "#any two rows with the same value for Sex to be duplicates and to drop them. Now we\n",
        "#are left with a DataFrame of only two rows: one man and one woman. You might be\n",
        "#asking why drop_duplicates decided to keep these two rows instead of two different rows. \n",
        "# The answer is that drop_duplicates defaults to keeping the first occurrence of\n",
        "# a duplicated row and dropping the rest. We can control this behavior using the keep parameter:\n",
        "\n",
        "# Drop duplicates\n",
        "dataframe.drop_duplicates(subset=['Sex'], keep='last')"
      ],
      "metadata": {
        "colab": {
          "base_uri": "https://localhost:8080/",
          "height": 112
        },
        "id": "jpSNnz5Y_pdQ",
        "outputId": "8be07878-9d55-4617-8dae-ec530b2a2b79"
      },
      "execution_count": null,
      "outputs": [
        {
          "output_type": "execute_result",
          "data": {
            "text/html": [
              "\n",
              "  <div id=\"df-6f96d670-126b-4fcb-814b-7ed790272b36\">\n",
              "    <div class=\"colab-df-container\">\n",
              "      <div>\n",
              "<style scoped>\n",
              "    .dataframe tbody tr th:only-of-type {\n",
              "        vertical-align: middle;\n",
              "    }\n",
              "\n",
              "    .dataframe tbody tr th {\n",
              "        vertical-align: top;\n",
              "    }\n",
              "\n",
              "    .dataframe thead th {\n",
              "        text-align: right;\n",
              "    }\n",
              "</style>\n",
              "<table border=\"1\" class=\"dataframe\">\n",
              "  <thead>\n",
              "    <tr style=\"text-align: right;\">\n",
              "      <th></th>\n",
              "      <th>Name</th>\n",
              "      <th>PClass</th>\n",
              "      <th>Age</th>\n",
              "      <th>Sex</th>\n",
              "      <th>Survived</th>\n",
              "    </tr>\n",
              "  </thead>\n",
              "  <tbody>\n",
              "    <tr>\n",
              "      <th>1307</th>\n",
              "      <td>Zabour, Miss Tamini</td>\n",
              "      <td>3rd</td>\n",
              "      <td>NaN</td>\n",
              "      <td>female</td>\n",
              "      <td>0</td>\n",
              "    </tr>\n",
              "    <tr>\n",
              "      <th>1312</th>\n",
              "      <td>Zimmerman, Leo</td>\n",
              "      <td>3rd</td>\n",
              "      <td>29.0</td>\n",
              "      <td>male</td>\n",
              "      <td>0</td>\n",
              "    </tr>\n",
              "  </tbody>\n",
              "</table>\n",
              "</div>\n",
              "      <button class=\"colab-df-convert\" onclick=\"convertToInteractive('df-6f96d670-126b-4fcb-814b-7ed790272b36')\"\n",
              "              title=\"Convert this dataframe to an interactive table.\"\n",
              "              style=\"display:none;\">\n",
              "        \n",
              "  <svg xmlns=\"http://www.w3.org/2000/svg\" height=\"24px\"viewBox=\"0 0 24 24\"\n",
              "       width=\"24px\">\n",
              "    <path d=\"M0 0h24v24H0V0z\" fill=\"none\"/>\n",
              "    <path d=\"M18.56 5.44l.94 2.06.94-2.06 2.06-.94-2.06-.94-.94-2.06-.94 2.06-2.06.94zm-11 1L8.5 8.5l.94-2.06 2.06-.94-2.06-.94L8.5 2.5l-.94 2.06-2.06.94zm10 10l.94 2.06.94-2.06 2.06-.94-2.06-.94-.94-2.06-.94 2.06-2.06.94z\"/><path d=\"M17.41 7.96l-1.37-1.37c-.4-.4-.92-.59-1.43-.59-.52 0-1.04.2-1.43.59L10.3 9.45l-7.72 7.72c-.78.78-.78 2.05 0 2.83L4 21.41c.39.39.9.59 1.41.59.51 0 1.02-.2 1.41-.59l7.78-7.78 2.81-2.81c.8-.78.8-2.07 0-2.86zM5.41 20L4 18.59l7.72-7.72 1.47 1.35L5.41 20z\"/>\n",
              "  </svg>\n",
              "      </button>\n",
              "      \n",
              "  <style>\n",
              "    .colab-df-container {\n",
              "      display:flex;\n",
              "      flex-wrap:wrap;\n",
              "      gap: 12px;\n",
              "    }\n",
              "\n",
              "    .colab-df-convert {\n",
              "      background-color: #E8F0FE;\n",
              "      border: none;\n",
              "      border-radius: 50%;\n",
              "      cursor: pointer;\n",
              "      display: none;\n",
              "      fill: #1967D2;\n",
              "      height: 32px;\n",
              "      padding: 0 0 0 0;\n",
              "      width: 32px;\n",
              "    }\n",
              "\n",
              "    .colab-df-convert:hover {\n",
              "      background-color: #E2EBFA;\n",
              "      box-shadow: 0px 1px 2px rgba(60, 64, 67, 0.3), 0px 1px 3px 1px rgba(60, 64, 67, 0.15);\n",
              "      fill: #174EA6;\n",
              "    }\n",
              "\n",
              "    [theme=dark] .colab-df-convert {\n",
              "      background-color: #3B4455;\n",
              "      fill: #D2E3FC;\n",
              "    }\n",
              "\n",
              "    [theme=dark] .colab-df-convert:hover {\n",
              "      background-color: #434B5C;\n",
              "      box-shadow: 0px 1px 3px 1px rgba(0, 0, 0, 0.15);\n",
              "      filter: drop-shadow(0px 1px 2px rgba(0, 0, 0, 0.3));\n",
              "      fill: #FFFFFF;\n",
              "    }\n",
              "  </style>\n",
              "\n",
              "      <script>\n",
              "        const buttonEl =\n",
              "          document.querySelector('#df-6f96d670-126b-4fcb-814b-7ed790272b36 button.colab-df-convert');\n",
              "        buttonEl.style.display =\n",
              "          google.colab.kernel.accessAllowed ? 'block' : 'none';\n",
              "\n",
              "        async function convertToInteractive(key) {\n",
              "          const element = document.querySelector('#df-6f96d670-126b-4fcb-814b-7ed790272b36');\n",
              "          const dataTable =\n",
              "            await google.colab.kernel.invokeFunction('convertToInteractive',\n",
              "                                                     [key], {});\n",
              "          if (!dataTable) return;\n",
              "\n",
              "          const docLinkHtml = 'Like what you see? Visit the ' +\n",
              "            '<a target=\"_blank\" href=https://colab.research.google.com/notebooks/data_table.ipynb>data table notebook</a>'\n",
              "            + ' to learn more about interactive tables.';\n",
              "          element.innerHTML = '';\n",
              "          dataTable['output_type'] = 'display_data';\n",
              "          await google.colab.output.renderOutput(dataTable, element);\n",
              "          const docLink = document.createElement('div');\n",
              "          docLink.innerHTML = docLinkHtml;\n",
              "          element.appendChild(docLink);\n",
              "        }\n",
              "      </script>\n",
              "    </div>\n",
              "  </div>\n",
              "  "
            ],
            "text/plain": [
              "                     Name PClass   Age     Sex  Survived\n",
              "1307  Zabour, Miss Tamini    3rd   NaN  female         0\n",
              "1312       Zimmerman, Leo    3rd  29.0    male         0"
            ]
          },
          "metadata": {},
          "execution_count": 74
        }
      ]
    },
    {
      "cell_type": "markdown",
      "source": [
        "**Problem**\n",
        "You want to group individual rows according to some shared value.\n",
        "\n",
        "**Solution**\n",
        "groupby is one of the most powerful features in pandas:"
      ],
      "metadata": {
        "id": "V7l4vxV9_5sC"
      }
    },
    {
      "cell_type": "code",
      "source": [
        "# Load library\n",
        "import pandas as pd\n",
        "# Create URL\n",
        "url = titanic\n",
        "# Load data\n",
        "dataframe = pd.read_csv(url)\n",
        "# Group rows by the values of the column 'Sex', calculate mean\n",
        "# of each group\n",
        "dataframe.groupby('Sex').mean()\n",
        "\n",
        "#"
      ],
      "metadata": {
        "colab": {
          "base_uri": "https://localhost:8080/",
          "height": 143
        },
        "id": "6K1sICzQ_8Bi",
        "outputId": "c9295f9a-01cf-4142-e041-2c0db0c2f30d"
      },
      "execution_count": null,
      "outputs": [
        {
          "output_type": "execute_result",
          "data": {
            "text/html": [
              "\n",
              "  <div id=\"df-b3d521e1-647b-4b73-8ef4-087271ddeab1\">\n",
              "    <div class=\"colab-df-container\">\n",
              "      <div>\n",
              "<style scoped>\n",
              "    .dataframe tbody tr th:only-of-type {\n",
              "        vertical-align: middle;\n",
              "    }\n",
              "\n",
              "    .dataframe tbody tr th {\n",
              "        vertical-align: top;\n",
              "    }\n",
              "\n",
              "    .dataframe thead th {\n",
              "        text-align: right;\n",
              "    }\n",
              "</style>\n",
              "<table border=\"1\" class=\"dataframe\">\n",
              "  <thead>\n",
              "    <tr style=\"text-align: right;\">\n",
              "      <th></th>\n",
              "      <th>Age</th>\n",
              "      <th>Survived</th>\n",
              "    </tr>\n",
              "    <tr>\n",
              "      <th>Sex</th>\n",
              "      <th></th>\n",
              "      <th></th>\n",
              "    </tr>\n",
              "  </thead>\n",
              "  <tbody>\n",
              "    <tr>\n",
              "      <th>female</th>\n",
              "      <td>29.396424</td>\n",
              "      <td>0.666667</td>\n",
              "    </tr>\n",
              "    <tr>\n",
              "      <th>male</th>\n",
              "      <td>31.014338</td>\n",
              "      <td>0.166863</td>\n",
              "    </tr>\n",
              "  </tbody>\n",
              "</table>\n",
              "</div>\n",
              "      <button class=\"colab-df-convert\" onclick=\"convertToInteractive('df-b3d521e1-647b-4b73-8ef4-087271ddeab1')\"\n",
              "              title=\"Convert this dataframe to an interactive table.\"\n",
              "              style=\"display:none;\">\n",
              "        \n",
              "  <svg xmlns=\"http://www.w3.org/2000/svg\" height=\"24px\"viewBox=\"0 0 24 24\"\n",
              "       width=\"24px\">\n",
              "    <path d=\"M0 0h24v24H0V0z\" fill=\"none\"/>\n",
              "    <path d=\"M18.56 5.44l.94 2.06.94-2.06 2.06-.94-2.06-.94-.94-2.06-.94 2.06-2.06.94zm-11 1L8.5 8.5l.94-2.06 2.06-.94-2.06-.94L8.5 2.5l-.94 2.06-2.06.94zm10 10l.94 2.06.94-2.06 2.06-.94-2.06-.94-.94-2.06-.94 2.06-2.06.94z\"/><path d=\"M17.41 7.96l-1.37-1.37c-.4-.4-.92-.59-1.43-.59-.52 0-1.04.2-1.43.59L10.3 9.45l-7.72 7.72c-.78.78-.78 2.05 0 2.83L4 21.41c.39.39.9.59 1.41.59.51 0 1.02-.2 1.41-.59l7.78-7.78 2.81-2.81c.8-.78.8-2.07 0-2.86zM5.41 20L4 18.59l7.72-7.72 1.47 1.35L5.41 20z\"/>\n",
              "  </svg>\n",
              "      </button>\n",
              "      \n",
              "  <style>\n",
              "    .colab-df-container {\n",
              "      display:flex;\n",
              "      flex-wrap:wrap;\n",
              "      gap: 12px;\n",
              "    }\n",
              "\n",
              "    .colab-df-convert {\n",
              "      background-color: #E8F0FE;\n",
              "      border: none;\n",
              "      border-radius: 50%;\n",
              "      cursor: pointer;\n",
              "      display: none;\n",
              "      fill: #1967D2;\n",
              "      height: 32px;\n",
              "      padding: 0 0 0 0;\n",
              "      width: 32px;\n",
              "    }\n",
              "\n",
              "    .colab-df-convert:hover {\n",
              "      background-color: #E2EBFA;\n",
              "      box-shadow: 0px 1px 2px rgba(60, 64, 67, 0.3), 0px 1px 3px 1px rgba(60, 64, 67, 0.15);\n",
              "      fill: #174EA6;\n",
              "    }\n",
              "\n",
              "    [theme=dark] .colab-df-convert {\n",
              "      background-color: #3B4455;\n",
              "      fill: #D2E3FC;\n",
              "    }\n",
              "\n",
              "    [theme=dark] .colab-df-convert:hover {\n",
              "      background-color: #434B5C;\n",
              "      box-shadow: 0px 1px 3px 1px rgba(0, 0, 0, 0.15);\n",
              "      filter: drop-shadow(0px 1px 2px rgba(0, 0, 0, 0.3));\n",
              "      fill: #FFFFFF;\n",
              "    }\n",
              "  </style>\n",
              "\n",
              "      <script>\n",
              "        const buttonEl =\n",
              "          document.querySelector('#df-b3d521e1-647b-4b73-8ef4-087271ddeab1 button.colab-df-convert');\n",
              "        buttonEl.style.display =\n",
              "          google.colab.kernel.accessAllowed ? 'block' : 'none';\n",
              "\n",
              "        async function convertToInteractive(key) {\n",
              "          const element = document.querySelector('#df-b3d521e1-647b-4b73-8ef4-087271ddeab1');\n",
              "          const dataTable =\n",
              "            await google.colab.kernel.invokeFunction('convertToInteractive',\n",
              "                                                     [key], {});\n",
              "          if (!dataTable) return;\n",
              "\n",
              "          const docLinkHtml = 'Like what you see? Visit the ' +\n",
              "            '<a target=\"_blank\" href=https://colab.research.google.com/notebooks/data_table.ipynb>data table notebook</a>'\n",
              "            + ' to learn more about interactive tables.';\n",
              "          element.innerHTML = '';\n",
              "          dataTable['output_type'] = 'display_data';\n",
              "          await google.colab.output.renderOutput(dataTable, element);\n",
              "          const docLink = document.createElement('div');\n",
              "          docLink.innerHTML = docLinkHtml;\n",
              "          element.appendChild(docLink);\n",
              "        }\n",
              "      </script>\n",
              "    </div>\n",
              "  </div>\n",
              "  "
            ],
            "text/plain": [
              "              Age  Survived\n",
              "Sex                        \n",
              "female  29.396424  0.666667\n",
              "male    31.014338  0.166863"
            ]
          },
          "metadata": {},
          "execution_count": 75
        }
      ]
    },
    {
      "cell_type": "markdown",
      "source": [
        "**Discussion**\n",
        "\n",
        "groupby is where data wrangling really starts to take shape. It is very common to have\n",
        "a DataFrame where each row is a person or an event and we want to group them\n",
        "according to some criterion and then calculate a statistic. For example, you can imagine a DataFrame where each row is an individual sale at a national restaurant chain\n",
        "and we want the total sales per restaurant. We can accomplish this by grouping rows\n",
        "by individual resturants and then calculating the sum of each group."
      ],
      "metadata": {
        "id": "_QsPsiHKAJe8"
      }
    },
    {
      "cell_type": "code",
      "source": [
        "# we need to group by something and then apply a function to each of those groups:\n",
        "# Group rows, count rows\n",
        "dataframe.groupby('Survived')['Name'].count()"
      ],
      "metadata": {
        "colab": {
          "base_uri": "https://localhost:8080/"
        },
        "id": "tmgDrV87AMEy",
        "outputId": "b9c244f0-7b6b-4a1d-f0ea-3ee19e0543b9"
      },
      "execution_count": null,
      "outputs": [
        {
          "output_type": "execute_result",
          "data": {
            "text/plain": [
              "Survived\n",
              "0    863\n",
              "1    450\n",
              "Name: Name, dtype: int64"
            ]
          },
          "metadata": {},
          "execution_count": 76
        }
      ]
    },
    {
      "cell_type": "code",
      "source": [
        "# We can also group by a first column, then group that grouping by a second column:\n",
        "# Group rows, calculate mean\n",
        "dataframe.groupby(['Sex','Survived'])['Age'].mean()"
      ],
      "metadata": {
        "colab": {
          "base_uri": "https://localhost:8080/"
        },
        "id": "tAoxnrucAYpz",
        "outputId": "e6d0d1aa-1df1-409a-a77e-d80bdfa143db"
      },
      "execution_count": null,
      "outputs": [
        {
          "output_type": "execute_result",
          "data": {
            "text/plain": [
              "Sex     Survived\n",
              "female  0           24.901408\n",
              "        1           30.867143\n",
              "male    0           32.320780\n",
              "        1           25.951875\n",
              "Name: Age, dtype: float64"
            ]
          },
          "metadata": {},
          "execution_count": 77
        }
      ]
    },
    {
      "cell_type": "markdown",
      "source": [
        "**Problem**\n",
        "You need to group individual rows by time periods.\n",
        "\n",
        "**Solution**\n",
        "Use resample to group rows by chunks of time:"
      ],
      "metadata": {
        "id": "nPP-MgpUAdVF"
      }
    },
    {
      "cell_type": "code",
      "source": [
        "# Load libraries\n",
        "import pandas as pd\n",
        "import numpy as np\n",
        "# Create date range\n",
        "time_index = pd.date_range('06/06/2017', periods=100000, freq='30S')\n",
        "# Create DataFrame\n",
        "dataframe = pd.DataFrame(index=time_index)\n",
        "# Create column of random values\n",
        "dataframe['Sale_Amount'] = np.random.randint(1, 10, 100000)\n",
        "# Group rows by week, calculate sum per week\n",
        "dataframe.resample('W').sum()"
      ],
      "metadata": {
        "colab": {
          "base_uri": "https://localhost:8080/",
          "height": 238
        },
        "id": "Vn1EeBbfAha_",
        "outputId": "7c8774f7-08fb-4953-aea7-916f746b0e5e"
      },
      "execution_count": null,
      "outputs": [
        {
          "output_type": "execute_result",
          "data": {
            "text/html": [
              "\n",
              "  <div id=\"df-da66daca-581f-47b0-bb33-e33fc1289f07\">\n",
              "    <div class=\"colab-df-container\">\n",
              "      <div>\n",
              "<style scoped>\n",
              "    .dataframe tbody tr th:only-of-type {\n",
              "        vertical-align: middle;\n",
              "    }\n",
              "\n",
              "    .dataframe tbody tr th {\n",
              "        vertical-align: top;\n",
              "    }\n",
              "\n",
              "    .dataframe thead th {\n",
              "        text-align: right;\n",
              "    }\n",
              "</style>\n",
              "<table border=\"1\" class=\"dataframe\">\n",
              "  <thead>\n",
              "    <tr style=\"text-align: right;\">\n",
              "      <th></th>\n",
              "      <th>Sale_Amount</th>\n",
              "    </tr>\n",
              "  </thead>\n",
              "  <tbody>\n",
              "    <tr>\n",
              "      <th>2017-06-11</th>\n",
              "      <td>86256</td>\n",
              "    </tr>\n",
              "    <tr>\n",
              "      <th>2017-06-18</th>\n",
              "      <td>100757</td>\n",
              "    </tr>\n",
              "    <tr>\n",
              "      <th>2017-06-25</th>\n",
              "      <td>100945</td>\n",
              "    </tr>\n",
              "    <tr>\n",
              "      <th>2017-07-02</th>\n",
              "      <td>100171</td>\n",
              "    </tr>\n",
              "    <tr>\n",
              "      <th>2017-07-09</th>\n",
              "      <td>101411</td>\n",
              "    </tr>\n",
              "    <tr>\n",
              "      <th>2017-07-16</th>\n",
              "      <td>10494</td>\n",
              "    </tr>\n",
              "  </tbody>\n",
              "</table>\n",
              "</div>\n",
              "      <button class=\"colab-df-convert\" onclick=\"convertToInteractive('df-da66daca-581f-47b0-bb33-e33fc1289f07')\"\n",
              "              title=\"Convert this dataframe to an interactive table.\"\n",
              "              style=\"display:none;\">\n",
              "        \n",
              "  <svg xmlns=\"http://www.w3.org/2000/svg\" height=\"24px\"viewBox=\"0 0 24 24\"\n",
              "       width=\"24px\">\n",
              "    <path d=\"M0 0h24v24H0V0z\" fill=\"none\"/>\n",
              "    <path d=\"M18.56 5.44l.94 2.06.94-2.06 2.06-.94-2.06-.94-.94-2.06-.94 2.06-2.06.94zm-11 1L8.5 8.5l.94-2.06 2.06-.94-2.06-.94L8.5 2.5l-.94 2.06-2.06.94zm10 10l.94 2.06.94-2.06 2.06-.94-2.06-.94-.94-2.06-.94 2.06-2.06.94z\"/><path d=\"M17.41 7.96l-1.37-1.37c-.4-.4-.92-.59-1.43-.59-.52 0-1.04.2-1.43.59L10.3 9.45l-7.72 7.72c-.78.78-.78 2.05 0 2.83L4 21.41c.39.39.9.59 1.41.59.51 0 1.02-.2 1.41-.59l7.78-7.78 2.81-2.81c.8-.78.8-2.07 0-2.86zM5.41 20L4 18.59l7.72-7.72 1.47 1.35L5.41 20z\"/>\n",
              "  </svg>\n",
              "      </button>\n",
              "      \n",
              "  <style>\n",
              "    .colab-df-container {\n",
              "      display:flex;\n",
              "      flex-wrap:wrap;\n",
              "      gap: 12px;\n",
              "    }\n",
              "\n",
              "    .colab-df-convert {\n",
              "      background-color: #E8F0FE;\n",
              "      border: none;\n",
              "      border-radius: 50%;\n",
              "      cursor: pointer;\n",
              "      display: none;\n",
              "      fill: #1967D2;\n",
              "      height: 32px;\n",
              "      padding: 0 0 0 0;\n",
              "      width: 32px;\n",
              "    }\n",
              "\n",
              "    .colab-df-convert:hover {\n",
              "      background-color: #E2EBFA;\n",
              "      box-shadow: 0px 1px 2px rgba(60, 64, 67, 0.3), 0px 1px 3px 1px rgba(60, 64, 67, 0.15);\n",
              "      fill: #174EA6;\n",
              "    }\n",
              "\n",
              "    [theme=dark] .colab-df-convert {\n",
              "      background-color: #3B4455;\n",
              "      fill: #D2E3FC;\n",
              "    }\n",
              "\n",
              "    [theme=dark] .colab-df-convert:hover {\n",
              "      background-color: #434B5C;\n",
              "      box-shadow: 0px 1px 3px 1px rgba(0, 0, 0, 0.15);\n",
              "      filter: drop-shadow(0px 1px 2px rgba(0, 0, 0, 0.3));\n",
              "      fill: #FFFFFF;\n",
              "    }\n",
              "  </style>\n",
              "\n",
              "      <script>\n",
              "        const buttonEl =\n",
              "          document.querySelector('#df-da66daca-581f-47b0-bb33-e33fc1289f07 button.colab-df-convert');\n",
              "        buttonEl.style.display =\n",
              "          google.colab.kernel.accessAllowed ? 'block' : 'none';\n",
              "\n",
              "        async function convertToInteractive(key) {\n",
              "          const element = document.querySelector('#df-da66daca-581f-47b0-bb33-e33fc1289f07');\n",
              "          const dataTable =\n",
              "            await google.colab.kernel.invokeFunction('convertToInteractive',\n",
              "                                                     [key], {});\n",
              "          if (!dataTable) return;\n",
              "\n",
              "          const docLinkHtml = 'Like what you see? Visit the ' +\n",
              "            '<a target=\"_blank\" href=https://colab.research.google.com/notebooks/data_table.ipynb>data table notebook</a>'\n",
              "            + ' to learn more about interactive tables.';\n",
              "          element.innerHTML = '';\n",
              "          dataTable['output_type'] = 'display_data';\n",
              "          await google.colab.output.renderOutput(dataTable, element);\n",
              "          const docLink = document.createElement('div');\n",
              "          docLink.innerHTML = docLinkHtml;\n",
              "          element.appendChild(docLink);\n",
              "        }\n",
              "      </script>\n",
              "    </div>\n",
              "  </div>\n",
              "  "
            ],
            "text/plain": [
              "            Sale_Amount\n",
              "2017-06-11        86256\n",
              "2017-06-18       100757\n",
              "2017-06-25       100945\n",
              "2017-07-02       100171\n",
              "2017-07-09       101411\n",
              "2017-07-16        10494"
            ]
          },
          "metadata": {},
          "execution_count": 78
        }
      ]
    },
    {
      "cell_type": "markdown",
      "source": [
        "**Problem**\n",
        "You want to iterate over every element in a column and apply some action.\n",
        "\n",
        "**Solution**\n",
        "You can treat a pandas column like any other sequence in Python:"
      ],
      "metadata": {
        "id": "DFE1-a1tAuVn"
      }
    },
    {
      "cell_type": "code",
      "source": [
        "# Load library\n",
        "import pandas as pd\n",
        "# Create URL\n",
        "url = titanic\n",
        "# Load data\n",
        "dataframe = pd.read_csv(url)\n",
        "# Print first two names uppercased\n",
        "for name in dataframe['Name'][0:2]:\n",
        " print(name.upper())"
      ],
      "metadata": {
        "colab": {
          "base_uri": "https://localhost:8080/"
        },
        "id": "EqrinflaAwvg",
        "outputId": "1c9dfc13-c0aa-42f7-9277-10e44726c780"
      },
      "execution_count": null,
      "outputs": [
        {
          "output_type": "stream",
          "name": "stdout",
          "text": [
            "ALLEN, MISS ELISABETH WALTON\n",
            "ALLISON, MISS HELEN LORAINE\n"
          ]
        }
      ]
    },
    {
      "cell_type": "code",
      "source": [
        "# use list comprehensions:\n",
        "\n",
        "# Show first two names uppercased\n",
        "[name.upper() for name in dataframe['Name'][0:2]]"
      ],
      "metadata": {
        "colab": {
          "base_uri": "https://localhost:8080/"
        },
        "id": "y2PLWlq8A3Yt",
        "outputId": "11202642-1815-4ef1-f009-d98a36fca033"
      },
      "execution_count": null,
      "outputs": [
        {
          "output_type": "execute_result",
          "data": {
            "text/plain": [
              "['ALLEN, MISS ELISABETH WALTON', 'ALLISON, MISS HELEN LORAINE']"
            ]
          },
          "metadata": {},
          "execution_count": 80
        }
      ]
    },
    {
      "cell_type": "markdown",
      "source": [
        "**Applying a Function Over All Elements in a Column**\n",
        "\n",
        "**Problem**\n",
        "You want to apply some function over all elements in a column.\n",
        "\n",
        "**Solution**\n",
        "Use apply to apply a built-in or custom function on every element in a column:"
      ],
      "metadata": {
        "id": "DkMGKdNlBBQL"
      }
    },
    {
      "cell_type": "code",
      "source": [
        "# Load library\n",
        "import pandas as pd\n",
        "# Create URL\n",
        "url = titanic\n",
        "# Load data\n",
        "dataframe = pd.read_csv(url)\n",
        "# Create function\n",
        "def uppercase(x):\n",
        " return x.upper()\n",
        "# Apply function, show two rows\n",
        "dataframe['Name'].apply(uppercase)[0:2]"
      ],
      "metadata": {
        "colab": {
          "base_uri": "https://localhost:8080/"
        },
        "id": "mpqyZctNBJjf",
        "outputId": "fe40ab1e-8bc6-429a-f832-5bdb0f5bc49f"
      },
      "execution_count": null,
      "outputs": [
        {
          "output_type": "execute_result",
          "data": {
            "text/plain": [
              "0    ALLEN, MISS ELISABETH WALTON\n",
              "1     ALLISON, MISS HELEN LORAINE\n",
              "Name: Name, dtype: object"
            ]
          },
          "metadata": {},
          "execution_count": 81
        }
      ]
    },
    {
      "cell_type": "markdown",
      "source": [
        "**Discussion**\n",
        "\n",
        "apply is a great way to do data cleaning and wrangling. It is common to write a function to perform some useful operation (separate first and last names, convert strings\n",
        "to floats, etc.) and then map that function to every element in a column."
      ],
      "metadata": {
        "id": "F0DNhek7BOKs"
      }
    },
    {
      "cell_type": "markdown",
      "source": [
        "**Applying a Function to Groups**\n",
        "\n",
        "**Problem**\n",
        "You have grouped rows using groupby and want to apply a function to each group.\n",
        "\n",
        "**Solution**\n",
        "Combine groupby and apply:"
      ],
      "metadata": {
        "id": "64xGVlZFBUre"
      }
    },
    {
      "cell_type": "code",
      "source": [
        "# Load library\n",
        "import pandas as pd\n",
        "# Create URL\n",
        "url = titanic\n",
        "# Load data\n",
        "dataframe = pd.read_csv(url)\n",
        "# Group rows, apply function to groups\n",
        "dataframe.groupby('Sex').apply(lambda x: x.count())"
      ],
      "metadata": {
        "colab": {
          "base_uri": "https://localhost:8080/",
          "height": 143
        },
        "id": "ZcP4FuyaBc_-",
        "outputId": "a62af144-e8e3-4d40-e3d1-b667f27b639a"
      },
      "execution_count": null,
      "outputs": [
        {
          "output_type": "execute_result",
          "data": {
            "text/html": [
              "\n",
              "  <div id=\"df-d0970c00-8550-484c-a409-2ec20c21e3b0\">\n",
              "    <div class=\"colab-df-container\">\n",
              "      <div>\n",
              "<style scoped>\n",
              "    .dataframe tbody tr th:only-of-type {\n",
              "        vertical-align: middle;\n",
              "    }\n",
              "\n",
              "    .dataframe tbody tr th {\n",
              "        vertical-align: top;\n",
              "    }\n",
              "\n",
              "    .dataframe thead th {\n",
              "        text-align: right;\n",
              "    }\n",
              "</style>\n",
              "<table border=\"1\" class=\"dataframe\">\n",
              "  <thead>\n",
              "    <tr style=\"text-align: right;\">\n",
              "      <th></th>\n",
              "      <th>Name</th>\n",
              "      <th>PClass</th>\n",
              "      <th>Age</th>\n",
              "      <th>Sex</th>\n",
              "      <th>Survived</th>\n",
              "    </tr>\n",
              "    <tr>\n",
              "      <th>Sex</th>\n",
              "      <th></th>\n",
              "      <th></th>\n",
              "      <th></th>\n",
              "      <th></th>\n",
              "      <th></th>\n",
              "    </tr>\n",
              "  </thead>\n",
              "  <tbody>\n",
              "    <tr>\n",
              "      <th>female</th>\n",
              "      <td>462</td>\n",
              "      <td>462</td>\n",
              "      <td>288</td>\n",
              "      <td>462</td>\n",
              "      <td>462</td>\n",
              "    </tr>\n",
              "    <tr>\n",
              "      <th>male</th>\n",
              "      <td>851</td>\n",
              "      <td>850</td>\n",
              "      <td>468</td>\n",
              "      <td>851</td>\n",
              "      <td>851</td>\n",
              "    </tr>\n",
              "  </tbody>\n",
              "</table>\n",
              "</div>\n",
              "      <button class=\"colab-df-convert\" onclick=\"convertToInteractive('df-d0970c00-8550-484c-a409-2ec20c21e3b0')\"\n",
              "              title=\"Convert this dataframe to an interactive table.\"\n",
              "              style=\"display:none;\">\n",
              "        \n",
              "  <svg xmlns=\"http://www.w3.org/2000/svg\" height=\"24px\"viewBox=\"0 0 24 24\"\n",
              "       width=\"24px\">\n",
              "    <path d=\"M0 0h24v24H0V0z\" fill=\"none\"/>\n",
              "    <path d=\"M18.56 5.44l.94 2.06.94-2.06 2.06-.94-2.06-.94-.94-2.06-.94 2.06-2.06.94zm-11 1L8.5 8.5l.94-2.06 2.06-.94-2.06-.94L8.5 2.5l-.94 2.06-2.06.94zm10 10l.94 2.06.94-2.06 2.06-.94-2.06-.94-.94-2.06-.94 2.06-2.06.94z\"/><path d=\"M17.41 7.96l-1.37-1.37c-.4-.4-.92-.59-1.43-.59-.52 0-1.04.2-1.43.59L10.3 9.45l-7.72 7.72c-.78.78-.78 2.05 0 2.83L4 21.41c.39.39.9.59 1.41.59.51 0 1.02-.2 1.41-.59l7.78-7.78 2.81-2.81c.8-.78.8-2.07 0-2.86zM5.41 20L4 18.59l7.72-7.72 1.47 1.35L5.41 20z\"/>\n",
              "  </svg>\n",
              "      </button>\n",
              "      \n",
              "  <style>\n",
              "    .colab-df-container {\n",
              "      display:flex;\n",
              "      flex-wrap:wrap;\n",
              "      gap: 12px;\n",
              "    }\n",
              "\n",
              "    .colab-df-convert {\n",
              "      background-color: #E8F0FE;\n",
              "      border: none;\n",
              "      border-radius: 50%;\n",
              "      cursor: pointer;\n",
              "      display: none;\n",
              "      fill: #1967D2;\n",
              "      height: 32px;\n",
              "      padding: 0 0 0 0;\n",
              "      width: 32px;\n",
              "    }\n",
              "\n",
              "    .colab-df-convert:hover {\n",
              "      background-color: #E2EBFA;\n",
              "      box-shadow: 0px 1px 2px rgba(60, 64, 67, 0.3), 0px 1px 3px 1px rgba(60, 64, 67, 0.15);\n",
              "      fill: #174EA6;\n",
              "    }\n",
              "\n",
              "    [theme=dark] .colab-df-convert {\n",
              "      background-color: #3B4455;\n",
              "      fill: #D2E3FC;\n",
              "    }\n",
              "\n",
              "    [theme=dark] .colab-df-convert:hover {\n",
              "      background-color: #434B5C;\n",
              "      box-shadow: 0px 1px 3px 1px rgba(0, 0, 0, 0.15);\n",
              "      filter: drop-shadow(0px 1px 2px rgba(0, 0, 0, 0.3));\n",
              "      fill: #FFFFFF;\n",
              "    }\n",
              "  </style>\n",
              "\n",
              "      <script>\n",
              "        const buttonEl =\n",
              "          document.querySelector('#df-d0970c00-8550-484c-a409-2ec20c21e3b0 button.colab-df-convert');\n",
              "        buttonEl.style.display =\n",
              "          google.colab.kernel.accessAllowed ? 'block' : 'none';\n",
              "\n",
              "        async function convertToInteractive(key) {\n",
              "          const element = document.querySelector('#df-d0970c00-8550-484c-a409-2ec20c21e3b0');\n",
              "          const dataTable =\n",
              "            await google.colab.kernel.invokeFunction('convertToInteractive',\n",
              "                                                     [key], {});\n",
              "          if (!dataTable) return;\n",
              "\n",
              "          const docLinkHtml = 'Like what you see? Visit the ' +\n",
              "            '<a target=\"_blank\" href=https://colab.research.google.com/notebooks/data_table.ipynb>data table notebook</a>'\n",
              "            + ' to learn more about interactive tables.';\n",
              "          element.innerHTML = '';\n",
              "          dataTable['output_type'] = 'display_data';\n",
              "          await google.colab.output.renderOutput(dataTable, element);\n",
              "          const docLink = document.createElement('div');\n",
              "          docLink.innerHTML = docLinkHtml;\n",
              "          element.appendChild(docLink);\n",
              "        }\n",
              "      </script>\n",
              "    </div>\n",
              "  </div>\n",
              "  "
            ],
            "text/plain": [
              "        Name  PClass  Age  Sex  Survived\n",
              "Sex                                     \n",
              "female   462     462  288  462       462\n",
              "male     851     850  468  851       851"
            ]
          },
          "metadata": {},
          "execution_count": 82
        }
      ]
    },
    {
      "cell_type": "markdown",
      "source": [
        "**Discussion**\n",
        "\n",
        "By combining groupby and apply we can calculate cus‐\n",
        "tom statistics or apply any function to each group separately"
      ],
      "metadata": {
        "id": "UkhD9MlXBwRZ"
      }
    },
    {
      "cell_type": "markdown",
      "source": [
        "**Problem**\n",
        "You want to concatenate two DataFrames.\n",
        "\n",
        "**Solution**\n",
        "Use concat with axis=0 to concatenate along the row axis:"
      ],
      "metadata": {
        "id": "nEyuDDAuB2Tb"
      }
    },
    {
      "cell_type": "code",
      "source": [
        "# Load library\n",
        "import pandas as pd\n",
        "# Create DataFrame\n",
        "data_a = {'id': ['1', '2', '3'],\n",
        " 'first': ['Alex', 'Amy', 'Allen'],\n",
        " 'last': ['Anderson', 'Ackerman', 'Ali']}\n",
        "dataframe_a = pd.DataFrame(data_a, columns = ['id', 'first', 'last'])\n",
        "# Create DataFrame\n",
        "data_b = {'id': ['4', '5', '6'],\n",
        " 'first': ['Billy', 'Brian', 'Bran'],\n",
        " 'last': ['Bonder', 'Black', 'Balwner']}\n",
        "dataframe_b = pd.DataFrame(data_b, columns = ['id', 'first', 'last'])\n",
        "# Concatenate DataFrames by rows\n",
        "pd.concat([dataframe_a, dataframe_b], axis=0)\n",
        "\n",
        "# You can use axis=1 to concatenate along the column axis:\n",
        "# Concatenate DataFrames by columns\n",
        "pd.concat([dataframe_a, dataframe_b], axis=1)"
      ],
      "metadata": {
        "colab": {
          "base_uri": "https://localhost:8080/",
          "height": 143
        },
        "id": "f8thGEk_B52K",
        "outputId": "4b6958fd-fe46-43f8-e01e-d6bbd4edfcee"
      },
      "execution_count": null,
      "outputs": [
        {
          "output_type": "execute_result",
          "data": {
            "text/html": [
              "\n",
              "  <div id=\"df-07b2f2ce-be0c-4691-bb33-93c64ff14326\">\n",
              "    <div class=\"colab-df-container\">\n",
              "      <div>\n",
              "<style scoped>\n",
              "    .dataframe tbody tr th:only-of-type {\n",
              "        vertical-align: middle;\n",
              "    }\n",
              "\n",
              "    .dataframe tbody tr th {\n",
              "        vertical-align: top;\n",
              "    }\n",
              "\n",
              "    .dataframe thead th {\n",
              "        text-align: right;\n",
              "    }\n",
              "</style>\n",
              "<table border=\"1\" class=\"dataframe\">\n",
              "  <thead>\n",
              "    <tr style=\"text-align: right;\">\n",
              "      <th></th>\n",
              "      <th>id</th>\n",
              "      <th>first</th>\n",
              "      <th>last</th>\n",
              "      <th>id</th>\n",
              "      <th>first</th>\n",
              "      <th>last</th>\n",
              "    </tr>\n",
              "  </thead>\n",
              "  <tbody>\n",
              "    <tr>\n",
              "      <th>0</th>\n",
              "      <td>1</td>\n",
              "      <td>Alex</td>\n",
              "      <td>Anderson</td>\n",
              "      <td>4</td>\n",
              "      <td>Billy</td>\n",
              "      <td>Bonder</td>\n",
              "    </tr>\n",
              "    <tr>\n",
              "      <th>1</th>\n",
              "      <td>2</td>\n",
              "      <td>Amy</td>\n",
              "      <td>Ackerman</td>\n",
              "      <td>5</td>\n",
              "      <td>Brian</td>\n",
              "      <td>Black</td>\n",
              "    </tr>\n",
              "    <tr>\n",
              "      <th>2</th>\n",
              "      <td>3</td>\n",
              "      <td>Allen</td>\n",
              "      <td>Ali</td>\n",
              "      <td>6</td>\n",
              "      <td>Bran</td>\n",
              "      <td>Balwner</td>\n",
              "    </tr>\n",
              "  </tbody>\n",
              "</table>\n",
              "</div>\n",
              "      <button class=\"colab-df-convert\" onclick=\"convertToInteractive('df-07b2f2ce-be0c-4691-bb33-93c64ff14326')\"\n",
              "              title=\"Convert this dataframe to an interactive table.\"\n",
              "              style=\"display:none;\">\n",
              "        \n",
              "  <svg xmlns=\"http://www.w3.org/2000/svg\" height=\"24px\"viewBox=\"0 0 24 24\"\n",
              "       width=\"24px\">\n",
              "    <path d=\"M0 0h24v24H0V0z\" fill=\"none\"/>\n",
              "    <path d=\"M18.56 5.44l.94 2.06.94-2.06 2.06-.94-2.06-.94-.94-2.06-.94 2.06-2.06.94zm-11 1L8.5 8.5l.94-2.06 2.06-.94-2.06-.94L8.5 2.5l-.94 2.06-2.06.94zm10 10l.94 2.06.94-2.06 2.06-.94-2.06-.94-.94-2.06-.94 2.06-2.06.94z\"/><path d=\"M17.41 7.96l-1.37-1.37c-.4-.4-.92-.59-1.43-.59-.52 0-1.04.2-1.43.59L10.3 9.45l-7.72 7.72c-.78.78-.78 2.05 0 2.83L4 21.41c.39.39.9.59 1.41.59.51 0 1.02-.2 1.41-.59l7.78-7.78 2.81-2.81c.8-.78.8-2.07 0-2.86zM5.41 20L4 18.59l7.72-7.72 1.47 1.35L5.41 20z\"/>\n",
              "  </svg>\n",
              "      </button>\n",
              "      \n",
              "  <style>\n",
              "    .colab-df-container {\n",
              "      display:flex;\n",
              "      flex-wrap:wrap;\n",
              "      gap: 12px;\n",
              "    }\n",
              "\n",
              "    .colab-df-convert {\n",
              "      background-color: #E8F0FE;\n",
              "      border: none;\n",
              "      border-radius: 50%;\n",
              "      cursor: pointer;\n",
              "      display: none;\n",
              "      fill: #1967D2;\n",
              "      height: 32px;\n",
              "      padding: 0 0 0 0;\n",
              "      width: 32px;\n",
              "    }\n",
              "\n",
              "    .colab-df-convert:hover {\n",
              "      background-color: #E2EBFA;\n",
              "      box-shadow: 0px 1px 2px rgba(60, 64, 67, 0.3), 0px 1px 3px 1px rgba(60, 64, 67, 0.15);\n",
              "      fill: #174EA6;\n",
              "    }\n",
              "\n",
              "    [theme=dark] .colab-df-convert {\n",
              "      background-color: #3B4455;\n",
              "      fill: #D2E3FC;\n",
              "    }\n",
              "\n",
              "    [theme=dark] .colab-df-convert:hover {\n",
              "      background-color: #434B5C;\n",
              "      box-shadow: 0px 1px 3px 1px rgba(0, 0, 0, 0.15);\n",
              "      filter: drop-shadow(0px 1px 2px rgba(0, 0, 0, 0.3));\n",
              "      fill: #FFFFFF;\n",
              "    }\n",
              "  </style>\n",
              "\n",
              "      <script>\n",
              "        const buttonEl =\n",
              "          document.querySelector('#df-07b2f2ce-be0c-4691-bb33-93c64ff14326 button.colab-df-convert');\n",
              "        buttonEl.style.display =\n",
              "          google.colab.kernel.accessAllowed ? 'block' : 'none';\n",
              "\n",
              "        async function convertToInteractive(key) {\n",
              "          const element = document.querySelector('#df-07b2f2ce-be0c-4691-bb33-93c64ff14326');\n",
              "          const dataTable =\n",
              "            await google.colab.kernel.invokeFunction('convertToInteractive',\n",
              "                                                     [key], {});\n",
              "          if (!dataTable) return;\n",
              "\n",
              "          const docLinkHtml = 'Like what you see? Visit the ' +\n",
              "            '<a target=\"_blank\" href=https://colab.research.google.com/notebooks/data_table.ipynb>data table notebook</a>'\n",
              "            + ' to learn more about interactive tables.';\n",
              "          element.innerHTML = '';\n",
              "          dataTable['output_type'] = 'display_data';\n",
              "          await google.colab.output.renderOutput(dataTable, element);\n",
              "          const docLink = document.createElement('div');\n",
              "          docLink.innerHTML = docLinkHtml;\n",
              "          element.appendChild(docLink);\n",
              "        }\n",
              "      </script>\n",
              "    </div>\n",
              "  </div>\n",
              "  "
            ],
            "text/plain": [
              "  id  first      last id  first     last\n",
              "0  1   Alex  Anderson  4  Billy   Bonder\n",
              "1  2    Amy  Ackerman  5  Brian    Black\n",
              "2  3  Allen       Ali  6   Bran  Balwner"
            ]
          },
          "metadata": {},
          "execution_count": 83
        }
      ]
    },
    {
      "cell_type": "code",
      "source": [
        "#Alternatively we can use append to add a new row to a DataFrame:\n",
        "\n",
        "# Create row\n",
        "row = pd.Series([10, 'Chris', 'Chillon'], index=['id', 'first', 'last'])\n",
        "# Append row\n",
        "dataframe_a.append(row, ignore_index=True)"
      ],
      "metadata": {
        "colab": {
          "base_uri": "https://localhost:8080/",
          "height": 175
        },
        "id": "KWMdr1M5CG52",
        "outputId": "d59fbeda-769e-4ee8-bbea-e44e0daa360b"
      },
      "execution_count": null,
      "outputs": [
        {
          "output_type": "execute_result",
          "data": {
            "text/html": [
              "\n",
              "  <div id=\"df-375d366f-a42f-4a9b-9182-8d8933ef0585\">\n",
              "    <div class=\"colab-df-container\">\n",
              "      <div>\n",
              "<style scoped>\n",
              "    .dataframe tbody tr th:only-of-type {\n",
              "        vertical-align: middle;\n",
              "    }\n",
              "\n",
              "    .dataframe tbody tr th {\n",
              "        vertical-align: top;\n",
              "    }\n",
              "\n",
              "    .dataframe thead th {\n",
              "        text-align: right;\n",
              "    }\n",
              "</style>\n",
              "<table border=\"1\" class=\"dataframe\">\n",
              "  <thead>\n",
              "    <tr style=\"text-align: right;\">\n",
              "      <th></th>\n",
              "      <th>id</th>\n",
              "      <th>first</th>\n",
              "      <th>last</th>\n",
              "    </tr>\n",
              "  </thead>\n",
              "  <tbody>\n",
              "    <tr>\n",
              "      <th>0</th>\n",
              "      <td>1</td>\n",
              "      <td>Alex</td>\n",
              "      <td>Anderson</td>\n",
              "    </tr>\n",
              "    <tr>\n",
              "      <th>1</th>\n",
              "      <td>2</td>\n",
              "      <td>Amy</td>\n",
              "      <td>Ackerman</td>\n",
              "    </tr>\n",
              "    <tr>\n",
              "      <th>2</th>\n",
              "      <td>3</td>\n",
              "      <td>Allen</td>\n",
              "      <td>Ali</td>\n",
              "    </tr>\n",
              "    <tr>\n",
              "      <th>3</th>\n",
              "      <td>10</td>\n",
              "      <td>Chris</td>\n",
              "      <td>Chillon</td>\n",
              "    </tr>\n",
              "  </tbody>\n",
              "</table>\n",
              "</div>\n",
              "      <button class=\"colab-df-convert\" onclick=\"convertToInteractive('df-375d366f-a42f-4a9b-9182-8d8933ef0585')\"\n",
              "              title=\"Convert this dataframe to an interactive table.\"\n",
              "              style=\"display:none;\">\n",
              "        \n",
              "  <svg xmlns=\"http://www.w3.org/2000/svg\" height=\"24px\"viewBox=\"0 0 24 24\"\n",
              "       width=\"24px\">\n",
              "    <path d=\"M0 0h24v24H0V0z\" fill=\"none\"/>\n",
              "    <path d=\"M18.56 5.44l.94 2.06.94-2.06 2.06-.94-2.06-.94-.94-2.06-.94 2.06-2.06.94zm-11 1L8.5 8.5l.94-2.06 2.06-.94-2.06-.94L8.5 2.5l-.94 2.06-2.06.94zm10 10l.94 2.06.94-2.06 2.06-.94-2.06-.94-.94-2.06-.94 2.06-2.06.94z\"/><path d=\"M17.41 7.96l-1.37-1.37c-.4-.4-.92-.59-1.43-.59-.52 0-1.04.2-1.43.59L10.3 9.45l-7.72 7.72c-.78.78-.78 2.05 0 2.83L4 21.41c.39.39.9.59 1.41.59.51 0 1.02-.2 1.41-.59l7.78-7.78 2.81-2.81c.8-.78.8-2.07 0-2.86zM5.41 20L4 18.59l7.72-7.72 1.47 1.35L5.41 20z\"/>\n",
              "  </svg>\n",
              "      </button>\n",
              "      \n",
              "  <style>\n",
              "    .colab-df-container {\n",
              "      display:flex;\n",
              "      flex-wrap:wrap;\n",
              "      gap: 12px;\n",
              "    }\n",
              "\n",
              "    .colab-df-convert {\n",
              "      background-color: #E8F0FE;\n",
              "      border: none;\n",
              "      border-radius: 50%;\n",
              "      cursor: pointer;\n",
              "      display: none;\n",
              "      fill: #1967D2;\n",
              "      height: 32px;\n",
              "      padding: 0 0 0 0;\n",
              "      width: 32px;\n",
              "    }\n",
              "\n",
              "    .colab-df-convert:hover {\n",
              "      background-color: #E2EBFA;\n",
              "      box-shadow: 0px 1px 2px rgba(60, 64, 67, 0.3), 0px 1px 3px 1px rgba(60, 64, 67, 0.15);\n",
              "      fill: #174EA6;\n",
              "    }\n",
              "\n",
              "    [theme=dark] .colab-df-convert {\n",
              "      background-color: #3B4455;\n",
              "      fill: #D2E3FC;\n",
              "    }\n",
              "\n",
              "    [theme=dark] .colab-df-convert:hover {\n",
              "      background-color: #434B5C;\n",
              "      box-shadow: 0px 1px 3px 1px rgba(0, 0, 0, 0.15);\n",
              "      filter: drop-shadow(0px 1px 2px rgba(0, 0, 0, 0.3));\n",
              "      fill: #FFFFFF;\n",
              "    }\n",
              "  </style>\n",
              "\n",
              "      <script>\n",
              "        const buttonEl =\n",
              "          document.querySelector('#df-375d366f-a42f-4a9b-9182-8d8933ef0585 button.colab-df-convert');\n",
              "        buttonEl.style.display =\n",
              "          google.colab.kernel.accessAllowed ? 'block' : 'none';\n",
              "\n",
              "        async function convertToInteractive(key) {\n",
              "          const element = document.querySelector('#df-375d366f-a42f-4a9b-9182-8d8933ef0585');\n",
              "          const dataTable =\n",
              "            await google.colab.kernel.invokeFunction('convertToInteractive',\n",
              "                                                     [key], {});\n",
              "          if (!dataTable) return;\n",
              "\n",
              "          const docLinkHtml = 'Like what you see? Visit the ' +\n",
              "            '<a target=\"_blank\" href=https://colab.research.google.com/notebooks/data_table.ipynb>data table notebook</a>'\n",
              "            + ' to learn more about interactive tables.';\n",
              "          element.innerHTML = '';\n",
              "          dataTable['output_type'] = 'display_data';\n",
              "          await google.colab.output.renderOutput(dataTable, element);\n",
              "          const docLink = document.createElement('div');\n",
              "          docLink.innerHTML = docLinkHtml;\n",
              "          element.appendChild(docLink);\n",
              "        }\n",
              "      </script>\n",
              "    </div>\n",
              "  </div>\n",
              "  "
            ],
            "text/plain": [
              "   id  first      last\n",
              "0   1   Alex  Anderson\n",
              "1   2    Amy  Ackerman\n",
              "2   3  Allen       Ali\n",
              "3  10  Chris   Chillon"
            ]
          },
          "metadata": {},
          "execution_count": 84
        }
      ]
    },
    {
      "cell_type": "markdown",
      "source": [
        "**Problem**\n",
        "You want to merge two DataFrames.\n",
        "\n",
        "**Solution**\n",
        "To inner join, use merge with the on parameter to specify the column to merge on:"
      ],
      "metadata": {
        "id": "1QzxIRYoCM9M"
      }
    },
    {
      "cell_type": "code",
      "source": [
        "# Load library\n",
        "import pandas as pd\n",
        "# Create DataFrame\n",
        "employee_data = {'employee_id': ['1', '2', '3', '4'],\n",
        " 'name': ['Amy Jones', 'Allen Keys', 'Alice Bees',\n",
        " 'Tim Horton']}\n",
        "dataframe_employees = pd.DataFrame(employee_data, columns = ['employee_id',\n",
        " 'name'])\n",
        "# Create DataFrame\n",
        "sales_data = {'employee_id': ['3', '4', '5', '6'],\n",
        " 'total_sales': [23456, 2512, 2345, 1455]}\n",
        "dataframe_sales = pd.DataFrame(sales_data, columns = ['employee_id',\n",
        " 'total_sales'])\n",
        "# Merge DataFrames\n",
        "pd.merge(dataframe_employees, dataframe_sales, on='employee_id')"
      ],
      "metadata": {
        "colab": {
          "base_uri": "https://localhost:8080/",
          "height": 112
        },
        "id": "Ie6dmrDpCRN0",
        "outputId": "c0dbc388-5265-49df-d041-6aef8fb8785c"
      },
      "execution_count": null,
      "outputs": [
        {
          "output_type": "execute_result",
          "data": {
            "text/html": [
              "\n",
              "  <div id=\"df-bbdc2004-b195-4068-ba7b-f598c9251b8e\">\n",
              "    <div class=\"colab-df-container\">\n",
              "      <div>\n",
              "<style scoped>\n",
              "    .dataframe tbody tr th:only-of-type {\n",
              "        vertical-align: middle;\n",
              "    }\n",
              "\n",
              "    .dataframe tbody tr th {\n",
              "        vertical-align: top;\n",
              "    }\n",
              "\n",
              "    .dataframe thead th {\n",
              "        text-align: right;\n",
              "    }\n",
              "</style>\n",
              "<table border=\"1\" class=\"dataframe\">\n",
              "  <thead>\n",
              "    <tr style=\"text-align: right;\">\n",
              "      <th></th>\n",
              "      <th>employee_id</th>\n",
              "      <th>name</th>\n",
              "      <th>total_sales</th>\n",
              "    </tr>\n",
              "  </thead>\n",
              "  <tbody>\n",
              "    <tr>\n",
              "      <th>0</th>\n",
              "      <td>3</td>\n",
              "      <td>Alice Bees</td>\n",
              "      <td>23456</td>\n",
              "    </tr>\n",
              "    <tr>\n",
              "      <th>1</th>\n",
              "      <td>4</td>\n",
              "      <td>Tim Horton</td>\n",
              "      <td>2512</td>\n",
              "    </tr>\n",
              "  </tbody>\n",
              "</table>\n",
              "</div>\n",
              "      <button class=\"colab-df-convert\" onclick=\"convertToInteractive('df-bbdc2004-b195-4068-ba7b-f598c9251b8e')\"\n",
              "              title=\"Convert this dataframe to an interactive table.\"\n",
              "              style=\"display:none;\">\n",
              "        \n",
              "  <svg xmlns=\"http://www.w3.org/2000/svg\" height=\"24px\"viewBox=\"0 0 24 24\"\n",
              "       width=\"24px\">\n",
              "    <path d=\"M0 0h24v24H0V0z\" fill=\"none\"/>\n",
              "    <path d=\"M18.56 5.44l.94 2.06.94-2.06 2.06-.94-2.06-.94-.94-2.06-.94 2.06-2.06.94zm-11 1L8.5 8.5l.94-2.06 2.06-.94-2.06-.94L8.5 2.5l-.94 2.06-2.06.94zm10 10l.94 2.06.94-2.06 2.06-.94-2.06-.94-.94-2.06-.94 2.06-2.06.94z\"/><path d=\"M17.41 7.96l-1.37-1.37c-.4-.4-.92-.59-1.43-.59-.52 0-1.04.2-1.43.59L10.3 9.45l-7.72 7.72c-.78.78-.78 2.05 0 2.83L4 21.41c.39.39.9.59 1.41.59.51 0 1.02-.2 1.41-.59l7.78-7.78 2.81-2.81c.8-.78.8-2.07 0-2.86zM5.41 20L4 18.59l7.72-7.72 1.47 1.35L5.41 20z\"/>\n",
              "  </svg>\n",
              "      </button>\n",
              "      \n",
              "  <style>\n",
              "    .colab-df-container {\n",
              "      display:flex;\n",
              "      flex-wrap:wrap;\n",
              "      gap: 12px;\n",
              "    }\n",
              "\n",
              "    .colab-df-convert {\n",
              "      background-color: #E8F0FE;\n",
              "      border: none;\n",
              "      border-radius: 50%;\n",
              "      cursor: pointer;\n",
              "      display: none;\n",
              "      fill: #1967D2;\n",
              "      height: 32px;\n",
              "      padding: 0 0 0 0;\n",
              "      width: 32px;\n",
              "    }\n",
              "\n",
              "    .colab-df-convert:hover {\n",
              "      background-color: #E2EBFA;\n",
              "      box-shadow: 0px 1px 2px rgba(60, 64, 67, 0.3), 0px 1px 3px 1px rgba(60, 64, 67, 0.15);\n",
              "      fill: #174EA6;\n",
              "    }\n",
              "\n",
              "    [theme=dark] .colab-df-convert {\n",
              "      background-color: #3B4455;\n",
              "      fill: #D2E3FC;\n",
              "    }\n",
              "\n",
              "    [theme=dark] .colab-df-convert:hover {\n",
              "      background-color: #434B5C;\n",
              "      box-shadow: 0px 1px 3px 1px rgba(0, 0, 0, 0.15);\n",
              "      filter: drop-shadow(0px 1px 2px rgba(0, 0, 0, 0.3));\n",
              "      fill: #FFFFFF;\n",
              "    }\n",
              "  </style>\n",
              "\n",
              "      <script>\n",
              "        const buttonEl =\n",
              "          document.querySelector('#df-bbdc2004-b195-4068-ba7b-f598c9251b8e button.colab-df-convert');\n",
              "        buttonEl.style.display =\n",
              "          google.colab.kernel.accessAllowed ? 'block' : 'none';\n",
              "\n",
              "        async function convertToInteractive(key) {\n",
              "          const element = document.querySelector('#df-bbdc2004-b195-4068-ba7b-f598c9251b8e');\n",
              "          const dataTable =\n",
              "            await google.colab.kernel.invokeFunction('convertToInteractive',\n",
              "                                                     [key], {});\n",
              "          if (!dataTable) return;\n",
              "\n",
              "          const docLinkHtml = 'Like what you see? Visit the ' +\n",
              "            '<a target=\"_blank\" href=https://colab.research.google.com/notebooks/data_table.ipynb>data table notebook</a>'\n",
              "            + ' to learn more about interactive tables.';\n",
              "          element.innerHTML = '';\n",
              "          dataTable['output_type'] = 'display_data';\n",
              "          await google.colab.output.renderOutput(dataTable, element);\n",
              "          const docLink = document.createElement('div');\n",
              "          docLink.innerHTML = docLinkHtml;\n",
              "          element.appendChild(docLink);\n",
              "        }\n",
              "      </script>\n",
              "    </div>\n",
              "  </div>\n",
              "  "
            ],
            "text/plain": [
              "  employee_id        name  total_sales\n",
              "0           3  Alice Bees        23456\n",
              "1           4  Tim Horton         2512"
            ]
          },
          "metadata": {},
          "execution_count": 85
        }
      ]
    },
    {
      "cell_type": "code",
      "source": [
        "# merge defaults to inner joins. If we want to do an outer join, we can specify that with the how parameter:\n",
        "\n",
        "# Merge DataFrames\n",
        "pd.merge(dataframe_employees, dataframe_sales, on='employee_id', how='outer')"
      ],
      "metadata": {
        "colab": {
          "base_uri": "https://localhost:8080/",
          "height": 238
        },
        "id": "sqBIcjDACUuq",
        "outputId": "a440a513-0019-4a08-e516-336f7d22e2b4"
      },
      "execution_count": null,
      "outputs": [
        {
          "output_type": "execute_result",
          "data": {
            "text/html": [
              "\n",
              "  <div id=\"df-bd831c68-cac9-45bc-934d-2453ac368802\">\n",
              "    <div class=\"colab-df-container\">\n",
              "      <div>\n",
              "<style scoped>\n",
              "    .dataframe tbody tr th:only-of-type {\n",
              "        vertical-align: middle;\n",
              "    }\n",
              "\n",
              "    .dataframe tbody tr th {\n",
              "        vertical-align: top;\n",
              "    }\n",
              "\n",
              "    .dataframe thead th {\n",
              "        text-align: right;\n",
              "    }\n",
              "</style>\n",
              "<table border=\"1\" class=\"dataframe\">\n",
              "  <thead>\n",
              "    <tr style=\"text-align: right;\">\n",
              "      <th></th>\n",
              "      <th>employee_id</th>\n",
              "      <th>name</th>\n",
              "      <th>total_sales</th>\n",
              "    </tr>\n",
              "  </thead>\n",
              "  <tbody>\n",
              "    <tr>\n",
              "      <th>0</th>\n",
              "      <td>1</td>\n",
              "      <td>Amy Jones</td>\n",
              "      <td>NaN</td>\n",
              "    </tr>\n",
              "    <tr>\n",
              "      <th>1</th>\n",
              "      <td>2</td>\n",
              "      <td>Allen Keys</td>\n",
              "      <td>NaN</td>\n",
              "    </tr>\n",
              "    <tr>\n",
              "      <th>2</th>\n",
              "      <td>3</td>\n",
              "      <td>Alice Bees</td>\n",
              "      <td>23456.0</td>\n",
              "    </tr>\n",
              "    <tr>\n",
              "      <th>3</th>\n",
              "      <td>4</td>\n",
              "      <td>Tim Horton</td>\n",
              "      <td>2512.0</td>\n",
              "    </tr>\n",
              "    <tr>\n",
              "      <th>4</th>\n",
              "      <td>5</td>\n",
              "      <td>NaN</td>\n",
              "      <td>2345.0</td>\n",
              "    </tr>\n",
              "    <tr>\n",
              "      <th>5</th>\n",
              "      <td>6</td>\n",
              "      <td>NaN</td>\n",
              "      <td>1455.0</td>\n",
              "    </tr>\n",
              "  </tbody>\n",
              "</table>\n",
              "</div>\n",
              "      <button class=\"colab-df-convert\" onclick=\"convertToInteractive('df-bd831c68-cac9-45bc-934d-2453ac368802')\"\n",
              "              title=\"Convert this dataframe to an interactive table.\"\n",
              "              style=\"display:none;\">\n",
              "        \n",
              "  <svg xmlns=\"http://www.w3.org/2000/svg\" height=\"24px\"viewBox=\"0 0 24 24\"\n",
              "       width=\"24px\">\n",
              "    <path d=\"M0 0h24v24H0V0z\" fill=\"none\"/>\n",
              "    <path d=\"M18.56 5.44l.94 2.06.94-2.06 2.06-.94-2.06-.94-.94-2.06-.94 2.06-2.06.94zm-11 1L8.5 8.5l.94-2.06 2.06-.94-2.06-.94L8.5 2.5l-.94 2.06-2.06.94zm10 10l.94 2.06.94-2.06 2.06-.94-2.06-.94-.94-2.06-.94 2.06-2.06.94z\"/><path d=\"M17.41 7.96l-1.37-1.37c-.4-.4-.92-.59-1.43-.59-.52 0-1.04.2-1.43.59L10.3 9.45l-7.72 7.72c-.78.78-.78 2.05 0 2.83L4 21.41c.39.39.9.59 1.41.59.51 0 1.02-.2 1.41-.59l7.78-7.78 2.81-2.81c.8-.78.8-2.07 0-2.86zM5.41 20L4 18.59l7.72-7.72 1.47 1.35L5.41 20z\"/>\n",
              "  </svg>\n",
              "      </button>\n",
              "      \n",
              "  <style>\n",
              "    .colab-df-container {\n",
              "      display:flex;\n",
              "      flex-wrap:wrap;\n",
              "      gap: 12px;\n",
              "    }\n",
              "\n",
              "    .colab-df-convert {\n",
              "      background-color: #E8F0FE;\n",
              "      border: none;\n",
              "      border-radius: 50%;\n",
              "      cursor: pointer;\n",
              "      display: none;\n",
              "      fill: #1967D2;\n",
              "      height: 32px;\n",
              "      padding: 0 0 0 0;\n",
              "      width: 32px;\n",
              "    }\n",
              "\n",
              "    .colab-df-convert:hover {\n",
              "      background-color: #E2EBFA;\n",
              "      box-shadow: 0px 1px 2px rgba(60, 64, 67, 0.3), 0px 1px 3px 1px rgba(60, 64, 67, 0.15);\n",
              "      fill: #174EA6;\n",
              "    }\n",
              "\n",
              "    [theme=dark] .colab-df-convert {\n",
              "      background-color: #3B4455;\n",
              "      fill: #D2E3FC;\n",
              "    }\n",
              "\n",
              "    [theme=dark] .colab-df-convert:hover {\n",
              "      background-color: #434B5C;\n",
              "      box-shadow: 0px 1px 3px 1px rgba(0, 0, 0, 0.15);\n",
              "      filter: drop-shadow(0px 1px 2px rgba(0, 0, 0, 0.3));\n",
              "      fill: #FFFFFF;\n",
              "    }\n",
              "  </style>\n",
              "\n",
              "      <script>\n",
              "        const buttonEl =\n",
              "          document.querySelector('#df-bd831c68-cac9-45bc-934d-2453ac368802 button.colab-df-convert');\n",
              "        buttonEl.style.display =\n",
              "          google.colab.kernel.accessAllowed ? 'block' : 'none';\n",
              "\n",
              "        async function convertToInteractive(key) {\n",
              "          const element = document.querySelector('#df-bd831c68-cac9-45bc-934d-2453ac368802');\n",
              "          const dataTable =\n",
              "            await google.colab.kernel.invokeFunction('convertToInteractive',\n",
              "                                                     [key], {});\n",
              "          if (!dataTable) return;\n",
              "\n",
              "          const docLinkHtml = 'Like what you see? Visit the ' +\n",
              "            '<a target=\"_blank\" href=https://colab.research.google.com/notebooks/data_table.ipynb>data table notebook</a>'\n",
              "            + ' to learn more about interactive tables.';\n",
              "          element.innerHTML = '';\n",
              "          dataTable['output_type'] = 'display_data';\n",
              "          await google.colab.output.renderOutput(dataTable, element);\n",
              "          const docLink = document.createElement('div');\n",
              "          docLink.innerHTML = docLinkHtml;\n",
              "          element.appendChild(docLink);\n",
              "        }\n",
              "      </script>\n",
              "    </div>\n",
              "  </div>\n",
              "  "
            ],
            "text/plain": [
              "  employee_id        name  total_sales\n",
              "0           1   Amy Jones          NaN\n",
              "1           2  Allen Keys          NaN\n",
              "2           3  Alice Bees      23456.0\n",
              "3           4  Tim Horton       2512.0\n",
              "4           5         NaN       2345.0\n",
              "5           6         NaN       1455.0"
            ]
          },
          "metadata": {},
          "execution_count": 86
        }
      ]
    },
    {
      "cell_type": "code",
      "source": [
        "# The same parameter can be used to specify left and right joins:\n",
        "\n",
        "# Merge DataFrames\n",
        "pd.merge(dataframe_employees, dataframe_sales, on='employee_id', how='left')"
      ],
      "metadata": {
        "colab": {
          "base_uri": "https://localhost:8080/",
          "height": 175
        },
        "id": "MVc3YzHUCd5x",
        "outputId": "5fef0107-acb7-4b8a-e018-b23eae2642aa"
      },
      "execution_count": null,
      "outputs": [
        {
          "output_type": "execute_result",
          "data": {
            "text/html": [
              "\n",
              "  <div id=\"df-b79a08a5-2ec4-49bf-871f-40cc2ecd9181\">\n",
              "    <div class=\"colab-df-container\">\n",
              "      <div>\n",
              "<style scoped>\n",
              "    .dataframe tbody tr th:only-of-type {\n",
              "        vertical-align: middle;\n",
              "    }\n",
              "\n",
              "    .dataframe tbody tr th {\n",
              "        vertical-align: top;\n",
              "    }\n",
              "\n",
              "    .dataframe thead th {\n",
              "        text-align: right;\n",
              "    }\n",
              "</style>\n",
              "<table border=\"1\" class=\"dataframe\">\n",
              "  <thead>\n",
              "    <tr style=\"text-align: right;\">\n",
              "      <th></th>\n",
              "      <th>employee_id</th>\n",
              "      <th>name</th>\n",
              "      <th>total_sales</th>\n",
              "    </tr>\n",
              "  </thead>\n",
              "  <tbody>\n",
              "    <tr>\n",
              "      <th>0</th>\n",
              "      <td>1</td>\n",
              "      <td>Amy Jones</td>\n",
              "      <td>NaN</td>\n",
              "    </tr>\n",
              "    <tr>\n",
              "      <th>1</th>\n",
              "      <td>2</td>\n",
              "      <td>Allen Keys</td>\n",
              "      <td>NaN</td>\n",
              "    </tr>\n",
              "    <tr>\n",
              "      <th>2</th>\n",
              "      <td>3</td>\n",
              "      <td>Alice Bees</td>\n",
              "      <td>23456.0</td>\n",
              "    </tr>\n",
              "    <tr>\n",
              "      <th>3</th>\n",
              "      <td>4</td>\n",
              "      <td>Tim Horton</td>\n",
              "      <td>2512.0</td>\n",
              "    </tr>\n",
              "  </tbody>\n",
              "</table>\n",
              "</div>\n",
              "      <button class=\"colab-df-convert\" onclick=\"convertToInteractive('df-b79a08a5-2ec4-49bf-871f-40cc2ecd9181')\"\n",
              "              title=\"Convert this dataframe to an interactive table.\"\n",
              "              style=\"display:none;\">\n",
              "        \n",
              "  <svg xmlns=\"http://www.w3.org/2000/svg\" height=\"24px\"viewBox=\"0 0 24 24\"\n",
              "       width=\"24px\">\n",
              "    <path d=\"M0 0h24v24H0V0z\" fill=\"none\"/>\n",
              "    <path d=\"M18.56 5.44l.94 2.06.94-2.06 2.06-.94-2.06-.94-.94-2.06-.94 2.06-2.06.94zm-11 1L8.5 8.5l.94-2.06 2.06-.94-2.06-.94L8.5 2.5l-.94 2.06-2.06.94zm10 10l.94 2.06.94-2.06 2.06-.94-2.06-.94-.94-2.06-.94 2.06-2.06.94z\"/><path d=\"M17.41 7.96l-1.37-1.37c-.4-.4-.92-.59-1.43-.59-.52 0-1.04.2-1.43.59L10.3 9.45l-7.72 7.72c-.78.78-.78 2.05 0 2.83L4 21.41c.39.39.9.59 1.41.59.51 0 1.02-.2 1.41-.59l7.78-7.78 2.81-2.81c.8-.78.8-2.07 0-2.86zM5.41 20L4 18.59l7.72-7.72 1.47 1.35L5.41 20z\"/>\n",
              "  </svg>\n",
              "      </button>\n",
              "      \n",
              "  <style>\n",
              "    .colab-df-container {\n",
              "      display:flex;\n",
              "      flex-wrap:wrap;\n",
              "      gap: 12px;\n",
              "    }\n",
              "\n",
              "    .colab-df-convert {\n",
              "      background-color: #E8F0FE;\n",
              "      border: none;\n",
              "      border-radius: 50%;\n",
              "      cursor: pointer;\n",
              "      display: none;\n",
              "      fill: #1967D2;\n",
              "      height: 32px;\n",
              "      padding: 0 0 0 0;\n",
              "      width: 32px;\n",
              "    }\n",
              "\n",
              "    .colab-df-convert:hover {\n",
              "      background-color: #E2EBFA;\n",
              "      box-shadow: 0px 1px 2px rgba(60, 64, 67, 0.3), 0px 1px 3px 1px rgba(60, 64, 67, 0.15);\n",
              "      fill: #174EA6;\n",
              "    }\n",
              "\n",
              "    [theme=dark] .colab-df-convert {\n",
              "      background-color: #3B4455;\n",
              "      fill: #D2E3FC;\n",
              "    }\n",
              "\n",
              "    [theme=dark] .colab-df-convert:hover {\n",
              "      background-color: #434B5C;\n",
              "      box-shadow: 0px 1px 3px 1px rgba(0, 0, 0, 0.15);\n",
              "      filter: drop-shadow(0px 1px 2px rgba(0, 0, 0, 0.3));\n",
              "      fill: #FFFFFF;\n",
              "    }\n",
              "  </style>\n",
              "\n",
              "      <script>\n",
              "        const buttonEl =\n",
              "          document.querySelector('#df-b79a08a5-2ec4-49bf-871f-40cc2ecd9181 button.colab-df-convert');\n",
              "        buttonEl.style.display =\n",
              "          google.colab.kernel.accessAllowed ? 'block' : 'none';\n",
              "\n",
              "        async function convertToInteractive(key) {\n",
              "          const element = document.querySelector('#df-b79a08a5-2ec4-49bf-871f-40cc2ecd9181');\n",
              "          const dataTable =\n",
              "            await google.colab.kernel.invokeFunction('convertToInteractive',\n",
              "                                                     [key], {});\n",
              "          if (!dataTable) return;\n",
              "\n",
              "          const docLinkHtml = 'Like what you see? Visit the ' +\n",
              "            '<a target=\"_blank\" href=https://colab.research.google.com/notebooks/data_table.ipynb>data table notebook</a>'\n",
              "            + ' to learn more about interactive tables.';\n",
              "          element.innerHTML = '';\n",
              "          dataTable['output_type'] = 'display_data';\n",
              "          await google.colab.output.renderOutput(dataTable, element);\n",
              "          const docLink = document.createElement('div');\n",
              "          docLink.innerHTML = docLinkHtml;\n",
              "          element.appendChild(docLink);\n",
              "        }\n",
              "      </script>\n",
              "    </div>\n",
              "  </div>\n",
              "  "
            ],
            "text/plain": [
              "  employee_id        name  total_sales\n",
              "0           1   Amy Jones          NaN\n",
              "1           2  Allen Keys          NaN\n",
              "2           3  Alice Bees      23456.0\n",
              "3           4  Tim Horton       2512.0"
            ]
          },
          "metadata": {},
          "execution_count": 87
        }
      ]
    },
    {
      "cell_type": "code",
      "source": [
        "# We can also specify the column name in each DataFrame to merge on:\n",
        "\n",
        "# Merge DataFrames\n",
        "pd.merge(dataframe_employees,\n",
        " dataframe_sales,\n",
        " left_on='employee_id',\n",
        " right_on='employee_id')\n",
        "\n",
        "# If instead of merging on two columns we want to merge on the indexes of each Datarame, \n",
        "# we can replace the left_on and right_on parameters with right_index=True and left_index=True."
      ],
      "metadata": {
        "colab": {
          "base_uri": "https://localhost:8080/",
          "height": 112
        },
        "id": "ZfkrKB7qCjO7",
        "outputId": "dad68caa-6fee-4ae2-f9e3-175bfad07162"
      },
      "execution_count": null,
      "outputs": [
        {
          "output_type": "execute_result",
          "data": {
            "text/html": [
              "\n",
              "  <div id=\"df-e502ebf9-6bdf-40f6-aaaa-b3860c524270\">\n",
              "    <div class=\"colab-df-container\">\n",
              "      <div>\n",
              "<style scoped>\n",
              "    .dataframe tbody tr th:only-of-type {\n",
              "        vertical-align: middle;\n",
              "    }\n",
              "\n",
              "    .dataframe tbody tr th {\n",
              "        vertical-align: top;\n",
              "    }\n",
              "\n",
              "    .dataframe thead th {\n",
              "        text-align: right;\n",
              "    }\n",
              "</style>\n",
              "<table border=\"1\" class=\"dataframe\">\n",
              "  <thead>\n",
              "    <tr style=\"text-align: right;\">\n",
              "      <th></th>\n",
              "      <th>employee_id</th>\n",
              "      <th>name</th>\n",
              "      <th>total_sales</th>\n",
              "    </tr>\n",
              "  </thead>\n",
              "  <tbody>\n",
              "    <tr>\n",
              "      <th>0</th>\n",
              "      <td>3</td>\n",
              "      <td>Alice Bees</td>\n",
              "      <td>23456</td>\n",
              "    </tr>\n",
              "    <tr>\n",
              "      <th>1</th>\n",
              "      <td>4</td>\n",
              "      <td>Tim Horton</td>\n",
              "      <td>2512</td>\n",
              "    </tr>\n",
              "  </tbody>\n",
              "</table>\n",
              "</div>\n",
              "      <button class=\"colab-df-convert\" onclick=\"convertToInteractive('df-e502ebf9-6bdf-40f6-aaaa-b3860c524270')\"\n",
              "              title=\"Convert this dataframe to an interactive table.\"\n",
              "              style=\"display:none;\">\n",
              "        \n",
              "  <svg xmlns=\"http://www.w3.org/2000/svg\" height=\"24px\"viewBox=\"0 0 24 24\"\n",
              "       width=\"24px\">\n",
              "    <path d=\"M0 0h24v24H0V0z\" fill=\"none\"/>\n",
              "    <path d=\"M18.56 5.44l.94 2.06.94-2.06 2.06-.94-2.06-.94-.94-2.06-.94 2.06-2.06.94zm-11 1L8.5 8.5l.94-2.06 2.06-.94-2.06-.94L8.5 2.5l-.94 2.06-2.06.94zm10 10l.94 2.06.94-2.06 2.06-.94-2.06-.94-.94-2.06-.94 2.06-2.06.94z\"/><path d=\"M17.41 7.96l-1.37-1.37c-.4-.4-.92-.59-1.43-.59-.52 0-1.04.2-1.43.59L10.3 9.45l-7.72 7.72c-.78.78-.78 2.05 0 2.83L4 21.41c.39.39.9.59 1.41.59.51 0 1.02-.2 1.41-.59l7.78-7.78 2.81-2.81c.8-.78.8-2.07 0-2.86zM5.41 20L4 18.59l7.72-7.72 1.47 1.35L5.41 20z\"/>\n",
              "  </svg>\n",
              "      </button>\n",
              "      \n",
              "  <style>\n",
              "    .colab-df-container {\n",
              "      display:flex;\n",
              "      flex-wrap:wrap;\n",
              "      gap: 12px;\n",
              "    }\n",
              "\n",
              "    .colab-df-convert {\n",
              "      background-color: #E8F0FE;\n",
              "      border: none;\n",
              "      border-radius: 50%;\n",
              "      cursor: pointer;\n",
              "      display: none;\n",
              "      fill: #1967D2;\n",
              "      height: 32px;\n",
              "      padding: 0 0 0 0;\n",
              "      width: 32px;\n",
              "    }\n",
              "\n",
              "    .colab-df-convert:hover {\n",
              "      background-color: #E2EBFA;\n",
              "      box-shadow: 0px 1px 2px rgba(60, 64, 67, 0.3), 0px 1px 3px 1px rgba(60, 64, 67, 0.15);\n",
              "      fill: #174EA6;\n",
              "    }\n",
              "\n",
              "    [theme=dark] .colab-df-convert {\n",
              "      background-color: #3B4455;\n",
              "      fill: #D2E3FC;\n",
              "    }\n",
              "\n",
              "    [theme=dark] .colab-df-convert:hover {\n",
              "      background-color: #434B5C;\n",
              "      box-shadow: 0px 1px 3px 1px rgba(0, 0, 0, 0.15);\n",
              "      filter: drop-shadow(0px 1px 2px rgba(0, 0, 0, 0.3));\n",
              "      fill: #FFFFFF;\n",
              "    }\n",
              "  </style>\n",
              "\n",
              "      <script>\n",
              "        const buttonEl =\n",
              "          document.querySelector('#df-e502ebf9-6bdf-40f6-aaaa-b3860c524270 button.colab-df-convert');\n",
              "        buttonEl.style.display =\n",
              "          google.colab.kernel.accessAllowed ? 'block' : 'none';\n",
              "\n",
              "        async function convertToInteractive(key) {\n",
              "          const element = document.querySelector('#df-e502ebf9-6bdf-40f6-aaaa-b3860c524270');\n",
              "          const dataTable =\n",
              "            await google.colab.kernel.invokeFunction('convertToInteractive',\n",
              "                                                     [key], {});\n",
              "          if (!dataTable) return;\n",
              "\n",
              "          const docLinkHtml = 'Like what you see? Visit the ' +\n",
              "            '<a target=\"_blank\" href=https://colab.research.google.com/notebooks/data_table.ipynb>data table notebook</a>'\n",
              "            + ' to learn more about interactive tables.';\n",
              "          element.innerHTML = '';\n",
              "          dataTable['output_type'] = 'display_data';\n",
              "          await google.colab.output.renderOutput(dataTable, element);\n",
              "          const docLink = document.createElement('div');\n",
              "          docLink.innerHTML = docLinkHtml;\n",
              "          element.appendChild(docLink);\n",
              "        }\n",
              "      </script>\n",
              "    </div>\n",
              "  </div>\n",
              "  "
            ],
            "text/plain": [
              "  employee_id        name  total_sales\n",
              "0           3  Alice Bees        23456\n",
              "1           4  Tim Horton         2512"
            ]
          },
          "metadata": {},
          "execution_count": 88
        }
      ]
    },
    {
      "cell_type": "markdown",
      "source": [
        "**Discussion**\n",
        "\n",
        "Oftentimes, the data we need to use is complex; it doesn’t always come in one piece.\n",
        "Instead in the real world, we’re usually faced with disparate datasets, from multiple\n",
        "database queries or files. To get all that data into one place, we can load each data\n",
        "query or data file into pandas as individual DataFrames and then merge them\n",
        "together into a single DataFrame.\n",
        "\n",
        "This process might be familiar to anyone who has used SQL, a popular language for\n",
        "doing merging operations (called joins). While the exact parameters used by pandas\n",
        "will be different, they follow the same general patterns used by other software lan‐\n",
        "guages and tools.\n",
        "There are three aspects to specify with any merge operation. First, we have to specify\n",
        "the two DataFrames we want to merge together. In the solution we named them data\n",
        "frame_employees and dataframe_sales. Second, we have to specify the name(s) of\n",
        "the columns to merge on—that is, the columns whose values are shared between the\n",
        "two DataFrames. For example, in our solution both DataFrames have a column\n",
        "named employee_id. To merge the two DataFrames we will match up the values in\n",
        "each DataFrame’s employee_id column with each other. If these two columns use the\n",
        "same name, we can use the on parameter. However, if they have different names we\n",
        "can use left_on and right_on.\n",
        "\n",
        "What is the left and right DataFrame? The simple answer is that the left DataFrame is\n",
        "the first one we specified in merge and the right DataFrame is the second one. This\n",
        "language comes up again in the next sets of parameters we will need.\n",
        "The last aspect, and most difficult for some people to grasp, is the type of merge oper‐\n",
        "ation we want to conduct. This is specified by the how parameter. merge supports the\n",
        "four main types of joins:\n",
        "\n",
        "*Inner*\n",
        "\n",
        "Return only the rows that match in both DataFrames (e.g., return any row with\n",
        "an employee_id value appearing in both dataframe_employees and data\n",
        "frame_sales).\n",
        "\n",
        "*Outer*\n",
        "\n",
        "Return all rows in both DataFrames. If a row exists in one DataFrame but not in\n",
        "the other DataFrame, fill NaN values for the missing values (e.g., return all rows\n",
        "in both employee_id and dataframe_sales).\n",
        "\n",
        "*Left*\n",
        "\n",
        "Return all rows from the left DataFrame but only rows from the right DataFrame\n",
        "that matched with the left DataFrame. Fill NaN values for the missing values (e.g.,\n",
        "return all rows from dataframe_employees but only rows from data\n",
        "frame_sales that have a value for employee_id that appears in data\n",
        "frame_employees).\n",
        "\n",
        "*Right*\n",
        "\n",
        "Return all rows from the right DataFrame but only rows from the left DataFrame\n",
        "that matched with the right DataFrame. Fill NaN values for the missing values\n",
        "(e.g., return all rows from dataframe_sales but only rows from dataframe_employees that have a value for employee_id that appears in data\n",
        "frame_sales)."
      ],
      "metadata": {
        "id": "6UjgADldC541"
      }
    },
    {
      "cell_type": "markdown",
      "source": [
        "# **Handling Numerical Data**\n",
        "\n",
        "\n",
        "**Rescaling** \n",
        "\n",
        "is a common preprocessing task in machine learning. Many of the algorithms described later in this book will assume all features are on the same scale, typically 0 to 1 or –1 to 1. \n",
        "\n",
        "There are a number of rescaling techniques, but one of the\n",
        "simplest is called min-max scaling. Min-max scaling uses the minimum and maximum values of a feature to rescale values to within a range. Specifically, min-max calculates:\n",
        "\n",
        "![image.png](data:image/png;base64,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)\n",
        "\n",
        "where x is the feature vector, x’i\n",
        " is an individual element of feature x, and x’i\n",
        " is the rescaled element. In our example, we can see from the outputted array that the feature has been successfully rescaled to between 0 and 1:\n",
        "\n",
        "scikit-learn’s MinMaxScaler offers two options to rescale a feature. One option is to\n",
        "use fit to calculate the minimum and maximum values of the feature, then use trans\n",
        "form to rescale the feature. The second option is to use fit_transform to do both\n",
        "operations at once. There is no mathematical difference between the two options, but\n",
        "there is sometimes a practical benefit to keeping the operations separate because it\n",
        "allows us to apply the same transformation to different sets of the data.\n",
        "\n",
        "**Standardizing a Feature** \n",
        "\n",
        "A common alternative to min-max scaling  is rescaling of fea‐\n",
        "tures to be approximately standard normally distributed. To achieve this, we use\n",
        "standardization to transform the data such that it has a mean, x̄, of 0 and a standard\n",
        "deviation, σ, of 1. Specifically, each element in the feature is transformed so that:\n",
        "![image.png](data:image/png;base64,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)\n",
        "\n",
        "\n",
        "where x’i\n",
        " is our standardized form of xi\n",
        ". The transformed feature represents the num‐\n",
        "ber of standard deviations the original value is away from the feature’s mean value\n",
        "(also called a z-score in statistics).\n",
        "Standardization is a common go-to scaling method for machine learning preprocessing and in my experience is used more than min-max scaling. However, it depends on\n",
        "the learning algorithm. For example, principal component analysis often works better\n",
        "using standardization, while min-max scaling is often recommended for neural networks (both algorithms are discussed later in this book). As a general rule, I’d recommend defaulting to standardization unless you have a specific reason to use an alternative.\n",
        "\n",
        "**Normalizing Observations**\n",
        "\n",
        "Many rescaling methods (e.g., min-max scaling and standardization) operate on features; however, we can also rescale across individual observations. Normalizer\n",
        "rescales the values on individual observations to have unit norm (the sum of their\n",
        "lengths is 1). This type of rescaling is often used when we have many equivalent features (e.g., text classification when every word or n-word group is a feature).\n",
        "Normalizer provides three norm options with Euclidean norm (often called L2)\n",
        "being the default argument:\n",
        "\n",
        "![image.png](data:image/png;base64,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)\n",
        "\n",
        "where x is an individual observation and xn is that observation’s value for the nth feature.\n",
        "\n",
        "\n",
        "Alternatively, we can specify Manhattan norm (L1):\n",
        "\n",
        "![image.png](data:image/png;base64,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)\n",
        "\n",
        "\n",
        "\n",
        "**Generating Polynomial and Interaction Features**\n",
        "Polynomial features are often created when we want to include the notion that there\n",
        "exists a nonlinear relationship between the features and the target. For example, we\n",
        "might suspect that the effect of age on the probability of having a major medical con‐\n",
        "dition is not constant over time but increases as age increases. We can encode that\n",
        "nonconstant effect in a feature, x, by generating that feature’s higher-order forms (x^2,x^3, etc.).\n",
        "\n",
        "Additionally, often we run into situations where the effect of one feature is dependent\n",
        "on another feature. A simple example would be if we were trying to predict whether\n",
        "or not our coffee was sweet and we had two features: 1) whether or not the coffee was\n",
        "stirred and 2) if we added sugar. Individually, each feature does not predict coffee\n",
        "sweetness, but the combination of their effects does. That is, a coffee would only be\n",
        "sweet if the coffee had sugar and was stirred. The effects of each feature on the target\n",
        "(sweetness) are dependent on each other. We can encode that relationship by including an interaction feature that is the product of the individual features.\n",
        "\n",
        "**Transforming Features**\n",
        "\n",
        "It is common to want to make some custom transformations to one or more features.\n",
        "For example, we might want to create a feature that is the natural log of the values of\n",
        "the different feature. We can do this by creating a function and then mapping it to\n",
        "features using either scikit-learn’s FunctionTransformer or pandas’ apply. In the solution we created a very simple function, add_ten, which added 10 to each input, but\n",
        "there is no reason we could not define a much more complex function.\n",
        "\n",
        "**Detecting Outliers**\n",
        "\n",
        "There is no single best technique for detecting outliers. Instead, we have a collection\n",
        "of techniques all with their own advantages and disadvantages. Our best strategy is\n",
        "often trying multiple techniques (e.g., both EllipticEnvelope and IQR-based detec‐\n",
        "tion) and looking at the results as a whole.\n",
        "If at all possible, we should take a look at observations we detect as outliers and try to\n",
        "understand them. For example, if we have a dataset of houses and one feature is number of rooms, is an outlier with 100 rooms really a house or is it actually a hotel that\n",
        "has been misclassified?\n",
        "\n",
        "__________________________________\n"
      ],
      "metadata": {
        "id": "-bviJ8EVDf46"
      }
    },
    {
      "cell_type": "markdown",
      "source": [
        "**Problem**\n",
        "You need to **rescale** the values of a numerical feature to be between two values.\n",
        "\n",
        "**Solution**\n",
        "Use scikit-learn’s MinMaxScaler to rescale a feature array:"
      ],
      "metadata": {
        "id": "VnvUljo9Dk96"
      }
    },
    {
      "cell_type": "code",
      "source": [
        "# Load libraries\n",
        "import numpy as np\n",
        "from sklearn import preprocessing\n",
        "# Create feature\n",
        "feature = np.array([[-500.5],\n",
        " [-100.1],\n",
        " [0],\n",
        " [100.1],\n",
        " [900.9]])\n",
        "# Create scaler\n",
        "minmax_scale = preprocessing.MinMaxScaler(feature_range=(0, 1))\n",
        "\n",
        "# Scale feature\n",
        "scaled_feature = minmax_scale.fit_transform(feature)\n",
        "# Show feature\n",
        "scaled_feature"
      ],
      "metadata": {
        "colab": {
          "base_uri": "https://localhost:8080/"
        },
        "id": "f-rn_A8VC6v2",
        "outputId": "7183f7e8-bf56-446a-dded-107fa9710a29"
      },
      "execution_count": null,
      "outputs": [
        {
          "output_type": "execute_result",
          "data": {
            "text/plain": [
              "array([[0.        ],\n",
              "       [0.28571429],\n",
              "       [0.35714286],\n",
              "       [0.42857143],\n",
              "       [1.        ]])"
            ]
          },
          "metadata": {},
          "execution_count": 89
        }
      ]
    },
    {
      "cell_type": "markdown",
      "source": [
        "**Problem**\n",
        "You want to **transform a feature** to have a mean of 0 and a standard deviation of 1.\n",
        "\n",
        "**Solution**\n",
        "scikit-learn’s StandardScaler performs both transformations:"
      ],
      "metadata": {
        "id": "GH6yh--bE8Vv"
      }
    },
    {
      "cell_type": "code",
      "source": [
        "# Load libraries\n",
        "import numpy as np\n",
        "from sklearn import preprocessing\n",
        "# Create feature\n",
        "x = np.array([[-1000.1],\n",
        " [-200.2],\n",
        " [500.5],\n",
        " [600.6],\n",
        " [9000.9]])\n",
        "# Create scaler\n",
        "scaler = preprocessing.StandardScaler()\n",
        "# Transform the feature\n",
        "standardized = scaler.fit_transform(x)\n",
        "# Show feature\n",
        "standardized"
      ],
      "metadata": {
        "colab": {
          "base_uri": "https://localhost:8080/"
        },
        "id": "AgMGceuEE-UC",
        "outputId": "d8d09e85-21c0-4202-b9de-c9ad71fd8b57"
      },
      "execution_count": null,
      "outputs": [
        {
          "output_type": "execute_result",
          "data": {
            "text/plain": [
              "array([[-0.76058269],\n",
              "       [-0.54177196],\n",
              "       [-0.35009716],\n",
              "       [-0.32271504],\n",
              "       [ 1.97516685]])"
            ]
          },
          "metadata": {},
          "execution_count": 90
        }
      ]
    },
    {
      "cell_type": "code",
      "source": [
        "#We can see the effect of standardization by looking at the mean and standard deviation of our solution’s output:\n",
        "\n",
        "# Print mean and standard deviation\n",
        "print(\"Mean:\", round(standardized.mean()))\n",
        "print(\"Standard deviation:\", standardized.std())"
      ],
      "metadata": {
        "colab": {
          "base_uri": "https://localhost:8080/"
        },
        "id": "Sh1lk94lFEQB",
        "outputId": "65e8aee8-57f0-4225-e4c0-655c938bfffb"
      },
      "execution_count": null,
      "outputs": [
        {
          "output_type": "stream",
          "name": "stdout",
          "text": [
            "Mean: 0\n",
            "Standard deviation: 1.0\n"
          ]
        }
      ]
    },
    {
      "cell_type": "code",
      "source": [
        "#If our data has significant outliers, it can negatively impact our standardization by affecting the feature’s mean and variance. \n",
        "#In this scenario, it is often helpful to instead rescale the feature using the median and quartile range. \n",
        "\n",
        "#In scikit-learn, we do this using the RobustScaler method:\n",
        "\n",
        "# Create scaler\n",
        "robust_scaler = preprocessing.RobustScaler()\n",
        "# Transform feature\n",
        "robust_scaler.fit_transform(x)"
      ],
      "metadata": {
        "colab": {
          "base_uri": "https://localhost:8080/"
        },
        "id": "-2VL_oULFLwi",
        "outputId": "ebacf111-771a-4020-dac4-bbf1dc794166"
      },
      "execution_count": null,
      "outputs": [
        {
          "output_type": "execute_result",
          "data": {
            "text/plain": [
              "array([[-1.87387612],\n",
              "       [-0.875     ],\n",
              "       [ 0.        ],\n",
              "       [ 0.125     ],\n",
              "       [10.61488511]])"
            ]
          },
          "metadata": {},
          "execution_count": 92
        }
      ]
    },
    {
      "cell_type": "markdown",
      "source": [
        "**Problem**\n",
        "You want to rescale the feature values of observations to have unit norm (a total\n",
        "length of 1).\n",
        "\n",
        "\n",
        "**Solution**\n",
        "Use Normalizer with a norm argument:"
      ],
      "metadata": {
        "id": "Df6g7nPoGvJ3"
      }
    },
    {
      "cell_type": "code",
      "source": [
        "# Load libraries\n",
        "import numpy as np\n",
        "from sklearn.preprocessing import Normalizer\n",
        "# Create feature matrix\n",
        "features = np.array([[0.5, 0.5],\n",
        " [1.1, 3.4],\n",
        " [1.5, 20.2],\n",
        " [1.63, 34.4],\n",
        " [10.9, 3.3]])\n",
        "# Create normalizer\n",
        "normalizer = Normalizer(norm=\"l2\")\n",
        "# Transform feature matrix\n",
        "normalizer.transform(features)"
      ],
      "metadata": {
        "colab": {
          "base_uri": "https://localhost:8080/"
        },
        "id": "wS3FTzbUHif2",
        "outputId": "bade84d6-91c3-48b8-b3a4-80aa181dfb12"
      },
      "execution_count": null,
      "outputs": [
        {
          "output_type": "execute_result",
          "data": {
            "text/plain": [
              "array([[0.70710678, 0.70710678],\n",
              "       [0.30782029, 0.95144452],\n",
              "       [0.07405353, 0.99725427],\n",
              "       [0.04733062, 0.99887928],\n",
              "       [0.95709822, 0.28976368]])"
            ]
          },
          "metadata": {},
          "execution_count": 93
        }
      ]
    },
    {
      "cell_type": "code",
      "source": [
        "# Transform feature matrix\n",
        "features_l2_norm = Normalizer(norm=\"l2\").transform(features)\n",
        "# Show feature matrix\n",
        "features_l2_norm"
      ],
      "metadata": {
        "colab": {
          "base_uri": "https://localhost:8080/"
        },
        "id": "WI-h9n2qHpl0",
        "outputId": "30583482-34ad-4584-920c-873313c27130"
      },
      "execution_count": null,
      "outputs": [
        {
          "output_type": "execute_result",
          "data": {
            "text/plain": [
              "array([[0.70710678, 0.70710678],\n",
              "       [0.30782029, 0.95144452],\n",
              "       [0.07405353, 0.99725427],\n",
              "       [0.04733062, 0.99887928],\n",
              "       [0.95709822, 0.28976368]])"
            ]
          },
          "metadata": {},
          "execution_count": 94
        }
      ]
    },
    {
      "cell_type": "code",
      "source": [
        "# Transform feature matrix\n",
        "features_l1_norm = Normalizer(norm=\"l1\").transform(features)\n",
        "# Show feature matrix\n",
        "features_l1_norm\n",
        "\n"
      ],
      "metadata": {
        "colab": {
          "base_uri": "https://localhost:8080/"
        },
        "id": "l1E1Yga8H3oM",
        "outputId": "a1c23ea9-63be-4e8e-9740-ddb615f2d053"
      },
      "execution_count": null,
      "outputs": [
        {
          "output_type": "execute_result",
          "data": {
            "text/plain": [
              "array([[0.5       , 0.5       ],\n",
              "       [0.24444444, 0.75555556],\n",
              "       [0.06912442, 0.93087558],\n",
              "       [0.04524008, 0.95475992],\n",
              "       [0.76760563, 0.23239437]])"
            ]
          },
          "metadata": {},
          "execution_count": 95
        }
      ]
    },
    {
      "cell_type": "code",
      "source": [
        "# Intuitively, L2 norm can be thought of as the distance between two points in New\n",
        "# York for a bird (i.e., a straight line), while L1 can be thought of as the distance for a\n",
        "# human walking on the street (walk north one block, east one block, north one block,\n",
        "# east one block, etc.), which is why it is called “Manhattan norm” or “Taxicab norm.”\n",
        "# Practically, notice that norm='l1' rescales an observation’s values so they sum to 1,\n",
        "# which can sometimes be a desirable quality:\n",
        "\n",
        "# Print sum\n",
        "print(\"Sum of the first observation\\'s values:\",\n",
        " features_l1_norm[0, 0] + features_l1_norm[0, 1])"
      ],
      "metadata": {
        "colab": {
          "base_uri": "https://localhost:8080/"
        },
        "id": "K2BcZFeNIlx3",
        "outputId": "0e1bf22e-ee8b-4c62-fa43-73c6d2f978bc"
      },
      "execution_count": null,
      "outputs": [
        {
          "output_type": "stream",
          "name": "stdout",
          "text": [
            "Sum of the first observation's values: 1.0\n"
          ]
        }
      ]
    },
    {
      "cell_type": "markdown",
      "source": [
        "**Problem**\n",
        "You want to create polynominal and interaction features.\n",
        "\n",
        "\n",
        "**Solution**\n",
        "Even though some choose to create polynomial and interaction features manually,\n",
        "scikit-learn offers a built-in method:\n"
      ],
      "metadata": {
        "id": "-YCccR_sH2Zu"
      }
    },
    {
      "cell_type": "code",
      "source": [
        "# Load libraries\n",
        "import numpy as np\n",
        "from sklearn.preprocessing import PolynomialFeatures\n",
        "# Create feature matrix\n",
        "features = np.array([[2, 3],\n",
        " [2, 3],[2, 3]])\n",
        "\n",
        "# Create PolynomialFeatures object\n",
        "polynomial_interaction = PolynomialFeatures(degree=2, include_bias=False)\n",
        "# Create polynomial features\n",
        "polynomial_interaction.fit_transform(features)\n",
        "\n",
        "# The degree parameter determines the maximum degree of the polynomial. "
      ],
      "metadata": {
        "colab": {
          "base_uri": "https://localhost:8080/"
        },
        "id": "5B9wzJQNI4IW",
        "outputId": "9bd885ec-9215-40bc-b2e1-94c3990d5bee"
      },
      "execution_count": null,
      "outputs": [
        {
          "output_type": "execute_result",
          "data": {
            "text/plain": [
              "array([[2., 3., 4., 6., 9.],\n",
              "       [2., 3., 4., 6., 9.],\n",
              "       [2., 3., 4., 6., 9.]])"
            ]
          },
          "metadata": {},
          "execution_count": 97
        }
      ]
    },
    {
      "cell_type": "code",
      "source": [
        "#Furthermore, by default PolynomialFeatures includes interaction features:\n",
        "#x^1x^2\n",
        "#We can restrict the features created to only interaction features by setting interaction_only to True:\n",
        "\n",
        "interaction = PolynomialFeatures(degree=2,\n",
        "interaction_only=True, include_bias=False)\n",
        "interaction.fit_transform(features)"
      ],
      "metadata": {
        "colab": {
          "base_uri": "https://localhost:8080/"
        },
        "id": "XFDXJngNJJM4",
        "outputId": "4471335e-276a-4456-da60-a460b3bd7794"
      },
      "execution_count": null,
      "outputs": [
        {
          "output_type": "execute_result",
          "data": {
            "text/plain": [
              "array([[2., 3., 6.],\n",
              "       [2., 3., 6.],\n",
              "       [2., 3., 6.]])"
            ]
          },
          "metadata": {},
          "execution_count": 98
        }
      ]
    },
    {
      "cell_type": "markdown",
      "source": [
        "**Problem**\n",
        "You want to make a custom **transformation to one or more features**.\n",
        "\n",
        "**Solution**\n",
        "In scikit-learn, use FunctionTransformer to apply a function to a set of features:"
      ],
      "metadata": {
        "id": "jrztKPeOJbFG"
      }
    },
    {
      "cell_type": "code",
      "source": [
        "# Load libraries\n",
        "import numpy as np\n",
        "from sklearn.preprocessing import FunctionTransformer\n",
        "# Create feature matrix\n",
        "features = np.array([[2, 3],\n",
        " [2, 3],\n",
        " [2, 3]])\n",
        "# Define a simple function\n",
        "def add_ten(x):\n",
        " return x + 10\n",
        "# Create transformer\n",
        "ten_transformer = FunctionTransformer(add_ten)\n",
        "# Transform feature matrix\n",
        "ten_transformer.transform(features)"
      ],
      "metadata": {
        "colab": {
          "base_uri": "https://localhost:8080/"
        },
        "id": "GrAyQMK2JfEA",
        "outputId": "1a3219f1-8468-4c07-b462-3c3d0bb458a1"
      },
      "execution_count": null,
      "outputs": [
        {
          "output_type": "execute_result",
          "data": {
            "text/plain": [
              "array([[12, 13],\n",
              "       [12, 13],\n",
              "       [12, 13]])"
            ]
          },
          "metadata": {},
          "execution_count": 99
        }
      ]
    },
    {
      "cell_type": "code",
      "source": [
        "#We can create the same transformation in pandas using apply:\n",
        "\n",
        "# Load library\n",
        "import pandas as pd\n",
        "# Create DataFrame\n",
        "df = pd.DataFrame(features, columns=[\"feature_1\", \"feature_2\"])\n",
        "\n",
        "# Apply function\n",
        "df.apply(add_ten)"
      ],
      "metadata": {
        "colab": {
          "base_uri": "https://localhost:8080/",
          "height": 143
        },
        "id": "LOlDhcB7JkLf",
        "outputId": "56d1c8be-6259-4022-e7ab-0c50cf29360d"
      },
      "execution_count": null,
      "outputs": [
        {
          "output_type": "execute_result",
          "data": {
            "text/html": [
              "\n",
              "  <div id=\"df-d62f4316-c1e1-4e76-869d-a63f38d0a242\">\n",
              "    <div class=\"colab-df-container\">\n",
              "      <div>\n",
              "<style scoped>\n",
              "    .dataframe tbody tr th:only-of-type {\n",
              "        vertical-align: middle;\n",
              "    }\n",
              "\n",
              "    .dataframe tbody tr th {\n",
              "        vertical-align: top;\n",
              "    }\n",
              "\n",
              "    .dataframe thead th {\n",
              "        text-align: right;\n",
              "    }\n",
              "</style>\n",
              "<table border=\"1\" class=\"dataframe\">\n",
              "  <thead>\n",
              "    <tr style=\"text-align: right;\">\n",
              "      <th></th>\n",
              "      <th>feature_1</th>\n",
              "      <th>feature_2</th>\n",
              "    </tr>\n",
              "  </thead>\n",
              "  <tbody>\n",
              "    <tr>\n",
              "      <th>0</th>\n",
              "      <td>12</td>\n",
              "      <td>13</td>\n",
              "    </tr>\n",
              "    <tr>\n",
              "      <th>1</th>\n",
              "      <td>12</td>\n",
              "      <td>13</td>\n",
              "    </tr>\n",
              "    <tr>\n",
              "      <th>2</th>\n",
              "      <td>12</td>\n",
              "      <td>13</td>\n",
              "    </tr>\n",
              "  </tbody>\n",
              "</table>\n",
              "</div>\n",
              "      <button class=\"colab-df-convert\" onclick=\"convertToInteractive('df-d62f4316-c1e1-4e76-869d-a63f38d0a242')\"\n",
              "              title=\"Convert this dataframe to an interactive table.\"\n",
              "              style=\"display:none;\">\n",
              "        \n",
              "  <svg xmlns=\"http://www.w3.org/2000/svg\" height=\"24px\"viewBox=\"0 0 24 24\"\n",
              "       width=\"24px\">\n",
              "    <path d=\"M0 0h24v24H0V0z\" fill=\"none\"/>\n",
              "    <path d=\"M18.56 5.44l.94 2.06.94-2.06 2.06-.94-2.06-.94-.94-2.06-.94 2.06-2.06.94zm-11 1L8.5 8.5l.94-2.06 2.06-.94-2.06-.94L8.5 2.5l-.94 2.06-2.06.94zm10 10l.94 2.06.94-2.06 2.06-.94-2.06-.94-.94-2.06-.94 2.06-2.06.94z\"/><path d=\"M17.41 7.96l-1.37-1.37c-.4-.4-.92-.59-1.43-.59-.52 0-1.04.2-1.43.59L10.3 9.45l-7.72 7.72c-.78.78-.78 2.05 0 2.83L4 21.41c.39.39.9.59 1.41.59.51 0 1.02-.2 1.41-.59l7.78-7.78 2.81-2.81c.8-.78.8-2.07 0-2.86zM5.41 20L4 18.59l7.72-7.72 1.47 1.35L5.41 20z\"/>\n",
              "  </svg>\n",
              "      </button>\n",
              "      \n",
              "  <style>\n",
              "    .colab-df-container {\n",
              "      display:flex;\n",
              "      flex-wrap:wrap;\n",
              "      gap: 12px;\n",
              "    }\n",
              "\n",
              "    .colab-df-convert {\n",
              "      background-color: #E8F0FE;\n",
              "      border: none;\n",
              "      border-radius: 50%;\n",
              "      cursor: pointer;\n",
              "      display: none;\n",
              "      fill: #1967D2;\n",
              "      height: 32px;\n",
              "      padding: 0 0 0 0;\n",
              "      width: 32px;\n",
              "    }\n",
              "\n",
              "    .colab-df-convert:hover {\n",
              "      background-color: #E2EBFA;\n",
              "      box-shadow: 0px 1px 2px rgba(60, 64, 67, 0.3), 0px 1px 3px 1px rgba(60, 64, 67, 0.15);\n",
              "      fill: #174EA6;\n",
              "    }\n",
              "\n",
              "    [theme=dark] .colab-df-convert {\n",
              "      background-color: #3B4455;\n",
              "      fill: #D2E3FC;\n",
              "    }\n",
              "\n",
              "    [theme=dark] .colab-df-convert:hover {\n",
              "      background-color: #434B5C;\n",
              "      box-shadow: 0px 1px 3px 1px rgba(0, 0, 0, 0.15);\n",
              "      filter: drop-shadow(0px 1px 2px rgba(0, 0, 0, 0.3));\n",
              "      fill: #FFFFFF;\n",
              "    }\n",
              "  </style>\n",
              "\n",
              "      <script>\n",
              "        const buttonEl =\n",
              "          document.querySelector('#df-d62f4316-c1e1-4e76-869d-a63f38d0a242 button.colab-df-convert');\n",
              "        buttonEl.style.display =\n",
              "          google.colab.kernel.accessAllowed ? 'block' : 'none';\n",
              "\n",
              "        async function convertToInteractive(key) {\n",
              "          const element = document.querySelector('#df-d62f4316-c1e1-4e76-869d-a63f38d0a242');\n",
              "          const dataTable =\n",
              "            await google.colab.kernel.invokeFunction('convertToInteractive',\n",
              "                                                     [key], {});\n",
              "          if (!dataTable) return;\n",
              "\n",
              "          const docLinkHtml = 'Like what you see? Visit the ' +\n",
              "            '<a target=\"_blank\" href=https://colab.research.google.com/notebooks/data_table.ipynb>data table notebook</a>'\n",
              "            + ' to learn more about interactive tables.';\n",
              "          element.innerHTML = '';\n",
              "          dataTable['output_type'] = 'display_data';\n",
              "          await google.colab.output.renderOutput(dataTable, element);\n",
              "          const docLink = document.createElement('div');\n",
              "          docLink.innerHTML = docLinkHtml;\n",
              "          element.appendChild(docLink);\n",
              "        }\n",
              "      </script>\n",
              "    </div>\n",
              "  </div>\n",
              "  "
            ],
            "text/plain": [
              "   feature_1  feature_2\n",
              "0         12         13\n",
              "1         12         13\n",
              "2         12         13"
            ]
          },
          "metadata": {},
          "execution_count": 100
        }
      ]
    },
    {
      "cell_type": "markdown",
      "source": [
        "**Problem**\n",
        "You want to identify extreme observations.\n",
        "\n",
        "**Solution**\n",
        "Detecting outliers is unfortunately more of an art than a science. However, a common\n",
        "method is to assume the data is normally distributed and based on that assumption\n",
        "“draw” an ellipse around the data, classifying any observation inside the ellipse as an\n",
        "inlier (labeled as 1) and any observation outside the ellipse as an outlier (labeled as -1):"
      ],
      "metadata": {
        "id": "DFwy9X02KE8-"
      }
    },
    {
      "cell_type": "code",
      "source": [
        "# Load libraries\n",
        "import numpy as np\n",
        "from sklearn.covariance import EllipticEnvelope\n",
        "from sklearn.datasets import make_blobs\n",
        "# Create simulated data\n",
        "features, _ = make_blobs(n_samples = 10,\n",
        " n_features = 2,\n",
        " centers = 1,\n",
        " random_state = 1)\n",
        "# Replace the first observation's values with extreme values\n",
        "features[0,0] = 10000\n",
        "features[0,1] = 10000\n",
        "\n",
        "# Create detector\n",
        "outlier_detector = EllipticEnvelope(contamination=.1)\n",
        "# Fit detector\n",
        "outlier_detector.fit(features)\n",
        "# Predict outliers\n",
        "outlier_detector.predict(features)"
      ],
      "metadata": {
        "colab": {
          "base_uri": "https://localhost:8080/"
        },
        "id": "Wnx337VWKPZO",
        "outputId": "2b12dd2b-3fea-48bd-93ac-51a91f43f8ba"
      },
      "execution_count": null,
      "outputs": [
        {
          "output_type": "execute_result",
          "data": {
            "text/plain": [
              "array([-1,  1,  1,  1,  1,  1,  1,  1,  1,  1])"
            ]
          },
          "metadata": {},
          "execution_count": 101
        }
      ]
    },
    {
      "cell_type": "markdown",
      "source": [
        "A major limitation of this approach is the need to specify a contamination parameter, which is the proportion of observations that are outliers—a value that we don’t\n",
        "know. Think of contamination as our estimate of the cleanliness of our data. If we\n",
        "expect our data to have few outliers, we can set contamination to something small.\n",
        "However, if we believe that the data is very likely to have outliers, we can set it to a\n",
        "higher value.\n",
        "Instead of looking at observations as a whole, we can instead look at individual features and identify extreme values in those features using interquartile range (IQR):\n"
      ],
      "metadata": {
        "id": "dtbyyHt7KlWh"
      }
    },
    {
      "cell_type": "code",
      "source": [
        "# Create one feature\n",
        "feature = features[:,0]\n",
        "# Create a function to return index of outliers\n",
        "def indicies_of_outliers(x):\n",
        " q1, q3 = np.percentile(x, [25, 75])\n",
        " iqr = q3 - q1\n",
        " lower_bound = q1 - (iqr * 1.5)\n",
        " upper_bound = q3 + (iqr * 1.5)\n",
        " return np.where((x > upper_bound) | (x < lower_bound))\n",
        "# Run function\n",
        "indicies_of_outliers(feature)\n",
        "\n",
        "#IQR is the difference between the first and third quartile of a set of data. \n",
        "#You can think of IQR as the spread of the bulk of the data, with outliers being observations far\n",
        "#from the main concentration of data. Outliers are commonly defined as any value 1.5\n",
        "#IQRs less than the first quartile or 1.5 IQRs greater than the third quartile."
      ],
      "metadata": {
        "colab": {
          "base_uri": "https://localhost:8080/"
        },
        "id": "2uqflPDiKsuo",
        "outputId": "6186a704-1570-4aa8-fe38-ae12f6606170"
      },
      "execution_count": null,
      "outputs": [
        {
          "output_type": "execute_result",
          "data": {
            "text/plain": [
              "(array([0]),)"
            ]
          },
          "metadata": {},
          "execution_count": 102
        }
      ]
    }
  ]
}